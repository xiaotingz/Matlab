{
 "cells": [
  {
   "cell_type": "code",
   "execution_count": 2,
   "metadata": {},
   "outputs": [],
   "source": [
    "import pandas as pd\n",
    "import numpy as np\n",
    "import xgboost as xgb\n",
    "from xgboost.sklearn import XGBClassifier\n",
    "from sklearn import metrics\n",
    "from sklearn.model_selection import cross_val_score\n",
    "from sklearn.model_selection import cross_validate\n",
    "from sklearn.model_selection import train_test_split\n",
    "from sklearn.metrics import confusion_matrix\n",
    "from sklearn.metrics import classification_report\n",
    "from sklearn.metrics import r2_score\n",
    "\n",
    "import matplotlib.pylab as plt\n",
    "import seaborn as sns\n",
    "%matplotlib inline\n",
    "\n",
    "energy_grad = pd.read_csv('/Users/xiaotingzhong/Desktop/Datas/Ni_an4_5/data_matlab/190621_features_energygrad.txt')\n",
    "geo_topo = pd.read_csv('/Users/xiaotingzhong/Desktop/Datas/Ni_an4_5/data_matlab/190621_features_geo_topo.txt')\n",
    "other = pd.read_csv('/Users/xiaotingzhong/Desktop/Datas/Ni_an4_5/data_matlab/190621_features_otherinfo.txt')\n",
    "\n",
    "energy_grad.columns = energy_grad.columns.str.strip()\n",
    "geo_topo.columns = geo_topo.columns.str.strip()\n",
    "other.columns = other.columns.str.strip()\n",
    "\n",
    "geo_topo = geo_topo.astype('float')\n",
    "other = other.astype('float')\n",
    "\n"
   ]
  },
  {
   "cell_type": "code",
   "execution_count": 3,
   "metadata": {},
   "outputs": [],
   "source": [
    "# neigh_pos_frac = pd.read_csv('/Users/xiaotingzhong/Desktop/Datas/Ni_an4_5/data_matlab/190531_neighfrac_pos_an4.txt', names=['neigh_pos_frac'])\n",
    "# geo_topo = pd.concat([geo_topo, neigh_pos_frac], axis=1)\n",
    "# geo_topo.info()\n",
    "\n",
    "an4_face_centro = pd.read_csv('/Users/xiaotingzhong/Desktop/Datas/Ni_an4_5/data_matlab/190425_an4_face_centroids.csv', names=['x', 'y', 'z'])\n",
    "\n"
   ]
  },
  {
   "cell_type": "code",
   "execution_count": 3,
   "metadata": {},
   "outputs": [],
   "source": [
    "def plotConfusionMatrix(y_true, y_pred, classes,\n",
    "                          normalize=True,\n",
    "                          title=None,\n",
    "                          rotate_xlabel=False,\n",
    "                          cmap=plt.cm.Blues):\n",
    "    \"\"\"\n",
    "    This function prints and plots the confusion matrix.\n",
    "    Normalization can be applied by setting `normalize=True`.\n",
    "    \"\"\"\n",
    "#     if not title:\n",
    "#         if normalize:\n",
    "#             title = 'Normalized confusion matrix'\n",
    "#         else:\n",
    "#             title = 'Confusion matrix, without normalization'\n",
    "\n",
    "    # Compute confusion matrix\n",
    "    cm = confusion_matrix(y_true, y_pred)\n",
    "    if normalize:\n",
    "        cm = cm.astype('float') / cm.sum(axis=1)[:, np.newaxis]\n",
    "\n",
    "    fig, ax = plt.subplots()\n",
    "    im = ax.imshow(cm, interpolation='nearest', cmap=cmap)\n",
    "    ax.figure.colorbar(im, ax=ax)\n",
    "    # We want to show all ticks...\n",
    "    ax.set(xticks=np.arange(cm.shape[1]),\n",
    "           yticks=np.arange(cm.shape[0]),\n",
    "           # ... and label them with the respective list entries\n",
    "           xticklabels=classes, yticklabels=classes,\n",
    "           ylabel='True label',\n",
    "           xlabel='Predicted label')\n",
    "\n",
    "    # Rotate the tick labels and set their alignment.\n",
    "    if rotate_xlabel:\n",
    "        plt.setp(ax.get_xticklabels(), rotation=45, ha=\"right\",\n",
    "             rotation_mode=\"anchor\")\n",
    "\n",
    "    # Loop over data dimensions and create text annotations.\n",
    "    fmt = '.2f' if normalize else 'd'\n",
    "    thresh = cm.max() / 2.\n",
    "    for i in range(cm.shape[0]):\n",
    "        for j in range(cm.shape[1]):\n",
    "            ax.text(j, i, format(cm[i, j], fmt),\n",
    "                    ha=\"center\", va=\"center\",\n",
    "                    color=\"white\" if cm[i, j] > thresh else \"black\")\n",
    "    fig.tight_layout()\n",
    "    \n",
    "    # save figure\n",
    "    if title:\n",
    "        plt.savefig(title, dpi=300, bbox_inches=\"tight\")\n",
    "    \n",
    "    return ax\n",
    "\n",
    "\n",
    "def plotCorrelationMatrix(df, title=None):\n",
    "    # Create Correlation df\n",
    "    corr = df.corr()\n",
    "    # Plot figsize\n",
    "    fig, ax = plt.subplots(figsize=(36, 36))\n",
    "\n",
    "    # Drop self-correlations\n",
    "    dropSelf = np.zeros_like(corr)\n",
    "    dropSelf[np.triu_indices_from(dropSelf)] = True\n",
    "    # Generate Heat Map, allow annotations and place floats in map\n",
    "    sns.heatmap(corr, cmap=\"Blues\", annot=True, fmt=\".2f\", mask=dropSelf, square=True)\n",
    "    # Apply xticks\n",
    "    plt.xticks(range(len(corr.columns)), corr.columns, size = 16)\n",
    "    # Apply yticks\n",
    "    plt.yticks(range(len(corr.columns)), corr.columns, size = 16)\n",
    "    \n",
    "    plt.setp(ax.get_xticklabels(), rotation=45, ha=\"right\",\n",
    "             rotation_mode=\"anchor\")\n",
    "    \n",
    "    # save figure\n",
    "    if title:\n",
    "        plt.savefig(title, dpi=300, bbox_inches=\"tight\")\n",
    "    \n",
    "    # show plot\n",
    "    plt.show()\n",
    "\n",
    "    \n",
    "def plotFeatureImportance(feature_importance, names, title = None):\n",
    "    fig, ax = plt.subplots(figsize=(15, 6))\n",
    "    plt.bar(range(len(feature_importance)), feature_importance)\n",
    "    plt.yticks(fontsize=16)\n",
    "    plt.xticks(range(len(feature_importance)), names.values, size = 16)\n",
    "    plt.setp(ax.get_xticklabels(), rotation=45, ha=\"right\",\n",
    "         rotation_mode=\"anchor\")\n",
    "    if title:\n",
    "        plt.savefig(title, dpi=300, bbox_inches=\"tight\")\n",
    "\n",
    "def plotForwardSelection(train_score, test_score, feature_names, title=None):\n",
    "    fig = plt.figure()\n",
    "    ax1 = fig.add_subplot(111)\n",
    "    ax2 = ax1.twiny()\n",
    "\n",
    "    x_axis = np.arange(len(train_score))+1\n",
    "    ax1.plot(x_axis, train_score, '-o', color = 'k', label='train')\n",
    "    ax1.plot(x_axis, test_score, '-o', color = 'r', label='test')\n",
    "    ax1.set_xlabel('$\\#$ Features',  usetex=True, size=16)\n",
    "    ax1.set_ylabel('Ajusted $R^2$', usetex=True, size=16)\n",
    "    ax1.tick_params(axis='both', which='major', labelsize=12)\n",
    "    ax2.set_xlim(ax1.get_xlim())\n",
    "    ax2.set_xticks(x_axis)\n",
    "    ax2.set_xticklabels(feature_names)\n",
    "    plt.setp(ax2.get_xticklabels(), rotation=45, ha=\"left\",\n",
    "             rotation_mode=\"anchor\")\n",
    "    ax1.legend()\n",
    "    \n",
    "    if title:\n",
    "        plt.savefig(title, dpi=300, bbox_inches=\"tight\")\n",
    "        \n",
    "    # plt.ylim((0, 0.3)) \n",
    "    plt.show()\n",
    "    "
   ]
  },
  {
   "cell_type": "markdown",
   "metadata": {},
   "source": [
    "### EDA\n",
    "- If using dihedral angles, then need to filter out nans"
   ]
  },
  {
   "cell_type": "code",
   "execution_count": 6,
   "metadata": {},
   "outputs": [],
   "source": [
    "data = pd.concat([geo_topo.iloc[:,[0,1,2,5,6,7]], geo_topo.iloc[:,[10,11,3,4,8,9]], other], axis=1)\n",
    "# data.columns = np.insert(data.columns[1:].values, [0], 'mig_left')\n",
    "# data = data.mask(~other['not_twin_an4'].astype(bool))\n",
    "\n",
    "\n",
    "# data_normed =  data / data.max(axis=0) * 10\n",
    "# plotCorrelationMatrix(data_normed, 'corr')\n"
   ]
  },
  {
   "cell_type": "code",
   "execution_count": 37,
   "metadata": {},
   "outputs": [
    {
     "name": "stdout",
     "output_type": "stream",
     "text": [
      "<class 'pandas.core.frame.DataFrame'>\n",
      "RangeIndex: 6942 entries, 0 to 6941\n",
      "Data columns (total 12 columns):\n",
      "A_an4                6942 non-null float64\n",
      "fMs_an4              6942 non-null float64\n",
      "avg_FabsavgH_an4     6939 non-null float64\n",
      "C_an4                6942 non-null float64\n",
      "CnnC_an4             6942 non-null float64\n",
      "A_diff               6942 non-null float64\n",
      "fMs_diff             6942 non-null float64\n",
      "avg_FabsavgH_diff    6937 non-null float64\n",
      "C_diff               6942 non-null float64\n",
      "CnnC_diff            6940 non-null float64\n",
      "nnG_favg_diff        6942 non-null float64\n",
      "nnG_fmax_diff        6942 non-null float64\n",
      "dtypes: float64(12)\n",
      "memory usage: 650.9 KB\n"
     ]
    }
   ],
   "source": [
    "geo_topo.info()"
   ]
  },
  {
   "cell_type": "markdown",
   "metadata": {},
   "source": [
    "# Linear Regression\n",
    "- Best Subset, Forward Selection, or Lasso? (Ryan J. Tibshirani)\n",
    "    - Best subset selection and forward selection usually perform similarly.\n",
    "    - Lasso is preferred if low signal-to-noise ratio (SNR); Best subset if high SNR."
   ]
  },
  {
   "cell_type": "markdown",
   "metadata": {},
   "source": [
    "### Linear Regression, Vanilla\n",
    "- adjusted R2 https://xavierbourretsicotte.github.io/subset_selection.html"
   ]
  },
  {
   "cell_type": "code",
   "execution_count": 14,
   "metadata": {},
   "outputs": [
    {
     "ename": "NameError",
     "evalue": "name 'sm' is not defined",
     "output_type": "error",
     "traceback": [
      "\u001b[0;31m---------------------------------------------------------------------------\u001b[0m",
      "\u001b[0;31mNameError\u001b[0m                                 Traceback (most recent call last)",
      "\u001b[0;32m<ipython-input-14-4f8b597859f8>\u001b[0m in \u001b[0;36m<module>\u001b[0;34m()\u001b[0m\n\u001b[1;32m     15\u001b[0m \u001b[0;31m# X = sm.add_constant(X)\u001b[0m\u001b[0;34m\u001b[0m\u001b[0;34m\u001b[0m\u001b[0m\n\u001b[1;32m     16\u001b[0m \u001b[0;31m# model = sm.OLS(y_train, X_train).fit()\u001b[0m\u001b[0;34m\u001b[0m\u001b[0;34m\u001b[0m\u001b[0m\n\u001b[0;32m---> 17\u001b[0;31m \u001b[0mX_train_selected\u001b[0m \u001b[0;34m=\u001b[0m \u001b[0msm\u001b[0m\u001b[0;34m.\u001b[0m\u001b[0madd_constant\u001b[0m\u001b[0;34m(\u001b[0m\u001b[0mX_train\u001b[0m\u001b[0;34m[\u001b[0m\u001b[0mselected\u001b[0m\u001b[0;34m]\u001b[0m\u001b[0;34m)\u001b[0m\u001b[0;34m\u001b[0m\u001b[0m\n\u001b[0m\u001b[1;32m     18\u001b[0m \u001b[0mX_test_selected\u001b[0m \u001b[0;34m=\u001b[0m \u001b[0msm\u001b[0m\u001b[0;34m.\u001b[0m\u001b[0madd_constant\u001b[0m\u001b[0;34m(\u001b[0m\u001b[0mX_test\u001b[0m\u001b[0;34m[\u001b[0m\u001b[0mselected\u001b[0m\u001b[0;34m]\u001b[0m\u001b[0;34m)\u001b[0m\u001b[0;34m\u001b[0m\u001b[0m\n\u001b[1;32m     19\u001b[0m \u001b[0mmodel\u001b[0m \u001b[0;34m=\u001b[0m \u001b[0msm\u001b[0m\u001b[0;34m.\u001b[0m\u001b[0mOLS\u001b[0m\u001b[0;34m(\u001b[0m\u001b[0my_train\u001b[0m\u001b[0;34m,\u001b[0m \u001b[0mX_train_selected\u001b[0m\u001b[0;34m)\u001b[0m\u001b[0;34m.\u001b[0m\u001b[0mfit\u001b[0m\u001b[0;34m(\u001b[0m\u001b[0;34m)\u001b[0m\u001b[0;34m\u001b[0m\u001b[0m\n",
      "\u001b[0;31mNameError\u001b[0m: name 'sm' is not defined"
     ]
    }
   ],
   "source": [
    "# import statsmodels.api as sm\n",
    "# from sklearn.metrics import r2_score\n",
    "\n",
    "# # ----- normalization -----\n",
    "# data =  data / data.max(axis=0) * 10\n",
    "\n",
    "# # ----- X & y -----\n",
    "# X = data.drop(['A_diff', 'fMs_diff'], axis=1)\n",
    "# y = np.abs(data['A_diff'])\n",
    "# X_train, X_test, y_train, y_test = train_test_split(X, y, test_size=0.2, random_state=0)\n",
    "\n",
    "# ----- fit model -----\n",
    "# X_train = sm.add_constant(X_train) # adding a constant\n",
    "# X_test = sm.add_constant(X_test)\n",
    "# X = sm.add_constant(X)\n",
    "# model = sm.OLS(y_train, X_train).fit()\n",
    "X_train_selected = sm.add_constant(X_train[selected])\n",
    "X_test_selected = sm.add_constant(X_test[selected])\n",
    "model = sm.OLS(y_train, X_train_selected).fit()\n",
    "\n",
    "# ----- print results -----\n",
    "predictions = model.predict(X_test_selected) \n",
    "r2_test = r2_score(y_test, predictions)\n",
    "m = float(X_test.shape[0])\n",
    "k = float(X_test.shape[1])\n",
    "r2_adjusted_test = 1 - (1-r2_test)*((m-1)/(m-k-1))\n",
    "print r2_test\n",
    "print r2_adjusted_test\n",
    "\n",
    "model.summary()\n",
    "\n",
    "\n",
    "\n"
   ]
  },
  {
   "cell_type": "code",
   "execution_count": null,
   "metadata": {},
   "outputs": [],
   "source": []
  },
  {
   "cell_type": "markdown",
   "metadata": {},
   "source": [
    "### Linear Regression, Lasso"
   ]
  },
  {
   "cell_type": "code",
   "execution_count": 6,
   "metadata": {},
   "outputs": [
    {
     "name": "stdout",
     "output_type": "stream",
     "text": [
      "train,  R2 = 0.014 ;  adjusted R2 = 0.008\n",
      "test, R2 = -0.026 ;  adjusted R2 = -0.052\n"
     ]
    }
   ],
   "source": [
    "from sklearn.linear_model import Lasso\n",
    "\n",
    "# y = energy_grad.iloc[:, 0]\n",
    "# X = energy_grad.iloc[:, 1:]\n",
    "\n",
    "# ----- entire data -----\n",
    "# y = np.abs(data['A_diff'])\n",
    "# X = data.drop(['A_diff', 'fMs_diff'], axis=1)\n",
    "# # X = data.iloc[:, :6]\n",
    "# # X = pd.concat([data.iloc[:, :17], data.iloc[:, -6:]], axis=1)\n",
    "# X = X / X.max(axis=0) * 10\n",
    "# lasso = Lasso(alpha=1)\n",
    "# lasso.fit(X, y)\n",
    "# print lasso.score(X, y)\n",
    "\n",
    "# ----- forward selected features, train & test -----\n",
    "# y = data['A_diff']\n",
    "# X = data.drop(['A_diff', 'fMs_diff'], axis=1)\n",
    "y = data['size_diff']\n",
    "X = data.drop(['size_diff'], axis=1)\n",
    "X = X / X.max(axis=0) *10\n",
    "X_train, X_test, y_train, y_test = train_test_split(X, y, test_size=0.2, random_state=2)\n",
    "\n",
    "lasso = Lasso(alpha=1)\n",
    "lasso.fit(X_train, y_train)\n",
    "\n",
    "r2 = lasso.score(X_train, y_train)\n",
    "r2_train = r2_score(y_train, lasso.predict(X_train))\n",
    "r2_test = r2_score(y_test, lasso.predict(X_test))\n",
    "\n",
    "m_train = float(X_train.shape[0])\n",
    "m_test = float(X_test.shape[0])\n",
    "k = float(X_test.shape[1])\n",
    "r2_adjust_train = 1 - (1-r2_train)*((m_train-1)/(m_train-k-1))\n",
    "r2_adjust_test = 1 - (1-r2_test)*((m_test-1)/(m_test-k-1))\n",
    "\n",
    "print 'train, ', 'R2 =', np.round(r2_train, 3), ';  adjusted R2 =', np.round(r2_adjust_train, 3)\n",
    "print 'test,', 'R2 =', np.round(r2_test, 3), ';  adjusted R2 =', np.round(r2_adjust_test, 3)\n",
    "\n"
   ]
  },
  {
   "cell_type": "code",
   "execution_count": 10,
   "metadata": {},
   "outputs": [
    {
     "ename": "NameError",
     "evalue": "name 'plotFeatureImportance' is not defined",
     "output_type": "error",
     "traceback": [
      "\u001b[0;31m---------------------------------------------------------------------------\u001b[0m",
      "\u001b[0;31mNameError\u001b[0m                                 Traceback (most recent call last)",
      "\u001b[0;32m<ipython-input-10-61a648a80a73>\u001b[0m in \u001b[0;36m<module>\u001b[0;34m()\u001b[0m\n\u001b[1;32m      1\u001b[0m \u001b[0;31m# plotCorrelationMatrixHalf(pd.concat([dfms, X_dfms, geo_topo.C_diff], axis=1), 'dFMs_corr.png')\u001b[0m\u001b[0;34m\u001b[0m\u001b[0;34m\u001b[0m\u001b[0m\n\u001b[1;32m      2\u001b[0m \u001b[0;34m\u001b[0m\u001b[0m\n\u001b[0;32m----> 3\u001b[0;31m \u001b[0mplotFeatureImportance\u001b[0m\u001b[0;34m(\u001b[0m\u001b[0mlasso\u001b[0m\u001b[0;34m.\u001b[0m\u001b[0mcoef_\u001b[0m\u001b[0;34m,\u001b[0m \u001b[0mX\u001b[0m\u001b[0;34m.\u001b[0m\u001b[0mcolumns\u001b[0m\u001b[0;34m,\u001b[0m \u001b[0;34m'A_diff_Lasso'\u001b[0m\u001b[0;34m)\u001b[0m\u001b[0;34m\u001b[0m\u001b[0m\n\u001b[0m\u001b[1;32m      4\u001b[0m \u001b[0mnp\u001b[0m\u001b[0;34m.\u001b[0m\u001b[0msavetxt\u001b[0m\u001b[0;34m(\u001b[0m\u001b[0;34m'_coefs.txt'\u001b[0m\u001b[0;34m,\u001b[0m \u001b[0mlasso\u001b[0m\u001b[0;34m.\u001b[0m\u001b[0mcoef_\u001b[0m\u001b[0;34m,\u001b[0m \u001b[0mdelimiter\u001b[0m\u001b[0;34m=\u001b[0m\u001b[0;34m','\u001b[0m\u001b[0;34m)\u001b[0m\u001b[0;34m\u001b[0m\u001b[0m\n\u001b[1;32m      5\u001b[0m \u001b[0mnp\u001b[0m\u001b[0;34m.\u001b[0m\u001b[0msavetxt\u001b[0m\u001b[0;34m(\u001b[0m\u001b[0;34m'_feature_names.txt'\u001b[0m\u001b[0;34m,\u001b[0m \u001b[0mX\u001b[0m\u001b[0;34m.\u001b[0m\u001b[0mcolumns\u001b[0m\u001b[0;34m,\u001b[0m \u001b[0mdelimiter\u001b[0m\u001b[0;34m=\u001b[0m\u001b[0;34m','\u001b[0m\u001b[0;34m,\u001b[0m \u001b[0mfmt\u001b[0m\u001b[0;34m=\u001b[0m\u001b[0;34m'%20s'\u001b[0m\u001b[0;34m)\u001b[0m\u001b[0;34m\u001b[0m\u001b[0m\n",
      "\u001b[0;31mNameError\u001b[0m: name 'plotFeatureImportance' is not defined"
     ]
    }
   ],
   "source": [
    "# plotCorrelationMatrixHalf(pd.concat([dfms, X_dfms, geo_topo.C_diff], axis=1), 'dFMs_corr.png')\n",
    "\n",
    "plotFeatureImportance(lasso.coef_, X.columns, 'A_diff_Lasso')\n",
    "np.savetxt('_coefs.txt', lasso.coef_, delimiter=',') \n",
    "np.savetxt('_feature_names.txt', X.columns, delimiter=',', fmt='%20s') "
   ]
  },
  {
   "cell_type": "code",
   "execution_count": 7,
   "metadata": {},
   "outputs": [
    {
     "name": "stdout",
     "output_type": "stream",
     "text": [
      "<class 'pandas.core.frame.DataFrame'>\n",
      "Int64Index: 609 entries, 0 to 608\n",
      "Data columns (total 3 columns):\n",
      "size_an4         609 non-null float64\n",
      "num_faces_an4    609 non-null float64\n",
      "F_mF             609 non-null float64\n",
      "dtypes: float64(3)\n",
      "memory usage: 39.0 KB\n"
     ]
    }
   ],
   "source": [
    "X.info()"
   ]
  },
  {
   "cell_type": "code",
   "execution_count": null,
   "metadata": {},
   "outputs": [],
   "source": []
  },
  {
   "cell_type": "markdown",
   "metadata": {},
   "source": [
    "### Linear Regression, Forward Selection\n",
    "- Refs:\n",
    "    - Best: https://xavierbourretsicotte.github.io/subset_selection.html\n",
    "    - https://planspace.org/20150423-forward_selection_with_statsmodels/\n",
    "    - https://github.com/AakkashVijayakumar/stepwise-regression/blob/master/stepwise_regression/step_reg.py\n",
    "    - https://stackabuse.com/applying-wrapper-methods-in-python-for-feature-selection/"
   ]
  },
  {
   "cell_type": "code",
   "execution_count": 28,
   "metadata": {},
   "outputs": [],
   "source": [
    "import statsmodels.formula.api as smf\n",
    "from statsmodels.stats.outliers_influence import variance_inflation_factor \n",
    "\n",
    "def forward_selected(data_train, data_test, response):\n",
    "    \"\"\"Linear model designed by forward selection.\n",
    "\n",
    "    Parameters:\n",
    "    -----------\n",
    "    data : pandas DataFrame with all possible predictors and response\n",
    "\n",
    "    response: string, name of response column in data\n",
    "\n",
    "    Returns:\n",
    "    --------\n",
    "    model: an \"optimal\" fitted statsmodels linear model\n",
    "           with an intercept\n",
    "           selected by forward selection\n",
    "           evaluated by adjusted R-squared\n",
    "    \"\"\"\n",
    "    remaining = set(data_train.columns)\n",
    "    remaining.remove(response)\n",
    "    current_score, best_new_score = 0.0, 0.0\n",
    "    selected = []\n",
    "    best_scores = []\n",
    "    best_tests = []\n",
    "    while remaining and current_score == best_new_score:\n",
    "        scores_with_candidates = []\n",
    "        for candidate in remaining:\n",
    "            # ----- fit model -----\n",
    "            formula = \"{} ~ {} + 1\".format(response,\n",
    "                                           ' + '.join(selected + [candidate]))\n",
    "            model_tmp = smf.ols(formula, data_train).fit()\n",
    "            score_train = model_tmp.rsquared_adj\n",
    "            # ----- calculate test score -----\n",
    "            y_predict = model_tmp.predict(data_test.loc[:, data_test.columns!='A_diff'])\n",
    "            r2_test = r2_score(data_test[response], y_predict)\n",
    "            m = float(X_test.shape[0])\n",
    "            k = float(X_test.shape[1])\n",
    "            score_test = 1 - (1-r2_test)*((m-1)/(m-k-1))\n",
    "            # ----- append results -----\n",
    "            scores_with_candidates.append((score_train, score_test, candidate))\n",
    "            \n",
    "        scores_with_candidates.sort()\n",
    "        best_new_score, best_new_test, best_candidate = scores_with_candidates.pop()\n",
    "        best_scores.append(best_new_score)\n",
    "        best_tests.append(best_new_test)\n",
    "        selected.append(best_candidate)\n",
    "        if current_score < best_new_score:\n",
    "            remaining.remove(best_candidate)\n",
    "#             formula.append(\"{} ~ {} + 1\".format(response, ' + '.join(selected)))\n",
    "            current_score = best_new_score\n",
    "    formula = \"{} ~ {} + 1\".format(response,\n",
    "                                   ' + '.join(selected))\n",
    "    model = smf.ols(formula, data_train).fit()\n",
    "    return model, selected, best_scores, best_tests\n"
   ]
  },
  {
   "cell_type": "code",
   "execution_count": 39,
   "metadata": {},
   "outputs": [
    {
     "name": "stdout",
     "output_type": "stream",
     "text": [
      "7\n",
      "[0.28118937204311933, 0.28193893484281496, 0.28229551880001436, 0.28262853799287735, 0.28269928277390133, 0.282745282788209, 0.28267244382421575]\n",
      "[0.20351249813518812, 0.20428532754787443, 0.20249176743526387, 0.20193374296705635, 0.20537467221258932, 0.20508953437802768, 0.20503509293115318]\n"
     ]
    },
    {
     "data": {
      "image/png": "[encoded data removed]",
      "text/plain": [
       "<matplotlib.figure.Figure at 0x1a18141a10>"
      ]
     },
     "metadata": {},
     "output_type": "display_data"
    }
   ],
   "source": [
    "# ----- normalization -----\n",
    "data =  data / data.max(axis=0) * 10\n",
    "\n",
    "# ----- X & y -----\n",
    "y = np.abs(data['A_diff'])\n",
    "X = data.drop(['A_diff', 'fMs_diff'], axis=1)\n",
    "X_train, X_test, y_train, y_test = train_test_split(X, y, test_size=0.2, random_state=3)\n",
    "data_train = pd.concat([X_train, y_train], axis=1)\n",
    "data_test = pd.concat([X_test, y_test], axis=1)\n",
    "\n",
    "# ----- model & results -----\n",
    "model, selected, best_scores, best_tests = forward_selected(data_train, data_test, 'A_diff')\n",
    "print len(selected)\n",
    "print best_scores\n",
    "print best_tests\n",
    "model.summary()\n",
    "\n",
    "plotForwardSelection(best_scores, best_tests, selected, '|A_diff|_forward')"
   ]
  },
  {
   "cell_type": "code",
   "execution_count": 74,
   "metadata": {},
   "outputs": [
    {
     "name": "stdout",
     "output_type": "stream",
     "text": [
      "0.6111764230174279\n",
      "0.40470900484245986\n"
     ]
    }
   ],
   "source": [
    "import xgboost\n",
    "\n",
    "xgb2 = xgboost.XGBRegressor(\n",
    "                            learning_rate=0.08, \n",
    "                            n_estimators=100, \n",
    "                            max_depth=3,\n",
    "                            gamma=0, \n",
    "                            subsample=0.75,\n",
    "                            colsample_bytree=0.3\n",
    "                            )\n",
    "\n",
    "y = np.abs(data['A_diff'])\n",
    "X = data.drop(['A_diff', 'fMs_diff'], axis=1)\n",
    "X = X / X.max(axis=0) *10\n",
    "X_train, X_test, y_train, y_test = train_test_split(X, y, test_size=0.2, random_state=2)\n",
    "\n",
    "xgb2.fit(X_train, y_train)\n",
    "print xgb2.score(X_train, y_train)\n",
    "print xgb2.score(X_test, y_test)"
   ]
  },
  {
   "cell_type": "code",
   "execution_count": 60,
   "metadata": {},
   "outputs": [
    {
     "name": "stdout",
     "output_type": "stream",
     "text": [
      "0.5520504132139703\n",
      "0.2982240563175145\n"
     ]
    },
    {
     "data": {
      "image/png": "[encoded data removed]",
      "text/plain": [
       "<matplotlib.figure.Figure at 0x1043a9fd0>"
      ]
     },
     "metadata": {},
     "output_type": "display_data"
    }
   ],
   "source": [
    "plotFeatureImportance(xgb2.feature_importances_, X.columns)"
   ]
  },
  {
   "cell_type": "code",
   "execution_count": null,
   "metadata": {},
   "outputs": [],
   "source": []
  },
  {
   "cell_type": "code",
   "execution_count": null,
   "metadata": {},
   "outputs": [],
   "source": []
  },
  {
   "cell_type": "code",
   "execution_count": null,
   "metadata": {},
   "outputs": [],
   "source": []
  }
 ],
 "metadata": {
  "kernelspec": {
   "display_name": "Python 2",
   "language": "python",
   "name": "python2"
  },
  "language_info": {
   "codemirror_mode": {
    "name": "ipython",
    "version": 2
   },
   "file_extension": ".py",
   "mimetype": "text/x-python",
   "name": "python",
   "nbconvert_exporter": "python",
   "pygments_lexer": "ipython2",
   "version": "2.7.3"
  }
 },
 "nbformat": 4,
 "nbformat_minor": 2
}
