{
 "cells": [
  {
   "cell_type": "markdown",
   "metadata": {},
   "source": [
    "# References \n",
    "- https://scikit-learn.org/stable/modules/outlier_detection.html\n",
    "- https://scikit-learn.org/stable/auto_examples/applications/plot_outlier_detection_housing.html#sphx-glr-auto-examples-applications-plot-outlier-detection-housing-py"
   ]
  },
  {
   "cell_type": "code",
   "execution_count": 1,
   "metadata": {},
   "outputs": [],
   "source": [
    "import pandas as pd\n",
    "import numpy as np\n",
    "import xgboost as xgb\n",
    "from xgboost.sklearn import XGBClassifier\n",
    "from sklearn import metrics\n",
    "from sklearn.model_selection import cross_val_score\n",
    "from sklearn.model_selection import cross_validate\n",
    "from sklearn.model_selection import train_test_split\n",
    "from sklearn.metrics import confusion_matrix\n",
    "from sklearn.metrics import classification_report\n",
    "from sklearn.metrics import r2_score\n",
    "\n",
    "import matplotlib.pylab as plt\n",
    "import seaborn as sns\n",
    "%matplotlib inline\n",
    "\n",
    "energy_grad = pd.read_csv('/Users/xiaotingzhong/Desktop/Datas/Ni_an4_5/data_matlab/190425_features_energygrad.txt')\n",
    "geo_topo = pd.read_csv('/Users/xiaotingzhong/Desktop/Datas/Ni_an4_5/data_matlab/190425_features_geo_topo.txt')\n",
    "other = pd.read_csv('/Users/xiaotingzhong/Desktop/Datas/Ni_an4_5/data_matlab/190425_features_otherinfo.txt')\n",
    "mig = pd.read_csv('/Users/xiaotingzhong/Desktop/Datas/Ni_an4_5/data_matlab/190425_features_mig.csv')\n",
    "da = pd.read_csv('/Users/xiaotingzhong/Desktop/Datas/Ni_an4_5/data_matlab/190425_features_dihedral_ang.txt')\n",
    "\n",
    "# mig_sign.columns = mig_sign.columns.str.strip()\n",
    "energy_grad.columns = energy_grad.columns.str.strip()\n",
    "geo_topo.columns = geo_topo.columns.str.strip()\n",
    "other.columns = other.columns.str.strip()\n",
    "mig.columns = mig.columns.str.strip()\n",
    "da.columns = da.columns.str.strip()\n",
    "\n",
    "geo_topo = geo_topo.astype('float')\n",
    "other = other.astype('float')\n",
    "da = da.astype('float')\n",
    "\n",
    "da_len = pd.concat([da.iloc[:,:3], da.iloc[:,6:9]], axis=1)\n",
    "da_num = pd.concat([da.iloc[:,3:6], da.iloc[:,9:]], axis=1)\n",
    "\n",
    "an4_face_centro = pd.read_csv('/Users/xiaotingzhong/Desktop/Datas/Ni_an4_5/data_matlab/190425_an4_face_centroids.csv', names=['x', 'y', 'z'])"
   ]
  },
  {
   "cell_type": "markdown",
   "metadata": {},
   "source": [
    "### EDA\n",
    "- If using dihedral angles, then need to filter out nans"
   ]
  },
  {
   "cell_type": "code",
   "execution_count": 2,
   "metadata": {},
   "outputs": [
    {
     "name": "stdout",
     "output_type": "stream",
     "text": [
      "<class 'pandas.core.frame.DataFrame'>\n",
      "Int64Index: 6935 entries, 0 to 6941\n",
      "Data columns (total 4 columns):\n",
      "area_diff_frac    6935 non-null float64\n",
      "x                 6935 non-null float64\n",
      "y                 6935 non-null float64\n",
      "z                 6935 non-null float64\n",
      "dtypes: float64(4)\n",
      "memory usage: 270.9 KB\n"
     ]
    },
    {
     "data": {
      "text/plain": [
       "['area_diff_frac', 'x', 'y', 'z']"
      ]
     },
     "execution_count": 2,
     "metadata": {},
     "output_type": "execute_result"
    }
   ],
   "source": [
    "# da_len.iloc[:,:3] -= 120.0 \n",
    "# data = pd.concat([geo_topo.iloc[:,[0,1,2,5,6,7]], geo_topo.iloc[:,[10,11,3,4,8,9]], da_len, other], axis=1)\n",
    "# data.columns = np.insert(data.columns[1:].values, [0], 'mig_left')\n",
    "# data = data.mask(~other['not_twin_an4'].astype(bool))\n",
    "\n",
    "\n",
    "data = pd.concat([geo_topo.iloc[:, 5] / geo_topo.iloc[:, 0], an4_face_centro], axis=1)\n",
    "data = data.mask(np.abs(geo_topo['A_an4']) < 1)\n",
    "\n",
    "data = data.dropna()\n",
    "data.rename(columns={data.columns[0]: 'area_diff_frac'},inplace=True)\n",
    "data.info()\n",
    "\n",
    "# data.iloc[:,3] = np.abs(data.iloc[:,3])\n",
    "\n",
    "# data_normed =  data / data.max(axis=0) * 10\n",
    "# plotCorrelationMatrix(data_normed, 'corr')\n",
    "data.columns.tolist()\n"
   ]
  },
  {
   "cell_type": "code",
   "execution_count": null,
   "metadata": {},
   "outputs": [],
   "source": []
  },
  {
   "cell_type": "markdown",
   "metadata": {},
   "source": [
    "## Isolation Forest"
   ]
  },
  {
   "cell_type": "code",
   "execution_count": 3,
   "metadata": {},
   "outputs": [
    {
     "name": "stderr",
     "output_type": "stream",
     "text": [
      "/Users/xiaotingzhong/anaconda2/lib/python2.7/site-packages/sklearn/ensemble/iforest.py:223: FutureWarning: behaviour=\"old\" is deprecated and will be removed in version 0.22. Please use behaviour=\"new\", which makes the decision_function change to match other anomaly detection algorithm API.\n",
      "  FutureWarning)\n",
      "/Users/xiaotingzhong/anaconda2/lib/python2.7/site-packages/sklearn/ensemble/iforest.py:417: DeprecationWarning: threshold_ attribute is deprecated in 0.20 and will be removed in 0.22.\n",
      "  \" be removed in 0.22.\", DeprecationWarning)\n"
     ]
    }
   ],
   "source": [
    "from sklearn.ensemble import IsolationForest\n",
    "\n",
    "# y = np.abs(data.iloc[:, 3])\n",
    "# X = data.drop(['A_diff', 'fMs_diff'], axis=1)\n",
    "simple = data\n",
    "\n",
    "\n",
    "# !!!!!!!!!!!!!!!!! adjust sample_weight !!!!!!!!!!!!!!!!!\n",
    "clf = IsolationForest(contamination=0.01, random_state=0)\n",
    "normal_if = clf.fit_predict(data)\n",
    "\n",
    "fname = 'IF_simple.png'"
   ]
  },
  {
   "cell_type": "code",
   "execution_count": null,
   "metadata": {},
   "outputs": [],
   "source": []
  },
  {
   "cell_type": "code",
   "execution_count": null,
   "metadata": {},
   "outputs": [],
   "source": []
  },
  {
   "cell_type": "markdown",
   "metadata": {},
   "source": [
    "## Local Outlier Factor\n",
    "- n_neighbors\n",
    "    - greater than the minimum number of samples a cluster has to contain\n",
    "    - smaller than the maximum number of close by samples that can potentially be local outliers\n",
    "    - taking n_neighbors=20 appears to work well in general."
   ]
  },
  {
   "cell_type": "code",
   "execution_count": 4,
   "metadata": {},
   "outputs": [],
   "source": [
    "from sklearn.neighbors import LocalOutlierFactor\n",
    "\n",
    "clf = LocalOutlierFactor(n_neighbors=20, contamination=0.01)\n",
    "normal_lof = clf.fit_predict(data)\n",
    "\n",
    "fname = 'LOF_data.png'"
   ]
  },
  {
   "cell_type": "code",
   "execution_count": null,
   "metadata": {},
   "outputs": [],
   "source": []
  },
  {
   "cell_type": "markdown",
   "metadata": {},
   "source": [
    "## Robust Covariance"
   ]
  },
  {
   "cell_type": "code",
   "execution_count": 5,
   "metadata": {},
   "outputs": [],
   "source": [
    "from sklearn.covariance import EllipticEnvelope\n",
    "\n",
    "clf = EllipticEnvelope(contamination=0.01)\n",
    "normal_rc = clf.fit_predict(data)\n",
    "\n",
    "fname = 'RC_data.png'"
   ]
  },
  {
   "cell_type": "code",
   "execution_count": 173,
   "metadata": {},
   "outputs": [
    {
     "name": "stdout",
     "output_type": "stream",
     "text": [
      "70 70 70\n",
      "19\n"
     ]
    }
   ],
   "source": [
    "print sum(normal_if<0), sum(normal_lof<0), sum(normal_rc<0)\n",
    "print sum(np.all(np.vstack([normal_if<0, normal_lof<0, normal_rc<0]), axis=0))\n",
    "\n",
    "# print sum(np.all(np.vstack([normal_if, normal_lof, normal_rc]), axis=0))\n",
    "# print sum(normal_if>0 & normal_lof>0)\n",
    "\n",
    "# sum(np.array([1, -1]) & np.array([-1, 1]))"
   ]
  },
  {
   "cell_type": "markdown",
   "metadata": {},
   "source": [
    "## Plot results"
   ]
  },
  {
   "cell_type": "code",
   "execution_count": 6,
   "metadata": {},
   "outputs": [
    {
     "name": "stdout",
     "output_type": "stream",
     "text": [
      "16\n"
     ]
    },
    {
     "data": {
      "image/png": "[encoded data removed]",
      "text/plain": [
       "<matplotlib.figure.Figure at 0x1a1927c6d0>"
      ]
     },
     "metadata": {},
     "output_type": "display_data"
    },
    {
     "data": {
      "image/png": "[encoded data removed]",
      "text/plain": [
       "<matplotlib.figure.Figure at 0x1a17e00f90>"
      ]
     },
     "metadata": {},
     "output_type": "display_data"
    }
   ],
   "source": [
    "# --------------------------------------------------------\n",
    "mask_abnormal = np.all(np.vstack([normal_if<0, normal_lof<0, normal_rc<0]), axis=0)\n",
    "print sum(mask_abnormal)\n",
    "fname = 'allthree_data.png'\n",
    "\n",
    "points_normal = simple[~mask_abnormal]\n",
    "points_abnormal = simple[mask_abnormal]\n",
    "\n",
    "# --------------------------------------------------------\n",
    "# mask_normal = (normal == 1)\n",
    "\n",
    "# points_normal = simple[mask_normal]\n",
    "# points_abnormal = simple[~mask_normal]\n",
    "\n",
    "\n",
    "\n",
    "# --------------------------------------------------------\n",
    "plt.figure()\n",
    "plt.plot(points_normal.iloc[:,0], points_normal.iloc[:,1], 'bo')\n",
    "\n",
    "plt.figure()\n",
    "plt.plot(points_normal.iloc[:,0], points_normal.iloc[:,1], 'bo')\n",
    "plt.plot(points_abnormal.iloc[:,0], points_abnormal.iloc[:,1], 'ro')\n",
    "plt.savefig(fname, dpi=300)"
   ]
  },
  {
   "cell_type": "code",
   "execution_count": 100,
   "metadata": {},
   "outputs": [
    {
     "data": {
      "text/plain": [
       "<matplotlib.collections.PathCollection at 0x1a18497350>"
      ]
     },
     "execution_count": 100,
     "metadata": {},
     "output_type": "execute_result"
    },
    {
     "data": {
      "image/png": "[encoded data removed]",
      "text/plain": [
       "<matplotlib.figure.Figure at 0x1a1c515d90>"
      ]
     },
     "metadata": {},
     "output_type": "display_data"
    }
   ],
   "source": [
    "\n",
    "X = simple\n",
    "X_scores = clf.negative_outlier_factor_\n",
    "\n",
    "\n",
    "plt.title(\"Local Outlier Factor (LOF)\")\n",
    "plt.scatter(X.iloc[~mask_normal, 0], X.iloc[~mask_normal, 1], color='k', s=3., label='Data points')\n",
    "# plot circles with radius proportional to the outlier scores\n",
    "radius = (X_scores.max() - X_scores) / (X_scores.max() - X_scores.min())\n",
    "plt.scatter(X.iloc[~mask_normal, 0], X.iloc[~mask_normal, 1], s=10000 * radius, edgecolors='r',\n",
    "            facecolors='none', label='Outlier scores')\n"
   ]
  },
  {
   "cell_type": "code",
   "execution_count": null,
   "metadata": {},
   "outputs": [],
   "source": []
  },
  {
   "cell_type": "code",
   "execution_count": null,
   "metadata": {},
   "outputs": [],
   "source": []
  },
  {
   "cell_type": "markdown",
   "metadata": {},
   "source": [
    "## Random Forest\n",
    "- Classify normal & abnormal data, for isolation forest feature importance"
   ]
  },
  {
   "cell_type": "code",
   "execution_count": 20,
   "metadata": {},
   "outputs": [
    {
     "name": "stdout",
     "output_type": "stream",
     "text": [
      "training score = 0.998 test score = 0.996\n",
      "test report\n",
      "              precision    recall  f1-score   support\n",
      "\n",
      "           1       1.00      1.00      1.00      1381\n",
      "           2       0.00      0.00      0.00         6\n",
      "\n",
      "   micro avg       1.00      1.00      1.00      1387\n",
      "   macro avg       0.50      0.50      0.50      1387\n",
      "weighted avg       0.99      1.00      0.99      1387\n",
      "\n"
     ]
    },
    {
     "name": "stderr",
     "output_type": "stream",
     "text": [
      "/Users/xiaotingzhong/anaconda2/lib/python2.7/site-packages/sklearn/metrics/classification.py:1143: UndefinedMetricWarning: Precision and F-score are ill-defined and being set to 0.0 in labels with no predicted samples.\n",
      "  'precision', 'predicted', average, warn_for)\n"
     ]
    }
   ],
   "source": [
    "from xgboost.sklearn import XGBClassifier\n",
    "\n",
    "xgb1 = XGBClassifier(\n",
    "                     num_class = 2,\n",
    "                     learning_rate =0.01,\n",
    "                     n_estimators=100,\n",
    "                     max_depth=3,\n",
    "#                      min_child_weight=1,\n",
    "                     gamma=0,\n",
    "                     colsample_bytree=0.3,\n",
    "                     objective='multi:softmax',\n",
    "                     scale_pos_weight=1,\n",
    "                     seed=3\n",
    "                    )\n",
    "y = mask_abnormal.astype(int)\n",
    "X = data.iloc[:,1:]\n",
    "X_train, X_test, y_train, y_test = train_test_split(X, y, test_size=0.2, random_state=0)\n",
    "xgb1.fit(X_train, y_train, eval_metric='auc')\n",
    "\n",
    "print 'training score =', np.round(xgb1.score(X_train, y_train), 3), 'test score =', np.round(xgb1.score(X_test, y_test), 3)\n",
    "print 'test report'\n",
    "print classification_report(y_test, xgb1.predict(X_test))"
   ]
  },
  {
   "cell_type": "code",
   "execution_count": 21,
   "metadata": {},
   "outputs": [
    {
     "data": {
      "text/plain": [
       "6935"
      ]
     },
     "execution_count": 21,
     "metadata": {},
     "output_type": "execute_result"
    }
   ],
   "source": [
    "y.shape[0]"
   ]
  },
  {
   "cell_type": "code",
   "execution_count": null,
   "metadata": {},
   "outputs": [],
   "source": []
  }
 ],
 "metadata": {
  "kernelspec": {
   "display_name": "Python 2",
   "language": "python",
   "name": "python2"
  },
  "language_info": {
   "codemirror_mode": {
    "name": "ipython",
    "version": 2
   },
   "file_extension": ".py",
   "mimetype": "text/x-python",
   "name": "python",
   "nbconvert_exporter": "python",
   "pygments_lexer": "ipython2",
   "version": "2.7.3"
  }
 },
 "nbformat": 4,
 "nbformat_minor": 2
}
