{
 "cells": [
  {
   "cell_type": "code",
   "execution_count": 50,
   "metadata": {},
   "outputs": [
    {
     "name": "stdout",
     "output_type": "stream",
     "text": [
      "<class 'pandas.core.frame.DataFrame'>\n",
      "Int64Index: 6447 entries, 82 to 10886\n",
      "Data columns (total 28 columns):\n",
      "dist_twin_an4         6447 non-null float64\n",
      "A_an4                 6447 non-null float64\n",
      "fMs_abs_an4           6447 non-null float64\n",
      "avg_FabsavgH_an4      6447 non-null float64\n",
      "A_diff                6447 non-null float64\n",
      "fMs_abs_diff          6447 non-null float64\n",
      "avg_FabsavgH_diff     6447 non-null float64\n",
      "C_an4                 6447 non-null float64\n",
      "E_an4                 6447 non-null float64\n",
      "da_len_w_an4_opp      6447 non-null float64\n",
      "C_diff                6447 non-null float64\n",
      "E_diff                6447 non-null float64\n",
      "da_len_w_diff_opp     6447 non-null float64\n",
      "E_Enn                 6447 non-null float64\n",
      "abs_gf_gfnn           6447 non-null float64\n",
      "pos_frac              6447 non-null float64\n",
      "twin_frac             6447 non-null float64\n",
      "grow_frac             6447 non-null float64\n",
      "disappeared_frac      6447 non-null float64\n",
      "appeared_frac         6447 non-null float64\n",
      "total_dann            6447 non-null float64\n",
      "disappeared_frac_g    6447 non-null float64\n",
      "appeared_frac_g       6447 non-null float64\n",
      "max_dfnn_g            6447 non-null float64\n",
      "min_dfnn_g            6447 non-null float64\n",
      "avg_dfnn_g            6447 non-null float64\n",
      "gV_diff_an4           6447 non-null float64\n",
      "fMs_an4_left          6447 non-null float64\n",
      "dtypes: float64(28)\n",
      "memory usage: 1.4 MB\n"
     ]
    }
   ],
   "source": [
    "import pandas as pd\n",
    "import numpy as np\n",
    "import xgboost as xgb\n",
    "from xgboost.sklearn import XGBClassifier\n",
    "from sklearn.linear_model import LogisticRegression\n",
    "from sklearn import metrics\n",
    "from sklearn.model_selection import cross_val_score\n",
    "from sklearn.model_selection import cross_validate\n",
    "from sklearn.model_selection import train_test_split\n",
    "from sklearn.model_selection import GridSearchCV\n",
    "from sklearn.metrics import confusion_matrix\n",
    "from sklearn.metrics import classification_report\n",
    "from sklearn.metrics import r2_score\n",
    "from sklearn.metrics import make_scorer\n",
    "from sklearn.metrics import accuracy_score\n",
    "from sklearn.metrics import balanced_accuracy_score\n",
    "from sklearn.preprocessing import MultiLabelBinarizer\n",
    "from sklearn.preprocessing import LabelEncoder\n",
    "\n",
    "import matplotlib.pylab as plt\n",
    "import seaborn as sns\n",
    "%matplotlib inline\n",
    "\n",
    "geo_topo = pd.read_csv('/Users/xiaotingzhong/Desktop/Datas/Ni_an4_5/data_matlab/final/190730_Hsmooth_geo_topo.txt')\n",
    "energy_grad = pd.read_csv('/Users/xiaotingzhong/Desktop/Datas/Ni_an4_5/data_matlab/final/190730_Hsmooth_energygrad.txt')\n",
    "other = pd.read_csv('/Users/xiaotingzhong/Desktop/Datas/Ni_an4_5/data_matlab/final/190730_Lsmooth_otherinfo_normdist_formal.txt')\n",
    "mean_field = pd.read_csv('/Users/xiaotingzhong/Desktop/Datas/Ni_an4_5/data_matlab/final/190730_Hsmooth_mean_field.txt')\n",
    "# mask_good_face = pd.read_csv('/Users/xiaotingzhong/Desktop/Datas/Ni_an4_5/data_matlab/190718_Hsmooth_mask_good_face.txt')\n",
    "da = pd.read_csv('/Users/xiaotingzhong/Desktop/Datas/Ni_an4_5/data_matlab/final/190730_Hsmooth_dihedral_ang.txt')\n",
    "\n",
    "\n",
    "geo_topo.columns = geo_topo.columns.str.strip()\n",
    "energy_grad.columns = energy_grad.columns.str.strip()\n",
    "other.columns = other.columns.str.strip()\n",
    "mean_field.columns = mean_field.columns.str.strip()\n",
    "da.columns = da.columns.str.strip()\n",
    "# mask_good_face.columns = mask_good_face.columns.str.strip()\n",
    "\n",
    "geo_topo = geo_topo.drop(['fMs_signed_an4'], axis=1)\n",
    "\n",
    "geo_topo = geo_topo.astype('float')\n",
    "energy_grad = energy_grad.astype('float')\n",
    "other = other.astype('float')\n",
    "mean_field = mean_field.astype('float')\n",
    "# mask_good_face = mask_good_face.astype('bool')\n",
    "da = da.astype('float')\n",
    "\n",
    "\n",
    "# geo_topo.info()\n",
    "# energy_grad.info()\n",
    "# mean_field.info()\n",
    "# other.info()\n",
    "\n",
    "# ----------------- Paper Feature Correlation Mat -----------------\n",
    "# other = other.iloc[:, :-8]\n",
    "# data = pd.concat([other, geo_topo.iloc[:,[0,1,2,5,6,8,3,4]], da.iloc[:, [0,1,2]], \\\n",
    "#                   geo_topo.iloc[:,[9, 10]], da.iloc[:, [3,4,5]], \\\n",
    "#                   mean_field.iloc[:,[0,1,2,3,5,6,7,4,8,9,10,11,12]], \\\n",
    "#                   energy_grad], axis=1)\n",
    "# ----------------- For Models -----------------\n",
    "da = da[['da_len_w_an4_opp', 'da_len_w_diff_opp']]\n",
    "energy_grad = energy_grad[['gV_diff_an4', 'fMs_an4_left']]\n",
    "other = other.iloc[:, :-8]\n",
    "data = pd.concat([other, geo_topo.iloc[:,[0,1,2,5,6,8,3,4]], da.iloc[:, 0], \\\n",
    "                  geo_topo.iloc[:,[9, 10]], da.iloc[:, 1], \\\n",
    "                  mean_field.iloc[:,[0,1,2,3,5,6,7,4,8,9,10,11,12]], \\\n",
    "                  energy_grad], axis=1)\n",
    "\n",
    "data = data.dropna()\n",
    "\n",
    "mask_complete = data['mask_complete'].astype(bool)\n",
    "mask_one_piece = data['mask_onepiece'].astype(bool)\n",
    "area_an4 = data[['A_an4']].values\n",
    "area_an5 = data[['A_an4']].values + data[['A_diff']].values\n",
    "area_diff_ratio = (area_an5 - area_an4) / area_an4\n",
    "mask_not_extreme = np.all([area_an4 > 20, area_an5 > 20, area_diff_ratio < 10, area_diff_ratio > -0.9], axis=0)\n",
    "# mask = np.all([mask_complete, mask_one_piece, mask_not_extreme.squeeze()], axis=0)\n",
    "mask = np.all([mask_complete, mask_not_extreme.squeeze()], axis=0)\n",
    "data = data[mask]\n",
    "\n",
    "data = data.drop(['mask_complete', 'mask_onepiece'], axis=1)\n",
    "data.info()\n",
    "\n"
   ]
  },
  {
   "cell_type": "code",
   "execution_count": 51,
   "metadata": {},
   "outputs": [
    {
     "name": "stdout",
     "output_type": "stream",
     "text": [
      "#stable =  937 ;   #grow =  2478 ;   #shrink =  3032\n"
     ]
    }
   ],
   "source": [
    "def get_sign(data, eps):\n",
    "    data_sign = np.zeros([data.shape[0], 1])\n",
    "    mask_pos = data > eps\n",
    "    mask_neg = data < - eps\n",
    "    data_sign[mask_pos] = 1\n",
    "    data_sign[mask_neg] = -1\n",
    "    return data_sign.ravel()\n",
    "\n",
    "def calc_class_weights(y):\n",
    "    weights = np.ones(y.shape)\n",
    "    for _class in np.unique(y):\n",
    "        weights[y==_class] = float(np.sum(y==_class)) / y.shape[0]\n",
    "    return weights\n",
    "\n",
    "eps_area = 20\n",
    "area_diff_sign = get_sign(data['A_diff'], eps_area)\n",
    "print '#stable = ', np.sum(area_diff_sign == 0), ';   #grow = ', np.sum(area_diff_sign > 0), \\\n",
    "    ';   #shrink = ', np.sum(area_diff_sign < 0)\n"
   ]
  },
  {
   "cell_type": "markdown",
   "metadata": {},
   "source": [
    "## Reference\n",
    "- https://scikit-learn.org/stable/auto_examples/model_selection/plot_roc_crossval.html\n",
    "- https://scikit-learn.org/stable/auto_examples/model_selection/plot_roc.html\n",
    "- https://stats.stackexchange.com/questions/2151/how-to-plot-roc-curves-in-multiclass-classification"
   ]
  },
  {
   "cell_type": "code",
   "execution_count": 67,
   "metadata": {},
   "outputs": [
    {
     "data": {
      "image/png": "[encoded data removed]",
      "text/plain": [
       "<matplotlib.figure.Figure at 0x1a186e6f10>"
      ]
     },
     "metadata": {},
     "output_type": "display_data"
    }
   ],
   "source": [
    "from sklearn.multiclass import OneVsRestClassifier\n",
    "from sklearn.preprocessing import MultiLabelBinarizer\n",
    "from sklearn.metrics import roc_curve, auc, roc_auc_score\n",
    "from sklearn.model_selection import StratifiedKFold\n",
    "\n",
    "n_classes = 3\n",
    "# ---------------- Model ----------------\n",
    "xgb1 = XGBClassifier(\n",
    "                     objective='multi:softmax',\n",
    "                     num_class = 3,\n",
    "                     eval_metric='mlogloss',\n",
    "                     learning_rate =0.1,\n",
    "                     n_estimators=100,\n",
    "                     max_depth=3,\n",
    "                     min_child_weight=1,\n",
    "                     gamma=0,\n",
    "                     colsample_bytree=0.3\n",
    "                    )\n",
    "\n",
    "y = area_diff_sign.astype(int).reshape(-1, 1)\n",
    "y = MultiLabelBinarizer().fit_transform(y)\n",
    "X = data[['fMs_abs_an4', 'abs_gf_gfnn']]\n",
    "weights = calc_class_weights(y)\n",
    "X = X / X.max(axis=0) *10\n",
    "X_train, X_test, y_train, y_test = train_test_split(X, y, test_size=0.2, random_state=0)\n",
    "\n",
    "\n",
    "clf = OneVsRestClassifier(xgb1)\n",
    "\n",
    "# # ---------------- Cross validation ----------------\n",
    "# # ----- auto -----\n",
    "# # cross_val = cross_validate(clf, X, y, cv=5, scoring='roc_auc')\n",
    "# # ----- manual -----\n",
    "# cv = StratifiedKFold(n_splits=6)\n",
    "# fpr = [[[] for i in range(5)]for i in range(3)]\n",
    "# tpr = [[[] for i in range(5)]for i in range(3)]\n",
    "# aucs = [[None for i in range(5)]for i in range(3)]\n",
    "# mean_fpr = np.linspace(0, 1, 100)\n",
    "# for train, test in cv.split(X, y):\n",
    "#     y = MultiLabelBinarizer().fit_transform(y)\n",
    "#     y_score = clf.fit(X.iloc[train, :], y[train]).predict(X.iloc[test, :])\n",
    "#     # ----- ROC curve and AUC -----\n",
    "#     for j in range(n_classes):\n",
    "#         fpr[j], tpr[j], _ = roc_curve(y[test, j], y_score[:, j])\n",
    "#         tprs[j].append(interp(mean_fpr, fpr, tpr))\n",
    "#         tprs[-1][0] = 0.0\n",
    "#         aucs[i][j] = auc(fpr[j], tpr[j])\n",
    "# #         plt.plot(fpr, tpr, lw=1, alpha=0.3,\n",
    "# #                  label='ROC fold %d (AUC = %0.2f)' % (i, roc_auc))\n",
    "\n",
    "#     i += 1\n",
    "# # plt.plot([0, 1], [0, 1], linestyle='--', lw=2, color='r',\n",
    "# #          label='Chance', alpha=.8)\n",
    "\n",
    "\n",
    "# ---------------- ROC curve ----------------\n",
    "y_score = clf.fit(X_train, y_train).predict(X_test)\n",
    "fpr = dict()\n",
    "tpr = dict()\n",
    "roc_auc = dict()\n",
    "for i in range(n_classes):\n",
    "    fpr[i], tpr[i], _ = roc_curve(y_test[:, i], y_score[:, i])\n",
    "    roc_auc[i] = auc(fpr[i], tpr[i])\n",
    "# ----- micro-average ROC curve and AUC -----\n",
    "fpr[\"micro\"], tpr[\"micro\"], _ = roc_curve(y_test.ravel(), y_score.ravel())\n",
    "roc_auc[\"micro\"] = auc(fpr[\"micro\"], tpr[\"micro\"])\n",
    "\n",
    "# # ---------------- Plot ROC ----------------\n",
    "for i in range(n_classes):\n",
    "    plt.plot(fpr[i], tpr[i], lw=2,\n",
    "             label='ROC curve of class {0} (area = {1:0.2f})'\n",
    "             ''.format(i, roc_auc[i]))\n",
    "plt.show()"
   ]
  },
  {
   "cell_type": "code",
   "execution_count": 68,
   "metadata": {},
   "outputs": [],
   "source": [
    "# print fpr\n",
    "# print y_score\n",
    "# cross_val = cross_validate(clf, X, y, cv=5, scoring='roc_auc')\n",
    "# print cross_val['train_score']\n",
    "# print cross_val['test_score']"
   ]
  },
  {
   "cell_type": "code",
   "execution_count": 86,
   "metadata": {},
   "outputs": [
    {
     "name": "stderr",
     "output_type": "stream",
     "text": [
      "/Users/xiaotingzhong/anaconda2/lib/python2.7/site-packages/sklearn/metrics/ranking.py:656: UndefinedMetricWarning: No positive samples in y_true, true positive value should be meaningless\n",
      "  UndefinedMetricWarning)\n"
     ]
    },
    {
     "data": {
      "text/plain": [
       "(array([0., 1.]), array([nan, nan]), array([1, 0]))"
      ]
     },
     "execution_count": 86,
     "metadata": {},
     "output_type": "execute_result"
    }
   ],
   "source": [
    "\n",
    "\n",
    "\n",
    "# y_score = MultiLabelBinarizer().fit_transform(np.random.randint(2, size=len(test)) - 1)\n",
    "roc_curve(np.random.randint(1, size=len(test)), np.random.randint(1, size=len(test)))"
   ]
  },
  {
   "cell_type": "code",
   "execution_count": 85,
   "metadata": {},
   "outputs": [
    {
     "data": {
      "text/plain": [
       "array([-1, -1, -1, ..., -1, -1, -1])"
      ]
     },
     "execution_count": 85,
     "metadata": {},
     "output_type": "execute_result"
    }
   ],
   "source": []
  },
  {
   "cell_type": "code",
   "execution_count": 59,
   "metadata": {},
   "outputs": [],
   "source": [
    "import numpy as np\n",
    "import matplotlib.pyplot as plt\n",
    "from itertools import cycle\n",
    "\n",
    "from sklearn import svm, datasets\n",
    "from sklearn.metrics import roc_curve, auc\n",
    "from sklearn.model_selection import train_test_split\n",
    "from sklearn.preprocessing import label_binarize\n",
    "from sklearn.multiclass import OneVsRestClassifier\n",
    "from scipy import interp\n",
    "\n",
    "# Import some data to play with\n",
    "iris = datasets.load_iris()\n",
    "X = iris.data\n",
    "y = iris.target\n",
    "\n",
    "# Binarize the output\n",
    "y = label_binarize(y, classes=[0, 1, 2])\n",
    "n_classes = y.shape[1]\n",
    "\n",
    "# Add noisy features to make the problem harder\n",
    "random_state = np.random.RandomState(0)\n",
    "n_samples, n_features = X.shape\n",
    "X = np.c_[X, random_state.randn(n_samples, 200 * n_features)]\n",
    "\n",
    "# shuffle and split training and test sets\n",
    "X_train, X_test, y_train, y_test = train_test_split(X, y, test_size=.5,\n",
    "                                                    random_state=0)\n",
    "\n",
    "# Learn to predict each class against the other\n",
    "classifier = OneVsRestClassifier(svm.SVC(kernel='linear', probability=True,\n",
    "                                 random_state=random_state))\n",
    "y_score = classifier.fit(X_train, y_train).decision_function(X_test)\n",
    "\n",
    "# Compute ROC curve and ROC area for each class\n",
    "fpr = dict()\n",
    "tpr = dict()\n",
    "roc_auc = dict()\n",
    "for i in range(n_classes):\n",
    "    fpr[i], tpr[i], _ = roc_curve(y_test[:, i], y_score[:, i])\n",
    "    roc_auc[i] = auc(fpr[i], tpr[i])\n",
    "\n",
    "# Compute micro-average ROC curve and ROC area\n",
    "fpr[\"micro\"], tpr[\"micro\"], _ = roc_curve(y_test.ravel(), y_score.ravel())\n",
    "roc_auc[\"micro\"] = auc(fpr[\"micro\"], tpr[\"micro\"])"
   ]
  },
  {
   "cell_type": "code",
   "execution_count": 61,
   "metadata": {},
   "outputs": [
    {
     "data": {
      "text/plain": [
       "array([[0, 0, 0],\n",
       "       [0, 0, 0],\n",
       "       [1, 0, 0],\n",
       "       ...,\n",
       "       [0, 0, 0],\n",
       "       [0, 0, 0],\n",
       "       [0, 0, 0]])"
      ]
     },
     "execution_count": 61,
     "metadata": {},
     "output_type": "execute_result"
    }
   ],
   "source": [
    "probas_"
   ]
  },
  {
   "cell_type": "code",
   "execution_count": null,
   "metadata": {},
   "outputs": [],
   "source": []
  },
  {
   "cell_type": "code",
   "execution_count": null,
   "metadata": {},
   "outputs": [],
   "source": []
  },
  {
   "cell_type": "code",
   "execution_count": null,
   "metadata": {},
   "outputs": [],
   "source": []
  },
  {
   "cell_type": "code",
   "execution_count": null,
   "metadata": {},
   "outputs": [],
   "source": []
  },
  {
   "cell_type": "code",
   "execution_count": null,
   "metadata": {},
   "outputs": [],
   "source": []
  },
  {
   "cell_type": "code",
   "execution_count": null,
   "metadata": {},
   "outputs": [],
   "source": []
  },
  {
   "cell_type": "code",
   "execution_count": null,
   "metadata": {},
   "outputs": [],
   "source": []
  },
  {
   "cell_type": "code",
   "execution_count": null,
   "metadata": {},
   "outputs": [],
   "source": []
  },
  {
   "cell_type": "code",
   "execution_count": null,
   "metadata": {},
   "outputs": [],
   "source": []
  },
  {
   "cell_type": "code",
   "execution_count": null,
   "metadata": {},
   "outputs": [],
   "source": []
  },
  {
   "cell_type": "code",
   "execution_count": null,
   "metadata": {},
   "outputs": [],
   "source": []
  }
 ],
 "metadata": {
  "kernelspec": {
   "display_name": "Python 2",
   "language": "python",
   "name": "python2"
  },
  "language_info": {
   "codemirror_mode": {
    "name": "ipython",
    "version": 2
   },
   "file_extension": ".py",
   "mimetype": "text/x-python",
   "name": "python",
   "nbconvert_exporter": "python",
   "pygments_lexer": "ipython2",
   "version": "2.7.3"
  }
 },
 "nbformat": 4,
 "nbformat_minor": 2
}
