{
 "cells": [
  {
   "cell_type": "markdown",
   "metadata": {},
   "source": [
    "# Sid's xA^TA"
   ]
  },
  {
   "cell_type": "code",
   "execution_count": 14,
   "metadata": {},
   "outputs": [
    {
     "name": "stdout",
     "output_type": "stream",
     "text": [
      "The maximum number of function evaluations is exceeded.\n",
      "Number of iterations: 1001, function evaluations: 1002, CG iterations: 1006, optimality: 2.44e-01, constraint violation: 3.16e-02, execution time: 9.3e+01 s.\n"
     ]
    }
   ],
   "source": [
    "import numpy as np\n",
    "import scipy.io as sio\n",
    "from numpy.linalg import norm\n",
    "from scipy.optimize import minimize\n",
    "from scipy.optimize import Bounds\n",
    "from scipy.optimize import LinearConstraint\n",
    "from scipy.optimize import BFGS\n",
    "\n",
    "NID_An4 = sio.loadmat('180508_coordsFace1.mat')['thisFaceNodes_An4']\n",
    "NC_An4 = sio.loadmat('180508_coordsFace1.mat')['triNodeCoords_An4'][:20]\n",
    "NID_An5 = sio.loadmat('180508_coordsFace1.mat')['thisFaceNodes_An5']\n",
    "NC_An5 = sio.loadmat('180508_coordsFace1.mat')['triNodeCoords_An5'][:20]\n",
    "\n",
    "\n",
    "NC_An5[:,2] =  NC_An5[:,2] + 20;\n",
    "# NC_An4 = np.array([[0,0,0], [0,1,0], [1,0,0], [1,1,0], [2,2,0]]);\n",
    "# NC_An5 = np.array([[0,0,1], [0,1,1], [1,0,1], [1,1,1],[2,2,1]]);\n",
    "\n",
    "m = NC_An4.shape[0];\n",
    "n = NC_An5.shape[0];\n",
    "\n",
    "x = np.repeat(NC_An4.reshape(m,1,3), n, axis=1);\n",
    "y = np.repeat(NC_An5.reshape(n,1,3).swapaxes(0,1), m, axis=0);\n",
    "if np.sum(x[:,0,:] == NC_An4) != m*3:\n",
    "    print 'x shape wrong!'\n",
    "elif np.sum(y[0,:,:] == NC_An5) != n*3:\n",
    "    print 'y shape wrong!'\n",
    "coeff = norm(x-y, axis=2)\n",
    "coeff = np.reshape(coeff, m*n, )\n",
    "\n",
    "bounds = Bounds(np.zeros((m*n, )), np.ones((m*n, ))*np.inf)\n",
    "\n",
    "constraints = np.zeros((m*n, m+n))\n",
    "for i in range(m):\n",
    "    constraints[i*n : i*n+n, i] = 1\n",
    "for i in range(n):\n",
    "    constraints[np.arange(i, m*n, n), m+i] = 1\n",
    "# print constrains[:, m+n-1].reshape(m,n)\n",
    "lims = np.hstack((np.ones((m,)), np.ones((n,))*m/n))\n",
    "\n",
    "linear_constraint = LinearConstraint(constraints.T, lims, lims)\n",
    "\n",
    "weights_init = (np.ones((m,n))*1/n).reshape(m*n,)\n",
    "\n",
    "obj = lambda weights: weights.T.dot(coeff)\n",
    "\n",
    "# res = minimize(obj, weights_init, constraints=[linear_constraint], bounds=bounds, \n",
    "#                method='trust-constr', jac=\"2-point\", hess=BFGS(), options={'gtol': 1e-4, 'disp': True})\n",
    "\n",
    "def makeJac(x):\n",
    "    return coeff\n",
    "def makeHess(x):\n",
    "    return np.zeros((coeff.shape[0], coeff.shape[0]))\n",
    "\n",
    "res = minimize(obj, weights_init, constraints=[linear_constraint], bounds=bounds, \n",
    "               method='trust-constr', jac=makeJac, hess=makeHess, options={'gtol': 1e-3, 'disp': True})\n",
    "\n"
   ]
  },
  {
   "cell_type": "code",
   "execution_count": 65,
   "metadata": {},
   "outputs": [
    {
     "name": "stdout",
     "output_type": "stream",
     "text": [
      "(5,)\n",
      "[1. 1. 1. 1. 1. 1. 1. 1. 1. 1.]\n"
     ]
    }
   ],
   "source": [
    "weigths_init = np.ones((m,n))*1/n\n",
    "print np.sum(weigths_init, axis=1).shape\n",
    "\n",
    "print lims[0:459]"
   ]
  },
  {
   "cell_type": "code",
   "execution_count": 9,
   "metadata": {},
   "outputs": [
    {
     "data": {
      "text/plain": [
       "array([[0.52954748, 0.14295822, 0.14288233, 0.04849914, 0.04860376,\n",
       "        0.02856102, 0.00924448, 0.00613993, 0.02849867, 0.01506498],\n",
       "       [0.14212998, 0.24144812, 0.25068229, 0.10572103, 0.10609281,\n",
       "        0.05280927, 0.0141505 , 0.0099445 , 0.05285748, 0.02416403],\n",
       "       [0.14363892, 0.24762718, 0.2416856 , 0.10646414, 0.10636893,\n",
       "        0.05286843, 0.01425743, 0.00995505, 0.05284462, 0.0242897 ],\n",
       "       [0.04653659, 0.10970832, 0.10771679, 0.22603851, 0.22387585,\n",
       "        0.10656416, 0.01732743, 0.01363039, 0.10621176, 0.0423902 ],\n",
       "       [0.0466837 , 0.10924324, 0.10850042, 0.22403187, 0.2256367 ,\n",
       "        0.10640884, 0.0171594 , 0.01361584, 0.10632411, 0.04239589],\n",
       "       [0.02728758, 0.04678377, 0.04650388, 0.09814484, 0.09809557,\n",
       "        0.23278825, 0.06022593, 0.03370658, 0.23105215, 0.12541144],\n",
       "       [0.02730144, 0.04671954, 0.04653584, 0.09785153, 0.0980556 ,\n",
       "        0.23112358, 0.06033183, 0.0337443 , 0.23364778, 0.12468856],\n",
       "       [0.01363644, 0.02191126, 0.02188632, 0.03802714, 0.03800553,\n",
       "        0.08159311, 0.32856282, 0.09566528, 0.081469  , 0.2792431 ],\n",
       "       [0.01363723, 0.02191044, 0.02190767, 0.03803262, 0.03808569,\n",
       "        0.08174124, 0.32909165, 0.09550195, 0.08163191, 0.2784596 ],\n",
       "       [0.00960064, 0.01168991, 0.01169885, 0.01718919, 0.01717956,\n",
       "        0.0255421 , 0.14964852, 0.68809618, 0.02546254, 0.04389251]])"
      ]
     },
     "execution_count": 9,
     "metadata": {},
     "output_type": "execute_result"
    }
   ],
   "source": [
    "res.x.reshape(m,n)"
   ]
  },
  {
   "cell_type": "code",
   "execution_count": 12,
   "metadata": {},
   "outputs": [
    {
     "data": {
      "text/plain": [
       "array([1., 1., 1., 1., 1., 1., 1., 1., 1., 1.])"
      ]
     },
     "execution_count": 12,
     "metadata": {},
     "output_type": "execute_result"
    }
   ],
   "source": [
    "np.sum(res.x.reshape(m,n), axis=0)"
   ]
  },
  {
   "cell_type": "code",
   "execution_count": null,
   "metadata": {
    "collapsed": true
   },
   "outputs": [],
   "source": []
  }
 ],
 "metadata": {
  "kernelspec": {
   "display_name": "Python 2",
   "language": "python",
   "name": "python2"
  },
  "language_info": {
   "codemirror_mode": {
    "name": "ipython",
    "version": 2
   },
   "file_extension": ".py",
   "mimetype": "text/x-python",
   "name": "python",
   "nbconvert_exporter": "python",
   "pygments_lexer": "ipython2",
   "version": "2.7.14"
  }
 },
 "nbformat": 4,
 "nbformat_minor": 2
}
