{
 "cells": [
  {
   "cell_type": "code",
   "execution_count": 1,
   "metadata": {},
   "outputs": [],
   "source": [
    "import pandas as pd\n",
    "import numpy as np\n",
    "from sklearn.ensemble import RandomForestClassifier\n",
    "\n",
    "import matplotlib.pyplot as plt\n",
    "\n",
    "data = pd.read_csv('/Users/xiaotingzhong/Documents/Matlab/Grain Tracking/190318_mig_signs.txt', header=0)"
   ]
  },
  {
   "cell_type": "code",
   "execution_count": 4,
   "metadata": {},
   "outputs": [],
   "source": [
    "X = data.iloc[:, :-1]\n",
    "y = data.iloc[:, -1]\n",
    "\n",
    "eps = 1e-2\n",
    "mask_pos = (y > eps)\n",
    "mask_neg = (y < -eps)\n",
    "sign = pd.Series(np.zeros(X.shape[0]), name = 'motion_sign')\n",
    "sign[mask_pos] = 'pos'\n",
    "sign[mask_neg] = 'neg'\n",
    "sign[sign==0] = 'stable'\n"
   ]
  },
  {
   "cell_type": "markdown",
   "metadata": {},
   "source": [
    "### Random Forest"
   ]
  },
  {
   "cell_type": "code",
   "execution_count": 23,
   "metadata": {},
   "outputs": [
    {
     "name": "stdout",
     "output_type": "stream",
     "text": [
      "1047\n",
      "3113\n",
      "2844\n"
     ]
    }
   ],
   "source": [
    "print np.sum(y == 0)\n",
    "print np.sum(y == 1)\n",
    "print np.sum(y == -1)"
   ]
  },
  {
   "cell_type": "code",
   "execution_count": 19,
   "metadata": {},
   "outputs": [
    {
     "name": "stdout",
     "output_type": "stream",
     "text": [
      "0.6620502569960023\n",
      "[0.4171007  0.28851861 0.17426504 0.03131072 0.00116224 0.01114154\n",
      " 0.07650116]\n"
     ]
    },
    {
     "data": {
      "text/plain": [
       "(array([0, 1, 2, 3, 4, 5, 6]), <a list of 7 Text xticklabel objects>)"
      ]
     },
     "execution_count": 19,
     "metadata": {},
     "output_type": "execute_result"
    },
    {
     "data": {
      "image/png": "[encoded data removed]",
      "text/plain": [
       "<matplotlib.figure.Figure at 0x10d96f110>"
      ]
     },
     "metadata": {},
     "output_type": "display_data"
    }
   ],
   "source": [
    "# X.iloc[:,-1] = - X.iloc[:,-1]\n",
    "\n",
    "# clf = RandomForestClassifier(n_estimators=1000, max_depth=2, random_state=0)\n",
    "# clf.fit(X, sign)\n",
    "print clf.score(X, sign)\n",
    "print clf.feature_importances_\n",
    "\n",
    "p1 = plt.bar(np.arange(X.shape[1]), clf.feature_importances_)\n",
    "\n",
    "plt.xticks(np.arange(X.shape[1]), X.columns.values)\n",
    "plt.xticks(rotation=30)"
   ]
  },
  {
   "cell_type": "markdown",
   "metadata": {},
   "source": [
    "### Logistic Regression"
   ]
  },
  {
   "cell_type": "code",
   "execution_count": null,
   "metadata": {},
   "outputs": [],
   "source": [
    "import statsmodels.api as sm\n",
    "import statsmodels.api as st\n",
    "\n",
    "dummy_sign = pd.get_dummies(sign)\n",
    "\n",
    "X_sm = st.add_constant(X.iloc[:,[0]])\n",
    "logit = st.MNLogit(dummy_sign.values, X_sm.values)\n",
    "\n",
    "result = logit.fit()\n",
    "\n",
    "\n",
    "\n"
   ]
  },
  {
   "cell_type": "code",
   "execution_count": null,
   "metadata": {},
   "outputs": [],
   "source": [
    "# import statsmodels.api as st\n",
    "# iris = st.datasets.get_rdataset('iris', 'datasets')\n",
    "# y = iris.data.Species\n",
    "# x = iris.data.ix[:, 0]\n",
    "# x = st.add_constant(x, prepend = False)\n",
    "\n",
    "# mdl = st.MNLogit(y, x)\n",
    "# mdl_fit = mdl.fit()\n",
    "# print mdl_fit.summary2()\n",
    "\n",
    "X.iloc[:,[0,-1]]\n"
   ]
  },
  {
   "cell_type": "code",
   "execution_count": null,
   "metadata": {},
   "outputs": [],
   "source": []
  },
  {
   "cell_type": "code",
   "execution_count": null,
   "metadata": {},
   "outputs": [],
   "source": []
  },
  {
   "cell_type": "code",
   "execution_count": null,
   "metadata": {},
   "outputs": [],
   "source": []
  }
 ],
 "metadata": {
  "kernelspec": {
   "display_name": "Python 2",
   "language": "python",
   "name": "python2"
  },
  "language_info": {
   "codemirror_mode": {
    "name": "ipython",
    "version": 2
   },
   "file_extension": ".py",
   "mimetype": "text/x-python",
   "name": "python",
   "nbconvert_exporter": "python",
   "pygments_lexer": "ipython2",
   "version": "2.7.14"
  }
 },
 "nbformat": 4,
 "nbformat_minor": 2
}
