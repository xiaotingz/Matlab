{
 "cells": [
  {
   "cell_type": "markdown",
   "metadata": {},
   "source": [
    "# Data:\n",
    "- Geometry (area, curvature)\n",
    "    - $A$, $Ms^{f}$, $<H>$.\n",
    "- Topology (corner)\n",
    "    - $C$, $C-<Cnn>$\n",
    "- Migration\n",
    "    - sign, distance\n",
    "    - Energy gradient: grain & connected face\n",
    "- Energy\n",
    "- Crystallography\n",
    "  - misorientation angle from sigma3.\n",
    "  - weighted average distance from coherent twin. \n",
    "    \n",
    "## Directions:\n",
    "  - Prediction & Correlation.\n",
    "  - In-plane evolution (area, curvature) & Out-of-plane migration\n",
    "  \n",
    "## Possible assumptions: \n",
    "- Faces move in a direction consistent with the energy gradient within the grain pair. \n",
    "- Faces move in a direction / with a magnitude consistent with face curvature\n",
    "- Faces that are increasing in area move along with the energy gradient.\n",
    "- Faces with large $C$, $Ms^{f}$, $|C - <Cnn>|_{an4}$ move long distances.\n",
    "- Face migration distances are related to crystallography.\n",
    "- Geometry   vs.   Geometry\n",
    "- Gemoetry   vs.   Topology\n",
    "- Gemoetry/Topology   vs.   Migration\n",
    "- energy   vs.   mig_dist\n"
   ]
  },
  {
   "cell_type": "code",
   "execution_count": 1,
   "metadata": {},
   "outputs": [],
   "source": [
    "import pandas as pd\n",
    "import numpy as np\n",
    "import xgboost as xgb\n",
    "from xgboost.sklearn import XGBClassifier\n",
    "from sklearn import metrics\n",
    "from sklearn.model_selection import cross_val_score\n",
    "from sklearn.model_selection import cross_validate\n",
    "from sklearn.model_selection import train_test_split\n",
    "from sklearn.metrics import confusion_matrix\n",
    "from sklearn.metrics import classification_report\n",
    "\n",
    "import matplotlib.pylab as plt\n",
    "import seaborn as sns\n",
    "%matplotlib inline\n",
    "# from matplotlib.pylab import rcParams\n",
    "\n",
    "mig = pd.read_csv('/Users/xiaotingzhong/Documents/Matlab/Grain Tracking/190408_features_mig.txt')\n",
    "mig_sign = pd.read_csv('/Users/xiaotingzhong/Documents/Matlab/Grain Tracking/190408_features_mig_signs.txt')\n",
    "energy_grad = pd.read_csv('/Users/xiaotingzhong/Documents/Matlab/Grain Tracking/190408_features_energygrad_new.txt')\n",
    "geo_topo = pd.read_csv('/Users/xiaotingzhong/Documents/Matlab/Grain Tracking/190408_features_geo_topo.txt')\n",
    "other = pd.read_csv('/Users/xiaotingzhong/Documents/Matlab/Grain Tracking/190408_features_otherinfo.txt')\n",
    "\n",
    "mig.columns = mig.columns.str.strip()\n",
    "mig_sign.columns = mig_sign.columns.str.strip()\n",
    "energy_grad.columns = energy_grad.columns.str.strip()\n",
    "geo_topo.columns = geo_topo.columns.str.strip()\n",
    "other.columns = other.columns.str.strip()"
   ]
  },
  {
   "cell_type": "code",
   "execution_count": 40,
   "metadata": {},
   "outputs": [
    {
     "name": "stdout",
     "output_type": "stream",
     "text": [
      "835\n"
     ]
    }
   ],
   "source": [
    "# import scipy.io\n",
    "# mat = scipy.io.loadmat('/Volumes/XIAOTING/Ni/working/Grain Tracking/tmp_190416.mat')\n",
    "# dists_f_g_an4 = mat['dists_f_g_an4']\n",
    "# dists_f_g_an5 = mat['dists_f_g_an5']\n",
    "\n",
    "# eps_motion = 0.001;\n",
    "# move_left = np.zeros([dists_f_g_an4.shape[0], 1]);\n",
    "# for i in range(dists_f_g_an4.shape[0]):\n",
    "#     if dists_f_g_an4[i, 0] < dists_f_g_an5[i, 0] - eps_motion:\n",
    "#         move_left[i] = -1;\n",
    "#     elif dists_f_g_an4[i, 0]  > dists_f_g_an5[i, 0]  + eps_motion:\n",
    "#         move_left[i] = 1;\n",
    "#     else:\n",
    "#         move_left[i] = 0;\n",
    "        \n",
    "data = scipy.io.loadmat('/Volumes/XIAOTING/Ni/working/Grain Tracking/projection/190417_dist_left_from_an4normproj.mat')\n",
    "dist_left = data['dist_left']\n",
    "\n",
    "eps = 0.3\n",
    "mask_pos = dist_left > eps\n",
    "mask_neg = dist_left < -eps\n",
    "\n",
    "move_left = np.zeros(dist_left.shape)\n",
    "move_left[mask_pos] = 1\n",
    "move_left[mask_neg] = -1\n",
    "\n",
    "\n",
    "\n",
    "energy_grad.iloc[:, 0] = move_left\n",
    "print np.sum(move_left == 0)"
   ]
  },
  {
   "cell_type": "code",
   "execution_count": null,
   "metadata": {},
   "outputs": [],
   "source": []
  },
  {
   "cell_type": "markdown",
   "metadata": {},
   "source": [
    "### Helper Functions"
   ]
  },
  {
   "cell_type": "code",
   "execution_count": 3,
   "metadata": {},
   "outputs": [],
   "source": [
    "def plotConfusionMatrix(y_true, y_pred, classes,\n",
    "                          normalize=True,\n",
    "                          title=None,\n",
    "                          rotate_xlabel=False,\n",
    "                          cmap=plt.cm.Blues):\n",
    "    \"\"\"\n",
    "    This function prints and plots the confusion matrix.\n",
    "    Normalization can be applied by setting `normalize=True`.\n",
    "    \"\"\"\n",
    "#     if not title:\n",
    "#         if normalize:\n",
    "#             title = 'Normalized confusion matrix'\n",
    "#         else:\n",
    "#             title = 'Confusion matrix, without normalization'\n",
    "\n",
    "    # Compute confusion matrix\n",
    "    cm = confusion_matrix(y_true, y_pred)\n",
    "    if normalize:\n",
    "        cm = cm.astype('float') / cm.sum(axis=1)[:, np.newaxis]\n",
    "\n",
    "    fig, ax = plt.subplots()\n",
    "    im = ax.imshow(cm, interpolation='nearest', cmap=cmap)\n",
    "    ax.figure.colorbar(im, ax=ax)\n",
    "    # We want to show all ticks...\n",
    "    ax.set(xticks=np.arange(cm.shape[1]),\n",
    "           yticks=np.arange(cm.shape[0]),\n",
    "           # ... and label them with the respective list entries\n",
    "           xticklabels=classes, yticklabels=classes,\n",
    "           ylabel='True label',\n",
    "           xlabel='Predicted label')\n",
    "\n",
    "    # Rotate the tick labels and set their alignment.\n",
    "    if rotate_xlabel:\n",
    "        plt.setp(ax.get_xticklabels(), rotation=45, ha=\"right\",\n",
    "             rotation_mode=\"anchor\")\n",
    "\n",
    "    # Loop over data dimensions and create text annotations.\n",
    "    fmt = '.2f' if normalize else 'd'\n",
    "    thresh = cm.max() / 2.\n",
    "    for i in range(cm.shape[0]):\n",
    "        for j in range(cm.shape[1]):\n",
    "            ax.text(j, i, format(cm[i, j], fmt),\n",
    "                    ha=\"center\", va=\"center\",\n",
    "                    color=\"white\" if cm[i, j] > thresh else \"black\")\n",
    "    fig.tight_layout()\n",
    "    \n",
    "    # save figure\n",
    "    if title:\n",
    "        plt.savefig(title, dpi=300, bbox_inches=\"tight\")\n",
    "    \n",
    "    return ax\n",
    "\n",
    "def plotCorrelationMatrix(df, title=None):\n",
    "    # Create Correlation df\n",
    "    corr = df.corr()\n",
    "    # Plot figsize\n",
    "    fig, ax = plt.subplots(figsize=(10, 10))\n",
    "\n",
    "    # Drop self-correlations\n",
    "    dropSelf = np.zeros_like(corr)\n",
    "    dropSelf[np.triu_indices_from(dropSelf)] = True\n",
    "    # Generate Heat Map, allow annotations and place floats in map\n",
    "    sns.heatmap(corr, cmap=\"Blues\", annot=True, fmt=\".2f\", mask=dropSelf, square=True)\n",
    "    # Apply xticks\n",
    "    plt.xticks(range(len(corr.columns)), corr.columns, size = 16)\n",
    "    # Apply yticks\n",
    "    plt.yticks(range(len(corr.columns)), corr.columns, size = 16)\n",
    "    \n",
    "    plt.setp(ax.get_xticklabels(), rotation=45, ha=\"right\",\n",
    "             rotation_mode=\"anchor\")\n",
    "    \n",
    "    # save figure\n",
    "    if title:\n",
    "        plt.savefig(title, dpi=300, bbox_inches=\"tight\")\n",
    "    \n",
    "    # show plot\n",
    "    plt.show()\n",
    "\n",
    "    \n",
    "def plotFeatureImportance(feature_importance, names, title = None):\n",
    "    ax = plt.gca()\n",
    "    plt.bar(range(len(feature_importance)), feature_importance)\n",
    "    plt.yticks(fontsize=16)\n",
    "    plt.xticks(range(len(feature_importance)), names.values, size = 16)\n",
    "    plt.setp(ax.get_xticklabels(), rotation=45, ha=\"right\",\n",
    "         rotation_mode=\"anchor\")\n",
    "    if title:\n",
    "        plt.savefig(title, dpi=300, bbox_inches=\"tight\")\n",
    "    "
   ]
  },
  {
   "cell_type": "code",
   "execution_count": null,
   "metadata": {},
   "outputs": [],
   "source": []
  },
  {
   "cell_type": "code",
   "execution_count": 13,
   "metadata": {},
   "outputs": [
    {
     "name": "stdout",
     "output_type": "stream",
     "text": [
      "<class 'pandas.core.frame.DataFrame'>\n",
      "RangeIndex: 7004 entries, 0 to 7003\n",
      "Data columns (total 10 columns):\n",
      "move_left          7004 non-null int64\n",
      "gV_diff_an4        7004 non-null float64\n",
      "gF_diff_an4        7004 non-null float64\n",
      "gFnnF_diff_an4     7004 non-null float64\n",
      "gMs_diff_an4       7004 non-null float64\n",
      "fMs_an4_left       7004 non-null float64\n",
      "FnnF_A_maxdec      7004 non-null float64\n",
      "FnnF_A_avgdec      7004 non-null float64\n",
      "FnnF_fMs_maxdec    7004 non-null float64\n",
      "FnnF_fMs_avgdec    7004 non-null float64\n",
      "dtypes: float64(9), int64(1)\n",
      "memory usage: 547.3 KB\n",
      "None\n",
      "-------------------------------------------------------\n",
      "<class 'pandas.core.frame.DataFrame'>\n",
      "RangeIndex: 5878 entries, 0 to 5877\n",
      "Data columns (total 2 columns):\n",
      "mig_abs_nearest    5878 non-null float64\n",
      "mig_abs_ot         5878 non-null float64\n",
      "dtypes: float64(2)\n",
      "memory usage: 91.9 KB\n",
      "None\n",
      "-------------------------------------------------------\n",
      "<class 'pandas.core.frame.DataFrame'>\n",
      "RangeIndex: 5878 entries, 0 to 5877\n",
      "Data columns (total 4 columns):\n",
      "mig_n1_sign_nearest    5878 non-null float64\n",
      "mig_n2_sign_nearest    5878 non-null float64\n",
      "mig_n1_sign_ot         5878 non-null float64\n",
      "mig_n2_sign_ot         5878 non-null float64\n",
      "dtypes: float64(4)\n",
      "memory usage: 183.8 KB\n",
      "None\n",
      "-------------------------------------------------------\n",
      "<class 'pandas.core.frame.DataFrame'>\n",
      "RangeIndex: 7004 entries, 0 to 7003\n",
      "Data columns (total 10 columns):\n",
      "A_an4                7004 non-null float64\n",
      "fMs_an4              7004 non-null float64\n",
      "avg_FabsavgH_an4     7004 non-null float64\n",
      "C_an4                7004 non-null float64\n",
      "CnnC_an4             7004 non-null float64\n",
      "A_diff               7004 non-null float64\n",
      "fMs_diff             7004 non-null float64\n",
      "avg_FabsavgH_diff    7004 non-null float64\n",
      "C_diff               7004 non-null float64\n",
      "CnnC_diff            7004 non-null float64\n",
      "dtypes: float64(10)\n",
      "memory usage: 547.3 KB\n",
      "None\n",
      "-------------------------------------------------------\n",
      "<class 'pandas.core.frame.DataFrame'>\n",
      "RangeIndex: 7004 entries, 0 to 7003\n",
      "Data columns (total 3 columns):\n",
      "is_onepiece    7004 non-null int64\n",
      "not_twin       7004 non-null int64\n",
      "dist_twin      7004 non-null float64\n",
      "dtypes: float64(1), int64(2)\n",
      "memory usage: 164.2 KB\n",
      "None\n"
     ]
    }
   ],
   "source": [
    "print energy_grad.info()\n",
    "print '-------------------------------------------------------'\n",
    "print mig.info()\n",
    "print '-------------------------------------------------------'\n",
    "print mig_sign.info()\n",
    "print '-------------------------------------------------------'\n",
    "print geo_topo.info()\n",
    "print '-------------------------------------------------------'\n",
    "print other.info()"
   ]
  },
  {
   "cell_type": "code",
   "execution_count": null,
   "metadata": {},
   "outputs": [],
   "source": []
  },
  {
   "cell_type": "markdown",
   "metadata": {},
   "source": [
    "## Preprocessing \n",
    "### Continuous -> Categorical, Migration Distance, by 10-tile (deciles, equal #samples in each bin)"
   ]
  },
  {
   "cell_type": "code",
   "execution_count": 269,
   "metadata": {},
   "outputs": [],
   "source": [
    "mask_onepiece = other.iloc[:,0].astype('bool').values\n",
    "\n",
    "# ---------------------------------------------------------------------------\n",
    "# migration distance by nearest pair tracking\n",
    "# ---------------------------------------------------------------------------\n",
    "mig_abs_nearest = mig.mig_abs_nearest\n",
    "X_nearest = pd.concat([energy_grad.iloc[:, 1:], geo_topo, other.iloc[:, 1:]], axis=1)\n",
    "X_nearest = X_nearest[mask_onepiece]\n",
    "\n",
    "mask_nearest_normal = (mig.mig_abs_nearest < 10)\n",
    "mig_abs_nearest = mig_abs_nearest[mask_nearest_normal.values]\n",
    "X_nearest = X_nearest[mask_nearest_normal.values]\n",
    "\n",
    "mig_abs_nearest_rank_decile = pd.qcut(mig_abs_nearest, 10, labels=np.arange(10))\n",
    "\n",
    "# ---------------------------------------------------------------------------\n",
    "# migration distance by optimal transportation tracking\n",
    "# ---------------------------------------------------------------------------\n",
    "mig_abs_ot = mig.mig_abs_ot\n",
    "X_ot = pd.concat([energy_grad.iloc[:, 1:], geo_topo, other.iloc[:, 1:]], axis=1)\n",
    "X_ot = X_ot[mask_onepiece]\n",
    "\n",
    "mask_ot_normal = (mig.mig_abs_ot < 10)\n",
    "mig_abs_ot = mig.mig_abs_ot[mask_ot_normal]\n",
    "X_ot = X_ot[mask_ot_normal.values]\n",
    "\n",
    "mig_abs_ot_rank_decile = pd.qcut(mig_abs_ot, 10, labels=np.arange(10))\n",
    "\n",
    "# print 'max_mig_dist from optimal transport: ', max(mig.mig_abs_ot)\n",
    "# print 'max_mig_dist from nearest points: ', max(mig.mig_abs_nearest)"
   ]
  },
  {
   "cell_type": "markdown",
   "metadata": {},
   "source": [
    "### Continuous -> Categorical, Migration Distance, equal bin size (Ignore extreme data)"
   ]
  },
  {
   "cell_type": "code",
   "execution_count": 131,
   "metadata": {},
   "outputs": [],
   "source": [
    "mask_onepiece = other.iloc[:,0].astype('bool').values\n",
    "\n",
    "# ---------------------------------------------------------------------------\n",
    "mig_abs_nearest = mig.mig_abs_nearest\n",
    "X_nearest = pd.concat([energy_grad.iloc[:, 1:], geo_topo, other.iloc[:, 1:]], axis=1)\n",
    "X_nearest = X_nearest[mask_onepiece]\n",
    "# mask_nearest_normal = (mig.mig_abs_nearest < 30)\n",
    "# print '#extreme migration faces, nearest point matching =', mask_nearest_normal.shape[0] - sum(mask_nearest_normal)\n",
    "\n",
    "# mig_abs_nearest = mig_abs_nearest[mask_nearest_normal.values]\n",
    "# X_nearest = X_nearest[mask_nearest_normal.values]\n",
    "\n",
    "bin_edge = np.append(np.arange(0, 11, 1), 100)\n",
    "# mig_abs_nearest_bin = pd.cut(mig_abs_nearest, bin_edge, labels=np.append(np.arange(1, 11, 1), 100).astype(int))\n",
    "mig_abs_nearest_bin = pd.cut(mig_abs_nearest, bin_edge, labels=np.arange(11).astype(int))\n",
    "\n",
    "# ---------------------------------------------------------------------------\n",
    "mig_abs_ot = mig.mig_abs_ot\n",
    "X_ot = pd.concat([energy_grad.iloc[:, 1:], geo_topo, other.iloc[:, 1:]], axis=1)\n",
    "X_ot = X_ot[mask_onepiece]\n",
    "\n",
    "# mig_abs_ot = mig.mig_abs_ot[mask_ot_normal]\n",
    "# X_ot = X_ot[mask_ot_normal.values]\n",
    "\n",
    "bin_edge = np.append(np.arange(0, 11, 1), 100)\n",
    "# mig_abs_ot_bin = pd.cut(mig_abs_ot, bin_edge, labels=np.append(np.arange(1, 11, 1), 100).astype(int))\n",
    "mig_abs_ot_bin = pd.cut(mig_abs_ot, bin_edge, labels=np.arange(11).astype(int))"
   ]
  },
  {
   "cell_type": "code",
   "execution_count": null,
   "metadata": {},
   "outputs": [],
   "source": [
    "# plt.hist(mig_abs_nearest_bin, density=True)"
   ]
  },
  {
   "cell_type": "markdown",
   "metadata": {},
   "source": [
    "### Continuous -> Categorical, Geometric, equal bin size (Ignore extreme data)"
   ]
  },
  {
   "cell_type": "code",
   "execution_count": 188,
   "metadata": {},
   "outputs": [
    {
     "name": "stdout",
     "output_type": "stream",
     "text": [
      "extreme area change =  5.67 %\n",
      "extreme face integral curvature change =  1.57 %\n"
     ]
    },
    {
     "data": {
      "text/plain": [
       "(array([0.11073038, 0.04061171, 0.07725744, 0.12833936, 0.2320896 ,\n",
       "        0.21210102, 0.11739324, 0.06139349, 0.03490069, 0.09629418]),\n",
       " array([0. , 0.9, 1.8, 2.7, 3.6, 4.5, 5.4, 6.3, 7.2, 8.1, 9. ]),\n",
       " <a list of 10 Patch objects>)"
      ]
     },
     "execution_count": 188,
     "metadata": {},
     "output_type": "execute_result"
    },
    {
     "data": {
      "image/png": "[encoded data removed]",
      "text/plain": [
       "<matplotlib.figure.Figure at 0x1a18382d90>"
      ]
     },
     "metadata": {},
     "output_type": "display_data"
    }
   ],
   "source": [
    "# ---------------------------------------------------------------------------\n",
    "# area change\n",
    "# ---------------------------------------------------------------------------\n",
    "X_da = pd.concat([energy_grad.iloc[:, 1], geo_topo.iloc[:, :5], other.iloc[:, 1:]], axis=1)\n",
    "da = geo_topo.iloc[:, 5]\n",
    "\n",
    "print 'extreme area change = ', np.round(float(sum(abs(da) > 500)) / da.shape[0] * 100.0, 2), '%'\n",
    "bin_edge = np.array([-1e5] + list(np.arange(-500, 501, 100)) + [1e5])\n",
    "da_bin = pd.cut(da, bin_edge, labels=bin_edge[1:].astype(int))\n",
    "\n",
    "# plt.hist(da_bin, density=True)\n",
    "\n",
    "\n",
    "# ---------------------------------------------------------------------------\n",
    "# face integral mean curvature change\n",
    "# ---------------------------------------------------------------------------\n",
    "X_dfms = pd.concat([energy_grad.iloc[:, 1], geo_topo.iloc[:, :5], other.iloc[:, 1:]], axis=1)\n",
    "dfms = geo_topo.iloc[:, 6]\n",
    "print 'extreme face integral curvature change = ', np.round(float(sum(abs(dfms) > 200)) / dfms.shape[0] * 100.0, 2), '%'\n",
    "\n",
    "bin_edge = np.array([-1e5] + list(np.arange(-200, 201, 50)) + [1e5])\n",
    "# dfms_bin = pd.cut(da, bin_edge, labels=bin_edge[1:].astype(int))\n",
    "dfms_bin = pd.cut(da, bin_edge, labels=np.arange(bin_edge.shape[0]-1).astype(int))\n",
    "\n",
    "plt.hist(dfms_bin, density=True)\n",
    "\n"
   ]
  },
  {
   "cell_type": "code",
   "execution_count": null,
   "metadata": {},
   "outputs": [],
   "source": []
  },
  {
   "cell_type": "code",
   "execution_count": null,
   "metadata": {},
   "outputs": [],
   "source": []
  },
  {
   "cell_type": "markdown",
   "metadata": {},
   "source": [
    "# Logistic Regression\n",
    "- Notes\n",
    "    - only ‘newton-cg’, ‘sag’, ‘saga’ and ‘lbfgs’ handle multinomial loss; ‘liblinear’ is limited to one-versus-rest schemes\n",
    "    - only ‘liblinear’ and ‘saga’ handle L1 penalty.\n",
    "- Parameter importance \n",
    "    - np.std(X, 0) * clf.coef_ \n",
    "        - https://stackoverflow.com/questions/34052115/how-to-find-the-importance-of-the-features-for-a-logistic-regression-model\n",
    "- Results\n",
    "    - L1 & L2\n",
    "        - Accuracy is similar, but coefs very different\n",
    "    - 'liblinear' + 'ovr' (one versus all) & 'saga' + 'multinomial'\n",
    "        - The prediction accuracy is similar.\n",
    "        - The feature selection effect is much more clear in 'saga' + 'multinomial'."
   ]
  },
  {
   "cell_type": "markdown",
   "metadata": {},
   "source": [
    "### Logistic Regression, Vanilla"
   ]
  },
  {
   "cell_type": "code",
   "execution_count": 17,
   "metadata": {},
   "outputs": [
    {
     "name": "stderr",
     "output_type": "stream",
     "text": [
      "/Users/xiaotingzhong/anaconda2/lib/python2.7/site-packages/sklearn/linear_model/logistic.py:433: FutureWarning: Default solver will be changed to 'lbfgs' in 0.22. Specify a solver to silence this warning.\n",
      "  FutureWarning)\n",
      "/Users/xiaotingzhong/anaconda2/lib/python2.7/site-packages/sklearn/linear_model/logistic.py:460: FutureWarning: Default multi_class will be changed to 'auto' in 0.22. Specify the multi_class option to silence this warning.\n",
      "  \"this warning.\", FutureWarning)\n"
     ]
    },
    {
     "name": "stdout",
     "output_type": "stream",
     "text": [
      "[[-4.91036916e-04  1.26735980e-02 -1.04689510e-02 -1.89738985e-04\n",
      "  -8.44767243e-04  2.30483248e-04 -1.70930980e-03  7.06665970e-05\n",
      "  -1.62567985e-04]\n",
      " [-2.98748643e-03  2.15381952e-02 -7.34119017e-03 -1.36963215e-04\n",
      "   3.22727621e-04 -2.22129260e-05 -1.17936314e-05  2.31211213e-05\n",
      "  -2.18051397e-05]\n",
      " [ 3.63381912e-03 -3.49417326e-02  1.86677593e-02  2.84753754e-04\n",
      "   5.64532056e-04 -2.24130777e-04  1.76533207e-03 -8.09789336e-05\n",
      "   1.18224948e-04]]\n",
      "accuracy:  0.5112792689891491\n"
     ]
    }
   ],
   "source": [
    "from sklearn.linear_model import LogisticRegression\n",
    "\n",
    "y = energy_grad.iloc[:, 0]\n",
    "X = energy_grad.iloc[:, 1:]\n",
    "\n",
    "# y = mig_sign.mig_n2_sign_ot\n",
    "# X = energy_grad.iloc[:, 1:]\n",
    "# mask_onepiece = other.iloc[:,0].astype('bool').values\n",
    "# X = X[mask_onepiece]\n",
    "\n",
    "logi_reg = LogisticRegression()\n",
    "\n",
    "logi_reg.fit(X, y)\n",
    "print logi_reg.coef_\n",
    "# print lasso.intercept_\n",
    "print 'accuracy: ', logi_reg.score(X, y)"
   ]
  },
  {
   "cell_type": "markdown",
   "metadata": {},
   "source": [
    "### Logistic Regression, Lasso"
   ]
  },
  {
   "cell_type": "code",
   "execution_count": 16,
   "metadata": {},
   "outputs": [
    {
     "name": "stdout",
     "output_type": "stream",
     "text": [
      "['fit_time', 'score_time', 'test_score', 'train_score']\n",
      "test accuracy =  [0.79600571 0.80442541 0.80228408 0.80428571 0.80285714] 0.801971611299216\n",
      "training accuracy =  [0.80417708 0.80242727 0.80349813 0.80192719 0.80210564] 0.8028270620826673\n"
     ]
    }
   ],
   "source": [
    "from sklearn.linear_model import LogisticRegression\n",
    "\n",
    "y = energy_grad.iloc[:, 0]\n",
    "X = energy_grad.iloc[:, 1:]\n",
    "# X = pd.concat([energy_grad.iloc[:, 1:], geo_topo.iloc[:,:5], other.iloc[:, 1:]], axis=1)\n",
    "# # X = X[['gV_diff_an4', 'fMs_an4']]\n",
    "\n",
    "# mask = (y != 0)\n",
    "# X = X[mask]\n",
    "# y = y[mask]\n",
    "\n",
    "\n",
    "# y = mig_abs_ot_bin\n",
    "# # X = X_ot.iloc[:, 9:16]\n",
    "# X = X_ot\n",
    "\n",
    "\n",
    "# logi_reg = LogisticRegression(penalty='l1', solver='saga', multi_class='multinomial', max_iter=3000, C=0.01)\n",
    "logi_reg = LogisticRegression(penalty='l1', solver='liblinear', max_iter=1000, C=0.01)\n",
    "\n",
    "# logi_reg.fit(X, y)\n",
    "# print logi_reg.coef_\n",
    "# # print lasso.intercept_\n",
    "# print 'accuracy: ', logi_reg.score(X, y)\n",
    "\n",
    "\n",
    "cv_results = cross_validate(logi_reg, X, y, cv=5, return_train_score=True)\n",
    "print sorted(cv_results.keys()) \n",
    "print 'test accuracy = ', cv_results['test_score'], cv_results['test_score'].mean()\n",
    "print 'training accuracy = ', cv_results['train_score'], cv_results['train_score'].mean()"
   ]
  },
  {
   "cell_type": "code",
   "execution_count": 41,
   "metadata": {},
   "outputs": [
    {
     "name": "stdout",
     "output_type": "stream",
     "text": [
      "0.5182012847965739\n",
      "              precision    recall  f1-score   support\n",
      "\n",
      "        -1.0       0.52      0.63      0.57       599\n",
      "         0.0       0.00      0.00      0.00       195\n",
      "         1.0       0.52      0.57      0.55       607\n",
      "\n",
      "   micro avg       0.52      0.52      0.52      1401\n",
      "   macro avg       0.35      0.40      0.37      1401\n",
      "weighted avg       0.45      0.52      0.48      1401\n",
      "\n"
     ]
    },
    {
     "data": {
      "text/plain": [
       "<matplotlib.axes._subplots.AxesSubplot at 0x1a182d1dd0>"
      ]
     },
     "execution_count": 41,
     "metadata": {},
     "output_type": "execute_result"
    },
    {
     "data": {
      "image/png": "[encoded data removed]",
      "text/plain": [
       "<matplotlib.figure.Figure at 0x1a1804ff90>"
      ]
     },
     "metadata": {},
     "output_type": "display_data"
    }
   ],
   "source": [
    "y = energy_grad.iloc[:, 0]\n",
    "X = energy_grad.iloc[:, 1:]\n",
    "X_train, X_test, y_train, y_test = train_test_split(X, y, test_size=0.2, random_state=0)\n",
    "logi_reg.fit(X_train, y_train)\n",
    "\n",
    "X = X_test\n",
    "y_true = y_test\n",
    "y_pred = logi_reg.predict(X)\n",
    "\n",
    "print logi_reg.score(X, y_true)\n",
    "print classification_report(y_true, y_pred)\n",
    "plotConfusionMatrix(y_true, y_pred, ['-1', '0', '1'], normalize=False, rotate_xlabel=False, title='logi_reg_mig_sign_conf')\n",
    "\n",
    "# weighted_coeffs = np.std(X, 0).T*logi_reg.coef_[2,:]\n",
    "# plotFeatureImportance(weighted_coeffs, X.columns, title='logi_reg_mig_sign_featureImportance')"
   ]
  },
  {
   "cell_type": "code",
   "execution_count": 42,
   "metadata": {},
   "outputs": [
    {
     "data": {
      "image/png": "[encoded data removed]",
      "text/plain": [
       "<matplotlib.figure.Figure at 0x1a1852c450>"
      ]
     },
     "metadata": {},
     "output_type": "display_data"
    }
   ],
   "source": [
    "plt.hist(y, bins=[-1, 0, 1, 2], density = True)\n",
    "plt.xticks([-0.5, 0.5, 1.5], ['-1', '0', '1'], size=15)\n",
    "plt.yticks(size=15)\n",
    "plt.ylabel('Probablity',size=16)\n",
    "plt.xlabel('Sign Of Migration',size=16)\n",
    "plt.savefig('label distribution', dpi=300, bbox_inches=\"tight\")"
   ]
  },
  {
   "cell_type": "code",
   "execution_count": null,
   "metadata": {},
   "outputs": [],
   "source": []
  },
  {
   "cell_type": "markdown",
   "metadata": {},
   "source": [
    "### RFE\n",
    "Feature ranking with recursive feature elimination."
   ]
  },
  {
   "cell_type": "code",
   "execution_count": 38,
   "metadata": {},
   "outputs": [
    {
     "name": "stdout",
     "output_type": "stream",
     "text": [
      "[ True  True  True False False False False False False]\n",
      "[1 1 1 3 2 7 4 6 5]\n"
     ]
    }
   ],
   "source": [
    "from sklearn.feature_selection import RFE\n",
    "\n",
    "y = energy_grad.iloc[:, 0]\n",
    "X = energy_grad.iloc[:, 1:]\n",
    "\n",
    "estimator = LogisticRegression()\n",
    "selector = RFE(estimator, 3, step=1)\n",
    "selector = selector.fit(X, y)\n",
    "print selector.support_ \n",
    "print selector.ranking_"
   ]
  },
  {
   "cell_type": "code",
   "execution_count": null,
   "metadata": {},
   "outputs": [],
   "source": []
  },
  {
   "cell_type": "code",
   "execution_count": 200,
   "metadata": {},
   "outputs": [
    {
     "data": {
      "text/html": [
       "<div>\n",
       "<style scoped>\n",
       "    .dataframe tbody tr th:only-of-type {\n",
       "        vertical-align: middle;\n",
       "    }\n",
       "\n",
       "    .dataframe tbody tr th {\n",
       "        vertical-align: top;\n",
       "    }\n",
       "\n",
       "    .dataframe thead th {\n",
       "        text-align: right;\n",
       "    }\n",
       "</style>\n",
       "<table border=\"1\" class=\"dataframe\">\n",
       "  <thead>\n",
       "    <tr style=\"text-align: right;\">\n",
       "      <th></th>\n",
       "      <th>A_an4</th>\n",
       "      <th>fMs_an4</th>\n",
       "      <th>avg_FabsavgH_an4</th>\n",
       "      <th>C_an4</th>\n",
       "      <th>CnnC_an4</th>\n",
       "      <th>A_diff</th>\n",
       "      <th>fMs_diff</th>\n",
       "      <th>avg_FabsavgH_diff</th>\n",
       "      <th>C_diff</th>\n",
       "      <th>CnnC_diff</th>\n",
       "    </tr>\n",
       "  </thead>\n",
       "  <tbody>\n",
       "    <tr>\n",
       "      <th>A_an4</th>\n",
       "      <td>1.000000</td>\n",
       "      <td>0.662637</td>\n",
       "      <td>-0.092612</td>\n",
       "      <td>0.000831</td>\n",
       "      <td>-0.005495</td>\n",
       "      <td>-0.155289</td>\n",
       "      <td>-0.040644</td>\n",
       "      <td>-0.004101</td>\n",
       "      <td>0.353172</td>\n",
       "      <td>0.347719</td>\n",
       "    </tr>\n",
       "    <tr>\n",
       "      <th>fMs_an4</th>\n",
       "      <td>0.662637</td>\n",
       "      <td>1.000000</td>\n",
       "      <td>0.258970</td>\n",
       "      <td>-0.000923</td>\n",
       "      <td>-0.006466</td>\n",
       "      <td>-0.214403</td>\n",
       "      <td>-0.430979</td>\n",
       "      <td>-0.027080</td>\n",
       "      <td>0.246374</td>\n",
       "      <td>0.249933</td>\n",
       "    </tr>\n",
       "    <tr>\n",
       "      <th>avg_FabsavgH_an4</th>\n",
       "      <td>-0.092612</td>\n",
       "      <td>0.258970</td>\n",
       "      <td>1.000000</td>\n",
       "      <td>-0.005077</td>\n",
       "      <td>0.000095</td>\n",
       "      <td>0.012280</td>\n",
       "      <td>-0.316204</td>\n",
       "      <td>-0.042516</td>\n",
       "      <td>-0.062154</td>\n",
       "      <td>-0.075413</td>\n",
       "    </tr>\n",
       "    <tr>\n",
       "      <th>C_an4</th>\n",
       "      <td>0.000831</td>\n",
       "      <td>-0.000923</td>\n",
       "      <td>-0.005077</td>\n",
       "      <td>1.000000</td>\n",
       "      <td>0.878815</td>\n",
       "      <td>0.000691</td>\n",
       "      <td>0.005141</td>\n",
       "      <td>0.001247</td>\n",
       "      <td>-0.720698</td>\n",
       "      <td>-0.632378</td>\n",
       "    </tr>\n",
       "    <tr>\n",
       "      <th>CnnC_an4</th>\n",
       "      <td>-0.005495</td>\n",
       "      <td>-0.006466</td>\n",
       "      <td>0.000095</td>\n",
       "      <td>0.878815</td>\n",
       "      <td>1.000000</td>\n",
       "      <td>0.005679</td>\n",
       "      <td>0.007936</td>\n",
       "      <td>-0.002517</td>\n",
       "      <td>-0.633637</td>\n",
       "      <td>-0.721966</td>\n",
       "    </tr>\n",
       "    <tr>\n",
       "      <th>A_diff</th>\n",
       "      <td>-0.155289</td>\n",
       "      <td>-0.214403</td>\n",
       "      <td>0.012280</td>\n",
       "      <td>0.000691</td>\n",
       "      <td>0.005679</td>\n",
       "      <td>1.000000</td>\n",
       "      <td>0.330474</td>\n",
       "      <td>0.000179</td>\n",
       "      <td>0.079570</td>\n",
       "      <td>0.072249</td>\n",
       "    </tr>\n",
       "    <tr>\n",
       "      <th>fMs_diff</th>\n",
       "      <td>-0.040644</td>\n",
       "      <td>-0.430979</td>\n",
       "      <td>-0.316204</td>\n",
       "      <td>0.005141</td>\n",
       "      <td>0.007936</td>\n",
       "      <td>0.330474</td>\n",
       "      <td>1.000000</td>\n",
       "      <td>0.038555</td>\n",
       "      <td>0.039237</td>\n",
       "      <td>0.034227</td>\n",
       "    </tr>\n",
       "    <tr>\n",
       "      <th>avg_FabsavgH_diff</th>\n",
       "      <td>-0.004101</td>\n",
       "      <td>-0.027080</td>\n",
       "      <td>-0.042516</td>\n",
       "      <td>0.001247</td>\n",
       "      <td>-0.002517</td>\n",
       "      <td>0.000179</td>\n",
       "      <td>0.038555</td>\n",
       "      <td>1.000000</td>\n",
       "      <td>0.000665</td>\n",
       "      <td>0.002052</td>\n",
       "    </tr>\n",
       "    <tr>\n",
       "      <th>C_diff</th>\n",
       "      <td>0.353172</td>\n",
       "      <td>0.246374</td>\n",
       "      <td>-0.062154</td>\n",
       "      <td>-0.720698</td>\n",
       "      <td>-0.633637</td>\n",
       "      <td>0.079570</td>\n",
       "      <td>0.039237</td>\n",
       "      <td>0.000665</td>\n",
       "      <td>1.000000</td>\n",
       "      <td>0.876095</td>\n",
       "    </tr>\n",
       "    <tr>\n",
       "      <th>CnnC_diff</th>\n",
       "      <td>0.347719</td>\n",
       "      <td>0.249933</td>\n",
       "      <td>-0.075413</td>\n",
       "      <td>-0.632378</td>\n",
       "      <td>-0.721966</td>\n",
       "      <td>0.072249</td>\n",
       "      <td>0.034227</td>\n",
       "      <td>0.002052</td>\n",
       "      <td>0.876095</td>\n",
       "      <td>1.000000</td>\n",
       "    </tr>\n",
       "  </tbody>\n",
       "</table>\n",
       "</div>"
      ],
      "text/plain": [
       "                      A_an4   fMs_an4  avg_FabsavgH_an4     C_an4  CnnC_an4  \\\n",
       "A_an4              1.000000  0.662637         -0.092612  0.000831 -0.005495   \n",
       "fMs_an4            0.662637  1.000000          0.258970 -0.000923 -0.006466   \n",
       "avg_FabsavgH_an4  -0.092612  0.258970          1.000000 -0.005077  0.000095   \n",
       "C_an4              0.000831 -0.000923         -0.005077  1.000000  0.878815   \n",
       "CnnC_an4          -0.005495 -0.006466          0.000095  0.878815  1.000000   \n",
       "A_diff            -0.155289 -0.214403          0.012280  0.000691  0.005679   \n",
       "fMs_diff          -0.040644 -0.430979         -0.316204  0.005141  0.007936   \n",
       "avg_FabsavgH_diff -0.004101 -0.027080         -0.042516  0.001247 -0.002517   \n",
       "C_diff             0.353172  0.246374         -0.062154 -0.720698 -0.633637   \n",
       "CnnC_diff          0.347719  0.249933         -0.075413 -0.632378 -0.721966   \n",
       "\n",
       "                     A_diff  fMs_diff  avg_FabsavgH_diff    C_diff  CnnC_diff  \n",
       "A_an4             -0.155289 -0.040644          -0.004101  0.353172   0.347719  \n",
       "fMs_an4           -0.214403 -0.430979          -0.027080  0.246374   0.249933  \n",
       "avg_FabsavgH_an4   0.012280 -0.316204          -0.042516 -0.062154  -0.075413  \n",
       "C_an4              0.000691  0.005141           0.001247 -0.720698  -0.632378  \n",
       "CnnC_an4           0.005679  0.007936          -0.002517 -0.633637  -0.721966  \n",
       "A_diff             1.000000  0.330474           0.000179  0.079570   0.072249  \n",
       "fMs_diff           0.330474  1.000000           0.038555  0.039237   0.034227  \n",
       "avg_FabsavgH_diff  0.000179  0.038555           1.000000  0.000665   0.002052  \n",
       "C_diff             0.079570  0.039237           0.000665  1.000000   0.876095  \n",
       "CnnC_diff          0.072249  0.034227           0.002052  0.876095   1.000000  "
      ]
     },
     "execution_count": 200,
     "metadata": {},
     "output_type": "execute_result"
    }
   ],
   "source": [
    "# tmp = pd.concat([dfms, dfms_bin, X_dfms], axis=1)\n",
    "# tmp.corr()\n",
    "geo_topo.corr()"
   ]
  },
  {
   "cell_type": "markdown",
   "metadata": {},
   "source": [
    "# XGboost\n",
    "refs:\n",
    "- https://www.analyticsvidhya.com/blog/2016/03/complete-guide-parameter-tuning-xgboost-with-codes-python/\n",
    "- https://machinelearningmastery.com/tune-number-size-decision-trees-xgboost-python/"
   ]
  },
  {
   "cell_type": "code",
   "execution_count": 28,
   "metadata": {},
   "outputs": [
    {
     "name": "stdout",
     "output_type": "stream",
     "text": [
      "['fit_time', 'score_time', 'test_score', 'train_score']\n",
      "[0.57673091 0.56531049 0.56031406 0.57887223 0.59142857] 0.5745312531864994\n",
      "[0.64554703 0.65000892 0.64358379 0.63769409 0.63722341] 0.6428114501726986\n"
     ]
    }
   ],
   "source": [
    "# y = np.random.randint(3, size=energy_grad.shape[0]) - 1\n",
    "\n",
    "y = energy_grad.iloc[:, 0]\n",
    "X = energy_grad.iloc[:, 1:]\n",
    "# X = pd.concat([energy_grad.iloc[:, 1:], geo_topo.iloc[:,:5], other.iloc[:, 1:]], axis=1)\n",
    "# # X = X[['gV_diff_an4', 'fMs_an4', 'C_an4']]\n",
    "\n",
    "# mask_onepiece = other.iloc[:,0].astype('bool').values\n",
    "# X = geo_topo[mask_onepiece]\n",
    "# y = mig.iloc[:,0]\n",
    "\n",
    "# y = mig_sign.mig_n1_sign_ot\n",
    "# X = energy_grad.iloc[:, 1:]\n",
    "# mask_onepiece = other.iloc[:,0].astype('bool').values\n",
    "# X = X[mask_onepiece]\n",
    "\n",
    "xgb1 = XGBClassifier(\n",
    "                     learning_rate =0.01,\n",
    "                     n_estimators=500,\n",
    "                     max_depth=4,\n",
    "#                      min_child_weight=1,\n",
    "                     gamma=0,\n",
    "                     colsample_bytree=0.6,\n",
    "                     objective='multi:softmax',\n",
    "                     scale_pos_weight=1,\n",
    "                     seed=27\n",
    "                    )\n",
    "\n",
    "# ----------- classification -----------\n",
    "# xgb1.fit(X, y, eval_metric='auc')\n",
    "cv_results = cross_validate(xgb1, X, y, cv=5, return_train_score=True)\n",
    "print sorted(cv_results.keys()) \n",
    "print cv_results['test_score'], cv_results['test_score'].mean()\n",
    "print cv_results['train_score'], cv_results['train_score'].mean()\n",
    "# # print(\"Accuracy: %0.2f (+/- %0.2f)\" % (scores.mean(), scores.std() * 2))\n",
    "# # ----------- regression -----------\n",
    "# # xgb1.fit(X, y)\n",
    "\n",
    "# # y_pred = xgb1.predict(X)\n",
    "# # print metrics.accuracy_score(y, y_pred)\n",
    "# # print xgb1.feature_importances_\n"
   ]
  },
  {
   "cell_type": "code",
   "execution_count": 29,
   "metadata": {},
   "outputs": [
    {
     "name": "stdout",
     "output_type": "stream",
     "text": [
      "0.5660242683797287\n",
      "              precision    recall  f1-score   support\n",
      "\n",
      "          -1       0.56      0.62      0.59       658\n",
      "           0       0.00      0.00      0.00        69\n",
      "           1       0.58      0.57      0.57       674\n",
      "\n",
      "   micro avg       0.57      0.57      0.57      1401\n",
      "   macro avg       0.38      0.40      0.39      1401\n",
      "weighted avg       0.54      0.57      0.55      1401\n",
      "\n"
     ]
    },
    {
     "data": {
      "image/png": "[encoded data removed]",
      "text/plain": [
       "<matplotlib.figure.Figure at 0x1043bac50>"
      ]
     },
     "metadata": {},
     "output_type": "display_data"
    }
   ],
   "source": [
    "y = energy_grad.iloc[:, 0]\n",
    "X = energy_grad.iloc[:, 1:]\n",
    "X_train, X_test, y_train, y_test = train_test_split(X, y, test_size=0.2, random_state=0)\n",
    "xgb1.fit(X_train, y_train, eval_metric='auc')\n",
    "\n",
    "X = X_test\n",
    "y_true = y_test\n",
    "y_pred = xgb1.predict(X)\n",
    "\n",
    "\n",
    "print xgb1.score(X, y_true)\n",
    "print classification_report(y_true, y_pred)\n",
    "conf_mat =  confusion_matrix(y_true, y_pred)\n",
    "\n",
    "# plotConfusionMatrix(y_true, y_pred, ['-1', '0', '1'], normalize=False, rotate_xlabel=False, title='XGBoost_mig_sign_conf')\n",
    "# plt.show\n",
    "plotFeatureImportance(xgb1.feature_importances_, X.columns, title='XGBoost_mig_sign_featureImportance')\n",
    "\n"
   ]
  },
  {
   "cell_type": "markdown",
   "metadata": {},
   "source": [
    "# Random Forest\n",
    "refs:\n",
    " - https://towardsdatascience.com/random-forest-in-python-24d0893d51c0\n",
    " - https://towardsdatascience.com/random-forest-in-python-24d0893d51c0"
   ]
  },
  {
   "cell_type": "code",
   "execution_count": 58,
   "metadata": {},
   "outputs": [
    {
     "name": "stdout",
     "output_type": "stream",
     "text": [
      "['fit_time', 'score_time', 'test_score', 'train_score']\n",
      "[0.59029265 0.5888651  0.59814418 0.56959315 0.59571429]\n",
      "[1. 1. 1. 1. 1.]\n"
     ]
    }
   ],
   "source": [
    "from sklearn.ensemble import RandomForestRegressor\n",
    "from sklearn.ensemble import RandomForestClassifier\n",
    "\n",
    "# energy_grad = pd.read_csv('/Users/xiaotingzhong/Documents/Matlab/Grain Tracking/190408_features_energygrad.txt')\n",
    "# X = energy_grad.iloc[:, 1:]\n",
    "X = pd.concat([energy_grad.iloc[:, 1:], geo_topo.iloc[:,:5], other.iloc[:, 1:]], axis=1)\n",
    "y = energy_grad.iloc[:, 0]\n",
    "y_onehot = pd.get_dummies(y)\n",
    "\n",
    "# energy_grad = pd.read_csv('/Users/xiaotingzhong/Documents/Matlab/Grain Tracking/data/190318_mig_signs.txt')\n",
    "# X = energy_grad.iloc[:, 2:-1]\n",
    "# # y = energy_grad.iloc[:, -1]\n",
    "# y = np.random.randint(3, size=energy_grad.shape[0]) - 1\n",
    "# y_onehot = pd.get_dummies(y)\n",
    "\n",
    "\n",
    "rf = RandomForestClassifier(n_estimators = 1000, max_features=5, random_state = 42)\n",
    "# rf.fit(X, y_onehot);\n",
    "\n",
    "# y_pred = rf.predict(X)\n",
    "# print metrics.accuracy_score(y_onehot, y_pred)\n",
    "# # print rf.score(X, y)\n",
    "# print rf.feature_importances_\n",
    "\n",
    "\n",
    "cv_results = cross_validate(rf, X, y_onehot, cv=5, return_train_score=True)\n",
    "print sorted(cv_results.keys()) \n",
    "print cv_results['test_score']\n",
    "print cv_results['train_score']"
   ]
  },
  {
   "cell_type": "code",
   "execution_count": null,
   "metadata": {},
   "outputs": [],
   "source": []
  },
  {
   "cell_type": "code",
   "execution_count": null,
   "metadata": {},
   "outputs": [],
   "source": []
  },
  {
   "cell_type": "markdown",
   "metadata": {},
   "source": [
    "# CCA \n",
    "- To checks:\n",
    "    - $R_c$ (canonical correlations) and $R_c^2$ (total variance explained by each canonical variate)\n",
    "    - Helio plot, for correlation between X, Y and each cannonical variate (??? pair ???)(Mandal Fig.9)\n",
    "        - https://andrewpwheeler.wordpress.com/2013/06/27/some-discussion-on-circular-helio-bar-charts-2/\n",
    "    - Canonical variate redundancy plot (Mandal Fig.8)\n",
    "    - Canonical variate pair plots, cv_x vs. cv_y. (Mandal Fig.7)"
   ]
  },
  {
   "cell_type": "code",
   "execution_count": 290,
   "metadata": {},
   "outputs": [
    {
     "name": "stdout",
     "output_type": "stream",
     "text": [
      "0.1134\n",
      "0.0839\n",
      "0.0702\n",
      "0.0601\n",
      "0.0456\n",
      "0.0312\n",
      "0.0268\n",
      "0.0153\n",
      "0.0102\n",
      "0.0017\n",
      "[[-1.14230620e+02  4.34652501e+00  3.36004720e-01 -2.87462001e+00\n",
      "  -1.68125547e+00 -1.54075192e+02 -4.08901514e+01  7.90808214e+00\n",
      "   2.27286098e+00  1.37468668e+00]\n",
      " [-1.46783510e+03 -2.55146785e+01  4.84587763e-02  6.07564481e+00\n",
      "   4.74962866e+00  3.35535104e+01 -1.40393922e+01  1.89849817e+01\n",
      "  -5.57524458e+00 -5.06167466e+00]\n",
      " [-2.57662937e+03 -5.15511482e+01 -2.52342939e-01 -1.07333569e+01\n",
      "  -5.53053316e+00  4.01192432e+02  8.12371533e+00  4.47600883e+00\n",
      "   7.47153939e+00  1.81621547e+00]\n",
      " [ 4.20756630e+03  1.26470563e+02 -1.13214782e-01  8.03931941e+00\n",
      "   5.06336136e+00 -6.62454377e+02 -4.41186540e+01 -2.31604852e+01\n",
      "  -4.45350904e+00 -1.29395329e+00]\n",
      " [-1.76386189e+02 -5.90413133e+01  5.52152100e-01  5.86754228e-01\n",
      "  -4.39589183e-01  5.02325108e+02  6.31160727e+01  5.27138591e+00\n",
      "  -2.68271412e+00 -1.43792566e+00]\n",
      " [ 3.22944503e+02 -9.80065799e+00 -8.07695763e-01 -8.77724648e-01\n",
      "  -8.60654098e-01  2.00590991e+01  1.56783203e+00  4.81652691e+00\n",
      "   1.61287680e+00  1.72434139e+00]\n",
      " [-5.47033642e+02 -1.57560943e+01 -5.59113269e-02 -3.89808589e-01\n",
      "  -7.77544169e-02 -1.80947098e+01 -1.72557460e+01  4.33326133e+00\n",
      "  -1.91684101e+00 -2.82174755e+00]\n",
      " [ 8.73841247e+02  1.64667852e+01 -2.62979013e-01  9.46851651e-01\n",
      "   1.29630351e+00 -3.07970616e+02  9.71718687e+00 -6.31215011e-01\n",
      "   1.47443068e+00  1.21722735e+00]\n",
      " [-3.99489599e+01 -2.97991652e+01  2.50107712e-01 -5.03801203e-02\n",
      "   8.32626524e-01  1.87850553e+02 -2.26090546e+01 -1.49478533e+01\n",
      "  -2.75776461e-01 -9.80573324e-01]\n",
      " [ 3.02553644e+02  1.53101544e+01  3.66959734e-02 -1.34056147e-01\n",
      "  -1.15997346e+00 -8.84347059e+00  9.08416815e+00  4.55182683e+00\n",
      "   1.12633101e+00  6.59646562e-01]]\n"
     ]
    }
   ],
   "source": [
    "from sklearn.cross_decomposition import CCA\n",
    "\n",
    "X = energy_grad\n",
    "Y = geo_topo\n",
    "\n",
    "\n",
    "cca = CCA(n_components=10)\n",
    "cca.fit(X, Y)\n",
    "\n",
    "U, V = cca.transform(X, Y)\n",
    "for i in range(10):\n",
    "    corr = np.corrcoef(U[:,i], V[:,i])[0,1]\n",
    "    print np.round(corr, 4)\n",
    "\n",
    "print cca.coef_"
   ]
  },
  {
   "cell_type": "code",
   "execution_count": null,
   "metadata": {},
   "outputs": [],
   "source": []
  },
  {
   "cell_type": "code",
   "execution_count": null,
   "metadata": {},
   "outputs": [],
   "source": []
  },
  {
   "cell_type": "code",
   "execution_count": 48,
   "metadata": {},
   "outputs": [
    {
     "data": {
      "text/plain": [
       "4522"
      ]
     },
     "execution_count": 48,
     "metadata": {},
     "output_type": "execute_result"
    }
   ],
   "source": [
    "mig = pd.read_csv('/Users/xiaotingzhong/Documents/Matlab/Grain Tracking/190408_features_energygrad.txt')\n",
    "mig_new = pd.read_csv('/Users/xiaotingzhong/Documents/Matlab/Grain Tracking/190408_features_energygrad_new.txt')\n",
    "\n",
    "np.sum(mig.iloc[:,0] == mig_new.iloc[:,0])"
   ]
  },
  {
   "cell_type": "code",
   "execution_count": 51,
   "metadata": {},
   "outputs": [
    {
     "data": {
      "text/plain": [
       "0.6456310679611651"
      ]
     },
     "execution_count": 51,
     "metadata": {},
     "output_type": "execute_result"
    }
   ],
   "source": [
    "float(4522) / mig.shape[0]"
   ]
  },
  {
   "cell_type": "code",
   "execution_count": null,
   "metadata": {},
   "outputs": [],
   "source": []
  },
  {
   "cell_type": "code",
   "execution_count": null,
   "metadata": {},
   "outputs": [],
   "source": []
  }
 ],
 "metadata": {
  "kernelspec": {
   "display_name": "Python 2",
   "language": "python",
   "name": "python2"
  },
  "language_info": {
   "codemirror_mode": {
    "name": "ipython",
    "version": 2
   },
   "file_extension": ".py",
   "mimetype": "text/x-python",
   "name": "python",
   "nbconvert_exporter": "python",
   "pygments_lexer": "ipython2",
   "version": "2.7.3"
  }
 },
 "nbformat": 4,
 "nbformat_minor": 2
}
