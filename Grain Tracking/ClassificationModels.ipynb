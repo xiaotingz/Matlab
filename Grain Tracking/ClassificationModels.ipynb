{
 "cells": [
  {
   "cell_type": "markdown",
   "metadata": {},
   "source": [
    "# Data:\n",
    "- Geometry (area, curvature)\n",
    "    - $A$, $Ms^{f}$, $<H>$.\n",
    "- Topology (corner)\n",
    "    - $C$, $C-<Cnn>$\n",
    "- Migration\n",
    "    - sign, distance\n",
    "    - Energy gradient: grain & connected face\n",
    "- Energy\n",
    "- Crystallography\n",
    "  - misorientation angle from sigma3.\n",
    "  - weighted average distance from coherent twin. \n",
    "    \n",
    "## Directions:\n",
    "  - Prediction & Correlation.\n",
    "  - In-plane evolution (area, curvature) & Out-of-plane migration\n",
    "  \n",
    "## Possible assumptions: \n",
    "- Faces move in a direction consistent with the energy gradient within the grain pair. \n",
    "- Faces move in a direction / with a magnitude consistent with face curvature\n",
    "- Faces that are increasing in area move along with the energy gradient.\n",
    "- Faces with large $C$, $Ms^{f}$, $|C - <Cnn>|_{an4}$ move long distances.\n",
    "- Face migration distances are related to crystallography.\n",
    "- Geometry   vs.   Geometry\n",
    "- Gemoetry   vs.   Topology\n",
    "- Gemoetry/Topology   vs.   Migration\n",
    "- energy   vs.   mig_dist\n"
   ]
  },
  {
   "cell_type": "code",
   "execution_count": 1,
   "metadata": {},
   "outputs": [],
   "source": [
    "import pandas as pd\n",
    "import numpy as np\n",
    "import xgboost as xgb\n",
    "from xgboost.sklearn import XGBClassifier\n",
    "from sklearn.linear_model import LogisticRegression\n",
    "from sklearn import metrics\n",
    "from sklearn.model_selection import cross_val_score\n",
    "from sklearn.model_selection import cross_validate\n",
    "from sklearn.model_selection import train_test_split\n",
    "from sklearn.model_selection import GridSearchCV\n",
    "from sklearn.metrics import confusion_matrix\n",
    "from sklearn.metrics import classification_report\n",
    "from sklearn.metrics import r2_score\n",
    "from sklearn.metrics import make_scorer\n",
    "from sklearn.metrics import accuracy_score\n",
    "from sklearn.metrics import balanced_accuracy_score\n",
    "from sklearn.preprocessing import MultiLabelBinarizer\n",
    "from sklearn.preprocessing import LabelEncoder\n",
    "\n",
    "import matplotlib.pylab as plt\n",
    "import seaborn as sns\n",
    "%matplotlib inline\n",
    "\n",
    "geo_topo = pd.read_csv('/Users/xiaotingzhong/Desktop/Datas/Ni_an4_5/data_matlab/final/190730_Hsmooth_geo_topo.txt')\n",
    "energy_grad = pd.read_csv('/Users/xiaotingzhong/Desktop/Datas/Ni_an4_5/data_matlab/final/190730_Hsmooth_energygrad.txt')\n",
    "other = pd.read_csv('/Users/xiaotingzhong/Desktop/Datas/Ni_an4_5/data_matlab/final/190730_Lsmooth_otherinfo_normdist_formal.txt')\n",
    "mean_field = pd.read_csv('/Users/xiaotingzhong/Desktop/Datas/Ni_an4_5/data_matlab/final/190730_Hsmooth_mean_field.txt')\n",
    "# mask_good_face = pd.read_csv('/Users/xiaotingzhong/Desktop/Datas/Ni_an4_5/data_matlab/190718_Hsmooth_mask_good_face.txt')\n",
    "da = pd.read_csv('/Users/xiaotingzhong/Desktop/Datas/Ni_an4_5/data_matlab/final/190730_Hsmooth_dihedral_ang.txt')\n",
    "\n",
    "\n",
    "geo_topo.columns = geo_topo.columns.str.strip()\n",
    "energy_grad.columns = energy_grad.columns.str.strip()\n",
    "other.columns = other.columns.str.strip()\n",
    "mean_field.columns = mean_field.columns.str.strip()\n",
    "da.columns = da.columns.str.strip()\n",
    "# mask_good_face.columns = mask_good_face.columns.str.strip()\n",
    "\n",
    "geo_topo = geo_topo.drop(['fMs_signed_an4'], axis=1)\n",
    "\n",
    "geo_topo = geo_topo.astype('float')\n",
    "energy_grad = energy_grad.astype('float')\n",
    "other = other.astype('float')\n",
    "mean_field = mean_field.astype('float')\n",
    "# mask_good_face = mask_good_face.astype('bool')\n",
    "da = da.astype('float')\n"
   ]
  },
  {
   "cell_type": "markdown",
   "metadata": {},
   "source": [
    "### EDA"
   ]
  },
  {
   "cell_type": "code",
   "execution_count": 2,
   "metadata": {},
   "outputs": [
    {
     "name": "stdout",
     "output_type": "stream",
     "text": [
      "<class 'pandas.core.frame.DataFrame'>\n",
      "Int64Index: 6447 entries, 82 to 10886\n",
      "Data columns (total 28 columns):\n",
      "dist_twin_an4         6447 non-null float64\n",
      "A_an4                 6447 non-null float64\n",
      "fMs_abs_an4           6447 non-null float64\n",
      "avg_FabsavgH_an4      6447 non-null float64\n",
      "A_diff                6447 non-null float64\n",
      "fMs_abs_diff          6447 non-null float64\n",
      "avg_FabsavgH_diff     6447 non-null float64\n",
      "C_an4                 6447 non-null float64\n",
      "E_an4                 6447 non-null float64\n",
      "da_len_w_an4_opp      6447 non-null float64\n",
      "C_diff                6447 non-null float64\n",
      "E_diff                6447 non-null float64\n",
      "da_len_w_diff_opp     6447 non-null float64\n",
      "E_Enn                 6447 non-null float64\n",
      "abs_gf_gfnn           6447 non-null float64\n",
      "pos_frac              6447 non-null float64\n",
      "twin_frac             6447 non-null float64\n",
      "grow_frac             6447 non-null float64\n",
      "disappeared_frac      6447 non-null float64\n",
      "appeared_frac         6447 non-null float64\n",
      "total_dann            6447 non-null float64\n",
      "disappeared_frac_g    6447 non-null float64\n",
      "appeared_frac_g       6447 non-null float64\n",
      "max_dfnn_g            6447 non-null float64\n",
      "min_dfnn_g            6447 non-null float64\n",
      "avg_dfnn_g            6447 non-null float64\n",
      "gV_diff_an4           6447 non-null float64\n",
      "fMs_an4_left          6447 non-null float64\n",
      "dtypes: float64(28)\n",
      "memory usage: 1.4 MB\n"
     ]
    }
   ],
   "source": [
    "# geo_topo.info()\n",
    "# energy_grad.info()\n",
    "# mean_field.info()\n",
    "# other.info()\n",
    "\n",
    "# ----------------- Paper Feature Correlation Mat -----------------\n",
    "# other = other.iloc[:, :-8]\n",
    "# data = pd.concat([other, geo_topo.iloc[:,[0,1,2,5,6,8,3,4]], da.iloc[:, [0,1,2]], \\\n",
    "#                   geo_topo.iloc[:,[9, 10]], da.iloc[:, [3,4,5]], \\\n",
    "#                   mean_field.iloc[:,[0,1,2,3,5,6,7,4,8,9,10,11,12]], \\\n",
    "#                   energy_grad], axis=1)\n",
    "# ----------------- For Models -----------------\n",
    "da = da[['da_len_w_an4_opp', 'da_len_w_diff_opp']]\n",
    "energy_grad = energy_grad[['gV_diff_an4', 'fMs_an4_left']]\n",
    "other = other.iloc[:, :-8]\n",
    "data = pd.concat([other, geo_topo.iloc[:,[0,1,2,5,6,8,3,4]], da.iloc[:, 0], \\\n",
    "                  geo_topo.iloc[:,[9, 10]], da.iloc[:, 1], \\\n",
    "                  mean_field.iloc[:,[0,1,2,3,5,6,7,4,8,9,10,11,12]], \\\n",
    "                  energy_grad], axis=1)\n",
    "\n",
    "data = data.dropna()\n",
    "\n",
    "mask_complete = data['mask_complete'].astype(bool)\n",
    "mask_one_piece = data['mask_onepiece'].astype(bool)\n",
    "area_an4 = data[['A_an4']].values\n",
    "area_an5 = data[['A_an4']].values + data[['A_diff']].values\n",
    "area_diff_ratio = (area_an5 - area_an4) / area_an4\n",
    "mask_not_extreme = np.all([area_an4 > 20, area_an5 > 20, area_diff_ratio < 10, area_diff_ratio > -0.9], axis=0)\n",
    "# mask = np.all([mask_complete, mask_one_piece, mask_not_extreme.squeeze()], axis=0)\n",
    "mask = np.all([mask_complete, mask_not_extreme.squeeze()], axis=0)\n",
    "data = data[mask]\n",
    "\n",
    "data = data.drop(['mask_complete', 'mask_onepiece'], axis=1)\n",
    "data.info()\n",
    "\n",
    "\n",
    "# data.head(5)"
   ]
  },
  {
   "cell_type": "code",
   "execution_count": 3,
   "metadata": {},
   "outputs": [],
   "source": [
    "name_dict = {\n",
    "    'dist_twin_an4':'$Dist\\_\\Sigma3$', 'dist_avg_111':'$Dist\\_111\\_Avg$', 'dist_std_111':'$Dist\\_111\\_Std$', \\\n",
    "    'dist_avg_110':'$Dist\\_110\\_Avg$', 'dist_std_110':'$Dist\\_110\\_Std$', \\\n",
    "    'dist_avg_100':'$Dist\\_100\\_Avg$', 'dist_std_100':'$Dist\\_100\\_Std$', \\\n",
    "    'A_an4':'$A$', 'fMs_abs_an4':'$\\mathcal{|H|}$','avg_FabsavgH_an4':'$\\mathbb{|H|}$', \\\n",
    "    'A_diff':'$\\Delta\\: A$', 'fMs_abs_diff':'$\\Delta\\: \\mathcal{|H|}$','avg_FabsavgH_diff':'$\\Delta\\: \\mathbb{|H|}$', \\\n",
    "    'C_an4':'$C$', 'E_an4':'$E$',\\\n",
    "    'da_len_w_an4_l':'$DA\\_L$', 'da_len_w_an4_r':'$DA\\_R$','da_len_w_an4_opp':'$DA\\_O$',\\\n",
    "    'C_diff':'$\\Delta\\: C$', 'E_diff':'$\\Delta\\: E$',\\\n",
    "    'da_len_w_diff_l':'$\\Delta\\: DA\\_L$', 'da_len_w_diff_r':'$\\Delta\\: DA\\_R$','da_len_w_diff_opp':'$\\Delta\\: DA\\_O$',\\\n",
    "    'E_Enn':'$E - <E_{NN}>$', 'abs_gf_gfnn':'$\\mathcal{|H|} - <\\mathcal{|H|}_{NN}>$',\\\n",
    "    'pos_frac':'$NN\\_Pos\\_Frac$', 'twin_frac':'$NN\\_Twin\\_Frac$',\\\n",
    "    'grow_frac':'$NN\\_Grow\\_Frac$', 'disappeared_frac':'$NN\\_Ext\\_Frac$',\\\n",
    "    'appeared_frac':'$NN\\_Nuc\\_Frac$', 'total_dann':'$sum(\\Delta\\: A_{NN})$',\\\n",
    "    'disappeared_frac_g':'$NNG\\_Ext\\_Frac$','appeared_frac_g':'$NNG\\_Nuc\\_Frac$', \\\n",
    "    'max_dfnn_g':'$max(\\Delta\\: F_{NNG})$','min_dfnn_g':'$min(\\Delta\\: F_{NNG})$', \\\n",
    "    'avg_dfnn_g':'$<\\Delta\\: F_{NNG}>$',\\\n",
    "    'dist_f_g_diff':'$\\Delta\\: Dist\\_F\\_LG$', 'gV_diff_an4':'$V\\_Diff$',\\\n",
    "    'gF_diff_an4':'$F\\_Diff$', 'gFnnF_diff_an4':'$F - <F_{NN}>\\_Diff$',\\\n",
    "    'gMs_diff_an4':'$M_{s}\\_Diff$', 'fMs_an4_left':'$\\mathcal{H}$'\\\n",
    "    }\n"
   ]
  },
  {
   "cell_type": "markdown",
   "metadata": {},
   "source": [
    "### Helper Functions"
   ]
  },
  {
   "cell_type": "code",
   "execution_count": 4,
   "metadata": {},
   "outputs": [],
   "source": [
    "def plot_confusion_matrix(y_true, y_pred, classes,\n",
    "                          normalize=True,\n",
    "                          title=None,\n",
    "                          rotate_xlabel=False,\n",
    "                          cmap=plt.cm.Blues):\n",
    "    \"\"\"\n",
    "    This function prints and plots the confusion matrix.\n",
    "    Normalization can be applied by setting `normalize=True`.\n",
    "    \"\"\"\n",
    "#     if not title:\n",
    "#         if normalize:\n",
    "#             title = 'Normalized confusion matrix'\n",
    "#         else:\n",
    "#             title = 'Confusion matrix, without normalization'\n",
    "\n",
    "    # Compute confusion matrix\n",
    "    cm = confusion_matrix(y_true, y_pred)\n",
    "    if normalize:\n",
    "        cm = cm.astype('float') / cm.sum(axis=1)[:, np.newaxis]\n",
    "\n",
    "    fig, ax = plt.subplots()\n",
    "    im = ax.imshow(cm, interpolation='nearest', cmap=cmap)\n",
    "    ax.figure.colorbar(im, ax=ax)\n",
    "    # We want to show all ticks...\n",
    "    ax.set(xticks=np.arange(cm.shape[1]),\n",
    "           yticks=np.arange(cm.shape[0]),\n",
    "           # ... and label them with the respective list entries\n",
    "           xticklabels=classes, yticklabels=classes,\n",
    "           ylabel='True label',\n",
    "           xlabel='Predicted label')\n",
    "\n",
    "    # Rotate the tick labels and set their alignment.\n",
    "    if rotate_xlabel:\n",
    "        plt.setp(ax.get_xticklabels(), rotation=45, ha=\"right\",\n",
    "             rotation_mode=\"anchor\")\n",
    "\n",
    "    # Loop over data dimensions and create text annotations.\n",
    "    fmt = '.2f' if normalize else 'd'\n",
    "    thresh = cm.max() / 2.\n",
    "    for i in range(cm.shape[0]):\n",
    "        for j in range(cm.shape[1]):\n",
    "            ax.text(j, i, format(cm[i, j], fmt),\n",
    "                    ha=\"center\", va=\"center\",\n",
    "                    color=\"white\" if cm[i, j] > thresh else \"black\")\n",
    "    fig.tight_layout()\n",
    "    \n",
    "    # save figure\n",
    "    if title:\n",
    "        plt.savefig(title, dpi=300, bbox_inches=\"tight\")\n",
    "    \n",
    "    return ax\n",
    "\n",
    "\n",
    "def plot_correlation_matrix(df, title=None):\n",
    "    # Create Correlation df\n",
    "    corr = df.corr()\n",
    "    # Plot figsize\n",
    "    fig, ax = plt.subplots(figsize=(36, 36))\n",
    "\n",
    "    # Drop self-correlations\n",
    "    dropSelf = np.zeros_like(corr)\n",
    "    dropSelf[np.triu_indices_from(dropSelf)] = True\n",
    "    # Generate Heat Map, allow annotations and place floats in map\n",
    "    sns.heatmap(corr, cmap=\"Blues\", annot=True, fmt=\".2f\", mask=dropSelf, square=True)\n",
    "    # Latex\n",
    "    plt.rc('text.latex', preamble='\\usepackage{amsmath},\\usepackage{amssymb}')\n",
    "    feature_names=[]\n",
    "    for name in corr.columns:\n",
    "        feature_names.append(name_dict[name])\n",
    "    # Apply xticks\n",
    "    plt.xticks(range(len(feature_names)), feature_names, size = 16)\n",
    "    # Apply yticks\n",
    "    plt.yticks(range(len(feature_names)), feature_names, size = 16)\n",
    "    \n",
    "    plt.setp(ax.get_xticklabels(), rotation=45, ha=\"right\",\n",
    "             rotation_mode=\"anchor\")\n",
    "    \n",
    "    # save figure\n",
    "    if title:\n",
    "        plt.savefig(title, dpi=300, bbox_inches=\"tight\")\n",
    "    \n",
    "    # show plot\n",
    "    plt.show()\n",
    "\n",
    "    \n",
    "def plot_feature_importance(feature_importance, names, title = None):\n",
    "    fig, ax = plt.subplots(figsize=(15, 6))\n",
    "    plt.rc('text.latex', preamble='\\usepackage{amsmath},\\usepackage{amssymb}')\n",
    "    plt.bar(range(len(feature_importance)), feature_importance)\n",
    "    plt.yticks(fontsize=16)\n",
    "    plt.xticks(range(len(feature_importance)), names, size = 16)\n",
    "    plt.setp(ax.get_xticklabels(), rotation=45, ha=\"right\",\n",
    "         rotation_mode=\"anchor\")\n",
    "    if title:\n",
    "        plt.savefig(title, dpi=300, bbox_inches=\"tight\")\n",
    "\n",
    "\n",
    "def plot_scatter_overlay(slope, intercept, x_train, y_train, x_test=None, y_test=None, title=None):\n",
    "    plt.figure()\n",
    "    x_line = np.linspace(np.min(x_train),np.max(x_train),10)\n",
    "    y_line = slope * x_line + intercept\n",
    "    plt.rc('text.latex', preamble='\\usepackage{amsmath},\\usepackage{amssymb}')\n",
    "    plt.scatter(x_train, y_train, s=12)\n",
    "    if np.any(x_test):\n",
    "        plt.scatter(x_test, y_test, s=12, marker='^')\n",
    "    plt.plot(x_line, y_line, 'r')\n",
    "    \n",
    "    if title:\n",
    "        plt.title(title)\n",
    "        plt.savefig(title, dpi=300, bbox_inches=\"tight\")\n",
    "    plt.show()\n",
    "\n",
    "\n",
    "def forward_selected(data_train, data_test, response):\n",
    "    \"\"\"\n",
    "    !!!!! OLD, see forward_selected_cross_val !!!!!\n",
    "    Linear model designed by forward selection.\n",
    "    -----------\n",
    "    data : pandas DataFrame with all possible predictors and response\n",
    "    response: string, name of response column in data\n",
    "    --------\n",
    "    model: an \"optimal\" fitted statsmodels linear model\n",
    "           with an intercept\n",
    "           selected by forward selection\n",
    "           evaluated by adjusted R-squared\n",
    "    \"\"\"\n",
    "    remaining = set(data_train.columns)\n",
    "    remaining.remove(response)\n",
    "    current_score, best_new_score = 0.0, 0.0\n",
    "    selected = []\n",
    "    best_scores = []\n",
    "    best_tests = []\n",
    "    while remaining and current_score == best_new_score:\n",
    "        scores_with_candidates = []\n",
    "        for candidate in remaining:\n",
    "            # ----- fit model -----\n",
    "            formula = \"{} ~ {} + 1\".format(response,\n",
    "                                           ' + '.join(selected + [candidate]))\n",
    "            model_tmp = smf.ols(formula, data_train).fit()\n",
    "            score_train = model_tmp.rsquared_adj\n",
    "            # ----- calculate test score -----\n",
    "            y_predict = model_tmp.predict(data_test.loc[:, data_test.columns!=response])\n",
    "            r2_test = r2_score(data_test[response], y_predict)\n",
    "            m = float(data_test.shape[0])\n",
    "            k = float(data_test.shape[1])\n",
    "            score_test = 1 - (1-r2_test)*((m-1)/(m-k-1))\n",
    "            # ----- append results -----\n",
    "            scores_with_candidates.append((score_train, score_test, candidate))\n",
    "            \n",
    "        scores_with_candidates.sort()\n",
    "        best_new_score, best_new_test, best_candidate = scores_with_candidates.pop()\n",
    "        best_scores.append(best_new_score)\n",
    "        best_tests.append(best_new_test)\n",
    "        selected.append(best_candidate)\n",
    "        if current_score < best_new_score:\n",
    "            remaining.remove(best_candidate)\n",
    "#             formula.append(\"{} ~ {} + 1\".format(response, ' + '.join(selected)))\n",
    "            current_score = best_new_score\n",
    "    formula = \"{} ~ {} + 1\".format(response,\n",
    "                                   ' + '.join(selected))\n",
    "    model = smf.ols(formula, data_train).fit()\n",
    "    return model, selected, best_scores, best_tests\n",
    "\n",
    "\n",
    "def adjust_r2(n, k, r2):\n",
    "    \"\"\"\n",
    "    n: number of data entries\n",
    "    k: number of regressor\n",
    "    r2: r2 score\n",
    "    -----\n",
    "    r2_adjust: adjusted r2\n",
    "    -----\n",
    "    Ref: https://www.statisticshowto.datasciencecentral.com/adjusted-r2/\n",
    "    \"\"\"\n",
    "    r2_adjust = 1 - (1 - r2)*(n - 1)/(n - k -1)\n",
    "    return r2_adjust\n",
    "\n",
    "def forward_selected_cross_val(data, response):\n",
    "    \"\"\"Linear model designed by forward selection.\n",
    "\n",
    "    Parameters:\n",
    "    -----------\n",
    "    data : pandas DataFrame with all possible predictors and response\n",
    "\n",
    "    response: string, name of response column in data\n",
    "\n",
    "    Returns:\n",
    "    --------\n",
    "    model: an \"optimal\" fitted statsmodels linear model\n",
    "           with an intercept\n",
    "           selected by forward selection\n",
    "           evaluated by adjusted R-squared\n",
    "    \"\"\"\n",
    "    remaining = set(data.columns)\n",
    "    remaining.remove(response)    \n",
    "    n_train = np.floor(data.shape[0]*0.8)\n",
    "    n_test = np.floor(data.shape[0]*0.2)\n",
    "    best_cur_score, best_new_score = 0.0, 0.0    \n",
    "    selected = []\n",
    "    best_trains = []\n",
    "    best_tests = []\n",
    "    model = LinearRegression()\n",
    "    while remaining and best_cur_score == best_new_score:\n",
    "        scores_with_candidates = []\n",
    "        for candidate in remaining:\n",
    "            selected.append(candidate)\n",
    "            # ----- Fit Model -----\n",
    "            cross_val_scores = cross_validate(model, data[selected], data[response], cv=5, scoring = 'r2', return_train_score=True)\n",
    "            score_train = sum(cross_val_scores['train_score']) / len(cross_val_scores['train_score'])\n",
    "            score_test = sum(cross_val_scores['test_score']) / len(cross_val_scores['test_score'])\n",
    "            # ----- adjust R2 score for the training data -----\n",
    "            k = len(selected)\n",
    "            score_train = adjust_r2(n_train, k, score_train)\n",
    "\n",
    "            # ----- append results -----\n",
    "            scores_with_candidates.append((score_train, score_test, candidate))\n",
    "            selected.pop()\n",
    "\n",
    "        scores_with_candidates.sort()\n",
    "        best_new_score, best_new_test, best_candidate = scores_with_candidates.pop()\n",
    "        best_trains.append(best_new_score)\n",
    "        best_tests.append(best_new_test)\n",
    "        selected.append(best_candidate)\n",
    "\n",
    "        if best_cur_score < best_new_score:\n",
    "            remaining.remove(best_candidate)\n",
    "            best_cur_score = best_new_score\n",
    "    return selected, best_trains, best_tests\n",
    "\n",
    "\n",
    "def plot_forward_selection(train_score, test_score, feature_names, title=None):\n",
    "    fig = plt.figure(figsize=(10, 5), dpi=300)\n",
    "    ax1 = fig.add_subplot(111)\n",
    "    ax2 = ax1.twiny()\n",
    "\n",
    "    x_axis = np.arange(len(train_score)) + 1\n",
    "    plt.rc('text.latex', preamble='\\usepackage{amsmath},\\usepackage{amssymb}')\n",
    "    ax1.plot(x_axis, train_score, '-o', color = 'k', label='Train')\n",
    "    ax1.plot(x_axis, test_score, '-o', color = 'r', label='Test')\n",
    "    ax1.set_xlabel('$\\#$ Features',  usetex=True, size=18)\n",
    "    ax1.set_ylabel('(Adjusted) $R^2$', usetex=True, size=18)\n",
    "    ax1.tick_params(axis='both', which='major', labelsize=14)\n",
    "    ax2.tick_params(axis='both', which='major', labelsize=14)\n",
    "    ax2.set_xlim(ax1.get_xlim())\n",
    "    ax2.set_xticks(x_axis)\n",
    "    ax2.set_xticklabels(feature_names)\n",
    "#     ax2.tick_params(axis='x', which='major', pad=10)\n",
    "    plt.setp(ax2.get_xticklabels(), rotation=45, ha=\"left\",\n",
    "             rotation_mode=\"anchor\")\n",
    "    ax1.legend(loc=4, prop={'size': 14})\n",
    "    \n",
    "    if title:\n",
    "        plt.savefig(title, dpi=300, bbox_inches=\"tight\")\n",
    "        \n",
    "    # plt.ylim((0, 0.3)) \n",
    "    plt.show()\n",
    "    \n",
    "    \n",
    "    \n",
    "def get_sign(data, eps):\n",
    "    data_sign = np.zeros([data.shape[0], 1])\n",
    "    mask_pos = data > eps\n",
    "    mask_neg = data < - eps\n",
    "    data_sign[mask_pos] = 1\n",
    "    data_sign[mask_neg] = -1\n",
    "    return data_sign.ravel()\n",
    "\n",
    "def continuous_to_catigorical_equal_binsize(data, low_prctile, high_prctile, num_bins):\n",
    "    low = np.percentile(data, low_prctile, axis=0)\n",
    "    high = np.percentile(data, high_prctile, axis=0)\n",
    "    step_size = (high - low) / num_bins\n",
    "    bin_edge = np.array([float('-inf')] + list(np.arange(low, high+0.001, step_size)) + [float('inf')])\n",
    "    data_binned = pd.cut(data, bin_edge, labels=False)\n",
    "    return data_binned.ravel()\n",
    "\n",
    "def continuous_to_catigorical_pertentile(data, num_bins):\n",
    "    data_binned = pd.qcut(data, num_bins, labels=False)\n",
    "    return data_binned.ravel()\n",
    "\n",
    "def calc_class_weights(y):\n",
    "    weights = np.ones(y.shape)\n",
    "    for _class in np.unique(y):\n",
    "        weights[y==_class] = float(np.sum(y==_class)) / y.shape[0]\n",
    "    return weights"
   ]
  },
  {
   "cell_type": "code",
   "execution_count": null,
   "metadata": {},
   "outputs": [],
   "source": []
  },
  {
   "cell_type": "code",
   "execution_count": null,
   "metadata": {},
   "outputs": [],
   "source": []
  },
  {
   "cell_type": "markdown",
   "metadata": {},
   "source": [
    "# Categorize data\n",
    "- Helper functions\n",
    "    - get_sign(data, eps)\n",
    "    - continuous_to_catigorical_equal_binsize(data, low_prctile, high_prctile, num_bins)\n",
    "    - continuous_to_catigorical_pertentile(data, num_bins)"
   ]
  },
  {
   "cell_type": "code",
   "execution_count": 5,
   "metadata": {},
   "outputs": [
    {
     "name": "stdout",
     "output_type": "stream",
     "text": [
      "#stable =  937 ;   #grow =  2478 ;   #shrink =  3032\n"
     ]
    }
   ],
   "source": [
    "# # ------------------------------ Migration Direction, From Δ(centroid) ------------------------------\n",
    "# eps_motion = 0.005\n",
    "# move_left_centr = get_sign(dist_f_g_diff, eps_motion)\n",
    "# move_left = move_left_centr\n",
    "# move_left_ind = MultiLabelBinarizer().fit_transform(move_left)\n",
    "\n",
    "# plt.figure()\n",
    "# plt.hist(move_left, bins=[-1, 0, 1, 2], density = True, alpha = 0.2, color= 'k')\n",
    "# plt.xticks([-0.5, 0.5, 1.5], ['-1', '0', '1'], size=15)\n",
    "# plt.yticks(size=15)\n",
    "# plt.ylabel('Probability',size=16)\n",
    "# plt.xlabel('Direction Of Migration',size=16)\n",
    "# plt.savefig(fig_name, dpi=300, bbox_inches=\"tight\")\n",
    "\n",
    "\n",
    "\n",
    "# # ---------------------- Migration Direction, From Local Norm Projection ----------------------\n",
    "# mig_left_normproj = mig['mig_left_normproj']\n",
    "\n",
    "# eps = 0.5\n",
    "# move_left_direct = get_sign(mig_left_normproj, eps)\n",
    "# print 'stable = ', np.sum(move_left_direct == 0), '; move_left = ', np.sum(move_left_direct > 0), \\\n",
    "#         'move_right = ', np.sum(move_left_direct < 0)\n",
    "\n",
    "\n",
    "# # -------------------------------------- Sign Of A_diff --------------------------------------\n",
    "eps_area = 20\n",
    "area_diff_sign = get_sign(data['A_diff'], eps_area)\n",
    "print '#stable = ', np.sum(area_diff_sign == 0), ';   #grow = ', np.sum(area_diff_sign > 0), \\\n",
    "    ';   #shrink = ', np.sum(area_diff_sign < 0)\n",
    "    \n",
    "    \n",
    "# # -------------------------------------- Rank Of A_diff --------------------------------------\n",
    "# low_prctile = 5\n",
    "# high_prctile = 95\n",
    "# num_bins = 4\n",
    "# area_diff_rank = continuous_to_catigorical_equal_binsize(data['A_diff'], low_prctile, high_prctile, num_bins)\n",
    "# plt.hist(area_diff_rank)\n",
    "\n"
   ]
  },
  {
   "cell_type": "code",
   "execution_count": null,
   "metadata": {},
   "outputs": [],
   "source": []
  },
  {
   "cell_type": "code",
   "execution_count": null,
   "metadata": {},
   "outputs": [],
   "source": []
  },
  {
   "cell_type": "markdown",
   "metadata": {},
   "source": [
    "# Logistic Regression, Vanilla"
   ]
  },
  {
   "cell_type": "code",
   "execution_count": 29,
   "metadata": {},
   "outputs": [],
   "source": [
    "from sklearn.linear_model import LogisticRegression\n",
    "\n",
    "y = energy_grad.iloc[:, 0]\n",
    "X = energy_grad.iloc[:, 1:]\n",
    "\n",
    "# y = mig_sign.mig_n2_sign_ot\n",
    "# X = energy_grad.iloc[:, 1:]\n",
    "# mask_onepiece = other.iloc[:,0].astype('bool').values\n",
    "# X = X[mask_onepiece]\n",
    "\n",
    "logi_reg = LogisticRegression()\n",
    "\n",
    "logi_reg.fit(X, y)\n",
    "print logi_reg.coef_\n",
    "# print lasso.intercept_\n",
    "print 'accuracy: ', logi_reg.score(X, y)"
   ]
  },
  {
   "cell_type": "markdown",
   "metadata": {},
   "source": [
    "# Logistic Regression, Lasso\n",
    "- Notes\n",
    "    - only ‘newton-cg’, ‘sag’, ‘saga’ and ‘lbfgs’ handle multinomial loss; ‘liblinear’ is limited to one-versus-rest schemes\n",
    "    - only ‘liblinear’ and ‘saga’ handle L1 penalty.\n",
    "- Parameter importance \n",
    "    - np.std(X, 0) * clf.coef_ \n",
    "        - https://stackoverflow.com/questions/34052115/how-to-find-the-importance-of-the-features-for-a-logistic-regression-model\n",
    "- Results\n",
    "    - L1 & L2\n",
    "        - Accuracy is similar, but coefs very different\n",
    "    - 'liblinear' + 'ovr' (one versus all) & 'saga' + 'multinomial'\n",
    "        - The prediction accuracy is similar.\n",
    "        - The feature selection effect is much more clear in 'saga' + 'multinomial'."
   ]
  },
  {
   "cell_type": "code",
   "execution_count": 23,
   "metadata": {},
   "outputs": [],
   "source": [
    "rand_idx = 0\n",
    "\n",
    "# ------------ Data -------------\n",
    "# ------------------\n",
    "# y = move_left\n",
    "# X = data.drop(['dist_f_g_diff'], axis=1)\n",
    "# figure_name = '190730_move_left_logiReg_Hsmooth'\n",
    "# ------------------\n",
    "y = area_diff_sign\n",
    "X = data.drop(['A_diff', 'fMs_abs_diff'], axis=1)\n",
    "figure_name = '190730_area_diff_sign_logiReg_Hsmooth'\n",
    "# ------------------\n",
    "# y = area_diff_rank\n",
    "# X = data.drop(['A_diff', 'fMs_abs_diff'], axis=1)\n",
    "# figure_name = '190730_area_diff_rank_logiReg_Hsmooth'\n",
    "# ------------------\n",
    "# y = data['mask_complete']\n",
    "# X = data.drop(['mask_complete',], axis=1)\n",
    "# figure_name = '190730_mask_complete_logiReg_Hsmooth'\n",
    "# ------------------\n",
    "X = X / X.max(axis=0) *10\n",
    "\n",
    "X_train, X_test, y_train, y_test = train_test_split(X, y, test_size=0.2, random_state=rand_idx)\n",
    "\n",
    "\n",
    "\n",
    "# ------------ Model -------------\n",
    "logi_reg = LogisticRegression(penalty='l1', solver='saga', multi_class='multinomial', max_iter=5000, C=0.1)\n",
    "# logi_reg = LogisticRegression(penalty='l1', solver='liblinear', max_iter=2000, C = 0.1)\n",
    "\n",
    "\n",
    "# ------------ Results -------------\n",
    "logi_reg.fit(X_train, y_train)\n",
    "print 'training score =', np.round(logi_reg.score(X_train, y_train), 4)\n",
    "print 'test score =', np.round(logi_reg.score(X_test, y_test), 4)\n",
    "print classification_report(y_test, logi_reg.predict(X_test))\n",
    "\n",
    "plot_confusion_matrix(y_train, logi_reg.predict(X_train), classes=range(min(y), max(y)+1))\n",
    "plt.figure()\n",
    "plot_confusion_matrix(y_test, logi_reg.predict(X_test), classes=range(min(y), max(y)+1))\n",
    "\n"
   ]
  },
  {
   "cell_type": "markdown",
   "metadata": {},
   "source": [
    "### Tuning C"
   ]
  },
  {
   "cell_type": "code",
   "execution_count": 24,
   "metadata": {},
   "outputs": [
    {
     "data": {
      "text/plain": [
       "({'C': 100}, 0.5931440980300915)"
      ]
     },
     "execution_count": 24,
     "metadata": {},
     "output_type": "execute_result"
    }
   ],
   "source": [
    "logi_reg = LogisticRegression(penalty='l1', solver='saga', multi_class='multinomial', max_iter=5000)\n",
    "\n",
    "\n",
    "param_test =  {\n",
    "     'C':[0.01, 0.1, 1, 10, 100, 1000]\n",
    "#     'C':[i/2.0 + 0.1 for i in range(0, 10, 2)]\n",
    "}\n",
    "\n",
    "# scoring = {'AUC': 'roc_auc', 'Accuracy': make_scorer(accuracy_score)}\n",
    "gsearch = GridSearchCV(estimator = logi_reg, param_grid = param_test, cv=5, return_train_score=False)\n",
    "gsearch.fit(X, y)\n",
    "gsearch.best_params_, gsearch.best_score_\n"
   ]
  },
  {
   "cell_type": "markdown",
   "metadata": {},
   "source": [
    "### Final results"
   ]
  },
  {
   "cell_type": "code",
   "execution_count": 26,
   "metadata": {},
   "outputs": [
    {
     "name": "stdout",
     "output_type": "stream",
     "text": [
      "['fit_time', 'score_time', 'test_score', 'train_score']\n",
      "test accuracy =  [0.5933 0.5701 0.578  0.625  0.5994] 0.5932\n",
      "training accuracy =  [0.595  0.6014 0.6024 0.5912 0.5997] 0.598\n"
     ]
    }
   ],
   "source": [
    "best_c = gsearch.best_params_['C']\n",
    "logi_reg = LogisticRegression(penalty='l1', solver='saga', multi_class='multinomial', max_iter=5000, C = best_c)\n",
    "\n",
    "cv_results = cross_validate(logi_reg, X, y, cv=5, return_train_score=True)\n",
    "print sorted(cv_results.keys()) \n",
    "print 'test accuracy = ', np.round(cv_results['test_score'], 4), np.round(cv_results['test_score'].mean(), 4)\n",
    "print 'training accuracy = ', np.round(cv_results['train_score'], 4), np.round(cv_results['train_score'].mean(), 4)\n",
    "\n",
    "# logi_reg.fit(X_train, y_train)\n",
    "# plotConfusionMatrix(y_train, logi_reg.predict(X_train), ['-1', '0', '1'], normalize=False, rotate_xlabel=False, title=figure_name + '_train')\n",
    "# plt.figure()\n",
    "# plotConfusionMatrix(y_test, logi_reg.predict(X_test), ['-1', '0', '1'], normalize=False, rotate_xlabel=False, title=figure_name + '_test')\n",
    "# plt.figure()\n",
    "# plotFeatureImportance(logi_reg.coef_[0,:], X.columns, title=figure_name)\n",
    "# np.savetxt(figure_name + '_coefs.txt', logi_reg.coef_[0,:], delimiter=',') \n",
    "# np.savetxt(figure_name + '_feature_names.txt', X.columns, delimiter=',', fmt='%20s') "
   ]
  },
  {
   "cell_type": "code",
   "execution_count": null,
   "metadata": {},
   "outputs": [],
   "source": []
  },
  {
   "cell_type": "code",
   "execution_count": null,
   "metadata": {},
   "outputs": [],
   "source": []
  },
  {
   "cell_type": "markdown",
   "metadata": {},
   "source": [
    "# RFE\n",
    "Feature ranking with recursive feature elimination."
   ]
  },
  {
   "cell_type": "code",
   "execution_count": 38,
   "metadata": {},
   "outputs": [
    {
     "name": "stdout",
     "output_type": "stream",
     "text": [
      "[ True  True  True False False False False False False]\n",
      "[1 1 1 3 2 7 4 6 5]\n"
     ]
    }
   ],
   "source": [
    "from sklearn.feature_selection import RFE\n",
    "\n",
    "y = energy_grad.iloc[:, 0]\n",
    "X = energy_grad.iloc[:, 1:]\n",
    "\n",
    "estimator = LogisticRegression()\n",
    "selector = RFE(estimator, 3, step=1)\n",
    "selector = selector.fit(X, y)\n",
    "print selector.support_ \n",
    "print selector.ranking_"
   ]
  },
  {
   "cell_type": "code",
   "execution_count": null,
   "metadata": {},
   "outputs": [],
   "source": []
  },
  {
   "cell_type": "code",
   "execution_count": null,
   "metadata": {},
   "outputs": [],
   "source": []
  },
  {
   "cell_type": "code",
   "execution_count": null,
   "metadata": {},
   "outputs": [],
   "source": []
  },
  {
   "cell_type": "markdown",
   "metadata": {},
   "source": [
    "# XGboost\n",
    "- refs:\n",
    "    - https://www.analyticsvidhya.com/blog/2016/03/complete-guide-parameter-tuning-xgboost-with-codes-python/\n",
    "    - https://machinelearningmastery.com/tune-number-size-decision-trees-xgboost-python/\n",
    "- sample weights\n",
    "    - https://stackoverflow.com/questions/42192227/xgboost-python-classifier-class-weight-option"
   ]
  },
  {
   "cell_type": "markdown",
   "metadata": {},
   "source": [
    "### Default model"
   ]
  },
  {
   "cell_type": "code",
   "execution_count": 6,
   "metadata": {},
   "outputs": [],
   "source": [
    "num_class = 3\n",
    "# # -------\n",
    "# objective = 'multi:softmax'\n",
    "# eval_metric = 'auc'\n",
    "# -------\n",
    "objective = 'multi:softprob'\n",
    "eval_metric='mlogloss'\n",
    "\n",
    "# ------------------- Data -------------------\n",
    "y = area_diff_sign\n",
    "X = data.drop(['A_diff', 'fMs_abs_diff'], axis=1)\n",
    "# X = data[['fMs_abs_an4', 'abs_gf_gfnn', 'E_diff', 'disappeared_frac_g']]\n",
    "figure_name = '190730_area_diff_sign_xgboost_Hsmooth_mlogloss'\n",
    "class_labels = ['shrink', 'stable', 'grow']\n",
    "\n",
    "X = X / X.max(axis=0) *10\n",
    "X_train, X_test, y_train, y_test = train_test_split(X, y, test_size=0.2, random_state=0)\n",
    "\n",
    "# ------------------- Data weight -------------------\n",
    "weights_train = calc_class_weights(y_train)\n",
    "weights_test = calc_class_weights(y_test)\n",
    "weights = calc_class_weights(y)\n",
    "\n",
    "# ------------------- Model -------------------\n",
    "xgb1 = XGBClassifier(\n",
    "                     eval_metric=eval_metric,\n",
    "                     num_class=num_class,\n",
    "                     objective=objective,\n",
    "                     learning_rate =0.1,\n",
    "                     n_estimators=500,\n",
    "                     max_depth=3,\n",
    "                     min_child_weight=1,\n",
    "                     gamma=0,\n",
    "                     colsample_bytree=0.3\n",
    "                    )\n",
    "\n",
    "# # ------------------- Results -------------------\n",
    "# xgb1.fit(X_train, y_train, sample_weight = weights_train)\n",
    "# print 'training score =', np.round(xgb1.score(X_train, y_train), 3), 'test score =', np.round(xgb1.score(X_test, y_test), 3)\n",
    "# print 'test report'\n",
    "# print classification_report(y_test, xgb1.predict(X_test))\n",
    "\n",
    "# plotConfusionMatrix(y_train, xgb1.predict(X_train), class_labels)\n",
    "# plt.figure()\n",
    "# plotConfusionMatrix(y_test, xgb1.predict(X_test), class_labels)"
   ]
  },
  {
   "cell_type": "markdown",
   "metadata": {},
   "source": [
    "### Tune    n_estimators"
   ]
  },
  {
   "cell_type": "code",
   "execution_count": 8,
   "metadata": {},
   "outputs": [
    {
     "data": {
      "text/plain": [
       "({'n_estimators': 1000}, 0.7054443927408097)"
      ]
     },
     "execution_count": 8,
     "metadata": {},
     "output_type": "execute_result"
    }
   ],
   "source": [
    "xgb_best = XGBClassifier(\n",
    "                         eval_metric=eval_metric,\n",
    "                         num_class=num_class,\n",
    "                         objective=objective,\n",
    "                         learning_rate=0.1,\n",
    "                        )\n",
    "\n",
    "param_test =  {\n",
    "#  'n_estimators':[200, 500, 1000, 2000]\n",
    "    'n_estimators': range(800, 1700, 200)\n",
    "}\n",
    "\n",
    "gsearch = GridSearchCV(estimator = xgb_best, param_grid = param_test, cv=5, return_train_score=True)\n",
    "gsearch.fit(X, y, sample_weight = weights)\n",
    "gsearch.best_params_, gsearch.best_score_\n"
   ]
  },
  {
   "cell_type": "markdown",
   "metadata": {},
   "source": [
    "### Tune 1. max_depth & min_child_weight"
   ]
  },
  {
   "cell_type": "code",
   "execution_count": 9,
   "metadata": {},
   "outputs": [
    {
     "data": {
      "text/plain": [
       "({'max_depth': 4, 'min_child_weight': 3}, 0.7097874980611137)"
      ]
     },
     "execution_count": 9,
     "metadata": {},
     "output_type": "execute_result"
    }
   ],
   "source": [
    "best_n_estimators = gsearch.best_params_['n_estimators']\n",
    "\n",
    "xgb_best = XGBClassifier(\n",
    "                         eval_metric=eval_metric,\n",
    "                         num_class=num_class,\n",
    "                         objective=objective,\n",
    "                         learning_rate =0.1,\n",
    "                         n_estimators=best_n_estimators,\n",
    "                        )\n",
    "\n",
    "param_test_1 = {\n",
    " 'max_depth':range(2, 7, 1),\n",
    " 'min_child_weight':range(1, 7, 1)\n",
    "#  'max_depth':range(2, 4, 1),\n",
    "#  'min_child_weight':range(1, 4, 1)\n",
    "}\n",
    "\n",
    "gsearch1 = GridSearchCV(estimator = xgb_best, param_grid = param_test_1, cv=5, return_train_score=False)\n",
    "gsearch1.fit(X, y, sample_weight = weights)\n",
    "gsearch1.best_params_, gsearch1.best_score_"
   ]
  },
  {
   "cell_type": "markdown",
   "metadata": {},
   "source": [
    "### Tune 2. gamma "
   ]
  },
  {
   "cell_type": "code",
   "execution_count": 33,
   "metadata": {},
   "outputs": [],
   "source": [
    "best_depth = gsearch1.best_params_['max_depth']\n",
    "best_min_child_weight = gsearch1.best_params_['min_child_weight']\n",
    "\n",
    "xgb_best = XGBClassifier(\n",
    "                         eval_metric=eval_metric,\n",
    "                         num_class=num_class,\n",
    "                         objective=objective,\n",
    "                         learning_rate =0.1,\n",
    "                         n_estimators=best_n_estimators,\n",
    "                         max_depth=best_depth,\n",
    "                         min_child_weight=best_min_child_weight\n",
    "                         )\n",
    "\n",
    "param_test_2 =  {\n",
    "    'gamma':[0.0, 0.1, 1.0, 10.0, 100.0, 1000.0]\n",
    "#  'gamma':[i/1.0 for i in range(1, 10, 2)]\n",
    "#     'gamma':[10.0, 1000.0, 2e3, 3e3, 4e3]\n",
    "}\n",
    "\n",
    "gsearch2 = GridSearchCV(estimator = xgb_best, param_grid = param_test_2, cv=5, return_train_score=False)\n",
    "gsearch2.fit(X, y, sample_weight = weights)\n",
    "gsearch2.best_params_, gsearch2.best_score_"
   ]
  },
  {
   "cell_type": "markdown",
   "metadata": {},
   "source": [
    "### Tune 3. subsample & colsample_bytree, learning rate"
   ]
  },
  {
   "cell_type": "code",
   "execution_count": 12,
   "metadata": {},
   "outputs": [
    {
     "name": "stdout",
     "output_type": "stream",
     "text": [
      "gsearch3:  {'subsample': 0.9, 'colsample_bytree': 0.7} 0.7111834961997828\n",
      "{'learning_rate': 0.05} 0.7131999379556383\n",
      "cross validation, train AUC =  0.9699\n",
      "cross validation, test AUC =  0.7121\n",
      " \n",
      "X =  ['dist_twin_an4', 'A_an4', 'fMs_abs_an4', 'avg_FabsavgH_an4', 'avg_FabsavgH_diff', 'C_an4', 'E_an4', 'da_len_w_an4_opp', 'C_diff', 'E_diff', 'da_len_w_diff_opp', 'E_Enn', 'abs_gf_gfnn', 'pos_frac', 'twin_frac', 'grow_frac', 'disappeared_frac', 'appeared_frac', 'total_dann', 'disappeared_frac_g', 'appeared_frac_g', 'max_dfnn_g', 'min_dfnn_g', 'avg_dfnn_g', 'gV_diff_an4', 'fMs_an4_left']\n",
      " \n",
      "190730_area_diff_sign_xgboost_Hsmooth_mlogloss\n"
     ]
    }
   ],
   "source": [
    "best_depth = gsearch1.best_params_['max_depth']\n",
    "best_min_child_weight = gsearch1.best_params_['min_child_weight']\n",
    "# -------------------------------- Regularization --------------------------------------\n",
    "# best_gamma = gsearch2.best_params_['gamma']\n",
    "best_gamma = 0.0\n",
    "\n",
    "xgb_best = XGBClassifier(\n",
    "                         eval_metric=eval_metric,\n",
    "                         num_class=num_class,\n",
    "                         objective=objective,\n",
    "                         learning_rate =0.1,\n",
    "                         n_estimators=best_n_estimators,\n",
    "                         max_depth=best_depth,\n",
    "                         min_child_weight=best_min_child_weight,\n",
    "                         gamma=best_gamma\n",
    "                         )\n",
    "\n",
    "param_test_3 =  {\n",
    " 'colsample_bytree':[i/100.0 for i in range(30, 101, 10)],\n",
    " 'subsample':[i/100.0 for i in range(50,101,10)]\n",
    "}\n",
    "gsearch3 = GridSearchCV(estimator = xgb_best, param_grid = param_test_3, cv=5, return_train_score=False)\n",
    "gsearch3.fit(X, y, sample_weight = weights)\n",
    "print 'gsearch3: ', gsearch3.best_params_, gsearch3.best_score_\n",
    "\n",
    "best_colsample_bytree = gsearch3.best_params_['colsample_bytree']\n",
    "best_subsample =  gsearch3.best_params_['subsample']\n",
    "\n",
    "# -------------------------------- Learning Rate --------------------------------------\n",
    "xgb_best = XGBClassifier(\n",
    "                         eval_metric=eval_metric,\n",
    "                         num_class=num_class,\n",
    "                         objective=objective,\n",
    "                         n_estimators=best_n_estimators,\n",
    "                         max_depth=best_depth,\n",
    "                         min_child_weight=best_min_child_weight,\n",
    "                         gamma=best_gamma,\n",
    "                         colsample_bytree=best_colsample_bytree,\n",
    "                         subsample=best_subsample\n",
    "                         )\n",
    "\n",
    "param_test_4 =  {\n",
    " 'learning_rate':[0.02, 0.05, 0.1, 0.15, 0.2]\n",
    "}\n",
    "\n",
    "gsearch4 = GridSearchCV(estimator = xgb_best, param_grid = param_test_4, cv=5, return_train_score=False)\n",
    "gsearch4.fit(X, y, sample_weight = weights)\n",
    "print gsearch4.best_params_, gsearch4.best_score_\n",
    "\n",
    "best_learning_rate =  gsearch4.best_params_['learning_rate']\n",
    "\n",
    "# -------------------------------- Final Model --------------------------------------\n",
    "xgb_best = XGBClassifier(\n",
    "                         eval_metric=eval_metric,\n",
    "                         num_class=num_class,\n",
    "                         objective=objective,\n",
    "                         learning_rate=best_learning_rate,\n",
    "                         n_estimators=best_n_estimators,\n",
    "                         max_depth=best_depth,\n",
    "                         min_child_weight=best_min_child_weight,\n",
    "                         gamma=best_gamma,\n",
    "                         colsample_bytree=best_colsample_bytree,\n",
    "                         subsample=best_subsample\n",
    "                         )\n",
    "\n",
    "cross_val_scores = cross_validate(xgb_best, X, y, cv=5, return_train_score=True)\n",
    "print 'cross validation, train AUC = ', np.round(sum(cross_val_scores['train_score']) / len(cross_val_scores['train_score']), 4)\n",
    "print 'cross validation, test AUC = ', np.round(sum(cross_val_scores['test_score']) / len(cross_val_scores['test_score']), 4)\n",
    "\n",
    "\n",
    "print ' '\n",
    "print 'X = ', list(X.columns)\n",
    "print ' '\n",
    "print figure_name"
   ]
  },
  {
   "cell_type": "markdown",
   "metadata": {},
   "source": [
    "### Plots"
   ]
  },
  {
   "cell_type": "code",
   "execution_count": 38,
   "metadata": {},
   "outputs": [
    {
     "name": "stdout",
     "output_type": "stream",
     "text": [
      "multi:softmax\n",
      "{'learning_rate': 0.05}\n",
      "{'n_estimators': 1000}\n",
      "{'max_depth': 4, 'min_child_weight': 3}\n",
      "{'gamma': 0.0}\n",
      "{'subsample': 0.9, 'colsample_bytree': 0.7}\n"
     ]
    },
    {
     "data": {
      "image/png": "[encoded data removed]",
      "text/plain": [
       "<matplotlib.figure.Figure at 0x1a18016050>"
      ]
     },
     "metadata": {},
     "output_type": "display_data"
    },
    {
     "data": {
      "text/plain": [
       "<matplotlib.figure.Figure at 0x1a196499d0>"
      ]
     },
     "metadata": {},
     "output_type": "display_data"
    },
    {
     "data": {
      "image/png": "[encoded data removed]",
      "text/plain": [
       "<matplotlib.figure.Figure at 0x1a18b37710>"
      ]
     },
     "metadata": {},
     "output_type": "display_data"
    },
    {
     "data": {
      "text/plain": [
       "<matplotlib.figure.Figure at 0x1a18b37790>"
      ]
     },
     "metadata": {},
     "output_type": "display_data"
    },
    {
     "data": {
      "image/png": "[encoded data removed]",
      "text/plain": [
       "<matplotlib.figure.Figure at 0x1a18b37890>"
      ]
     },
     "metadata": {},
     "output_type": "display_data"
    }
   ],
   "source": [
    "# y = area_diff_sign\n",
    "# X = data.drop(['A_diff', 'fMs_abs_diff'], axis=1)\n",
    "# figure_name = '190730_area_diff_sign_xgboost_Hsmooth'\n",
    "# class_labels = ['shrink', 'stable', 'grow']\n",
    "\n",
    "# X = X / X.max(axis=0) *10\n",
    "# X_train, X_test, y_train, y_test = train_test_split(X, y, test_size=0.2, random_state=0)\n",
    "# weights_train = calc_class_weights(y_train)\n",
    "# weights_test = calc_class_weights(y_test)\n",
    "# weights = calc_class_weights(y)\n",
    "\n",
    "# xgb_best = XGBClassifier(\n",
    "#                          eval_metric='auc',\n",
    "#                          objective='multi:softmax',\n",
    "#                          learning_rate =0.1,\n",
    "#                          n_estimators=500,\n",
    "#                          max_depth=5,\n",
    "#                          min_child_weight=5,\n",
    "#                          gamma=1,\n",
    "#                          colsample_bytree=0.9,\n",
    "#                          subsample=0.9\n",
    "#                          )\n",
    "\n",
    "# cross_val_scores = cross_validate(xgb_best, X, y, cv=5, return_train_score=True)\n",
    "# print 'cross validation, train AUC = ', np.round(sum(cross_val_scores['train_score']) / len(cross_val_scores['train_score']), 4)\n",
    "# print 'cross validation, test AUC = ', np.round(sum(cross_val_scores['test_score']) / len(cross_val_scores['test_score']), 4)\n",
    "\n",
    "\n",
    "\n",
    "\n",
    "\n",
    "\n",
    "\n",
    "print objective\n",
    "print gsearch4.best_params_\n",
    "print gsearch.best_params_\n",
    "print gsearch1.best_params_\n",
    "print gsearch2.best_params_\n",
    "print gsearch3.best_params_\n",
    "\n",
    "xgb_best.fit(X_train, y_train, sample_weight = weights_train)\n",
    "\n",
    "plot_confusion_matrix(y_train, xgb_best.predict(X_train), class_labels, normalize=False, rotate_xlabel=False, title=figure_name + '_train')\n",
    "plt.figure()\n",
    "plot_confusion_matrix(y_test, xgb_best.predict(X_test), class_labels, normalize=False, rotate_xlabel=False, title=figure_name + '_test')\n",
    "plt.figure()\n",
    "plot_feature_importance(xgb1.feature_importances_, X.columns, title=figure_name)\n",
    "\n",
    "np.savetxt(figure_name + '_coefs.txt', xgb_best.feature_importances_, delimiter=',') \n",
    "np.savetxt(figure_name + '_names.txt', X.columns, delimiter=',', fmt='%20s') "
   ]
  },
  {
   "cell_type": "code",
   "execution_count": 17,
   "metadata": {},
   "outputs": [
    {
     "name": "stdout",
     "output_type": "stream",
     "text": [
      "cross validation, train AUC =  0.9999\n",
      "cross validation, test AUC =  0.7084\n",
      "cross validation, train AUC =  0.9999\n",
      "cross validation, test AUC =  0.7084\n"
     ]
    }
   ],
   "source": [
    "xgb_best = XGBClassifier(\n",
    "                         eval_metric='auc',\n",
    "                         objective='multi:softmax',\n",
    "                         learning_rate =0.1,\n",
    "                         n_estimators=1000,\n",
    "                         max_depth=4,\n",
    "                         min_child_weight=3,\n",
    "                         gamma=0,\n",
    "                         colsample_bytree=0.9,\n",
    "                         subsample=0.7\n",
    "                         )\n",
    "\n",
    "cross_val_scores = cross_validate(xgb_best, X, y, cv=5, return_train_score=True)\n",
    "print 'cross validation, train AUC = ', np.round(sum(cross_val_scores['train_score']) / len(cross_val_scores['train_score']), 4)\n",
    "print 'cross validation, test AUC = ', np.round(sum(cross_val_scores['test_score']) / len(cross_val_scores['test_score']), 4)\n",
    "\n",
    "xgb_best = XGBClassifier(\n",
    "                         eval_metric='mlogloss',\n",
    "                         objective='multi:softprob',\n",
    "                         learning_rate =0.1,\n",
    "                         n_estimators=1000,\n",
    "                         max_depth=4,\n",
    "                         min_child_weight=3,\n",
    "                         gamma=0,\n",
    "                         colsample_bytree=0.9,\n",
    "                         subsample=0.7\n",
    "                         )\n",
    "\n",
    "cross_val_scores = cross_validate(xgb_best, X, y, cv=5, return_train_score=True)\n",
    "print 'cross validation, train AUC = ', np.round(sum(cross_val_scores['train_score']) / len(cross_val_scores['train_score']), 4)\n",
    "print 'cross validation, test AUC = ', np.round(sum(cross_val_scores['test_score']) / len(cross_val_scores['test_score']), 4)\n",
    "\n",
    "\n",
    "\n"
   ]
  },
  {
   "cell_type": "code",
   "execution_count": null,
   "metadata": {},
   "outputs": [],
   "source": []
  },
  {
   "cell_type": "markdown",
   "metadata": {},
   "source": [
    "# Random Forest\n",
    "refs:\n",
    " - https://towardsdatascience.com/random-forest-in-python-24d0893d51c0\n",
    " - https://towardsdatascience.com/random-forest-in-python-24d0893d51c0"
   ]
  },
  {
   "cell_type": "code",
   "execution_count": 185,
   "metadata": {},
   "outputs": [
    {
     "name": "stderr",
     "output_type": "stream",
     "text": [
      "/Users/xiaotingzhong/anaconda2/lib/python2.7/site-packages/ipykernel_launcher.py:13: DataConversionWarning: A column-vector y was passed when a 1d array was expected. Please change the shape of y to (n_samples,), for example using ravel().\n",
      "  del sys.path[0]\n"
     ]
    },
    {
     "name": "stdout",
     "output_type": "stream",
     "text": [
      "training score = 1.0 test_score = 0.5255579553635709\n"
     ]
    },
    {
     "name": "stderr",
     "output_type": "stream",
     "text": [
      "/Users/xiaotingzhong/anaconda2/lib/python2.7/site-packages/sklearn/model_selection/_validation.py:528: DataConversionWarning: A column-vector y was passed when a 1d array was expected. Please change the shape of y to (n_samples,), for example using ravel().\n",
      "  estimator.fit(X_train, y_train, **fit_params)\n"
     ]
    },
    {
     "name": "stdout",
     "output_type": "stream",
     "text": [
      "['fit_time', 'score_time', 'test_score', 'train_score']\n",
      "[0.52877698 0.53818444 0.5295389  0.53530259 0.53314121]\n",
      "[1. 1. 1. 1. 1.]\n",
      "[0.52877698 0.53818444 0.5295389  0.53530259 0.53314121] 0.532988825078266\n",
      "[1. 1. 1. 1. 1.] 1.0\n"
     ]
    },
    {
     "data": {
      "image/png": "[encoded data removed]",
      "text/plain": [
       "<matplotlib.figure.Figure at 0x1a4a4e1ed0>"
      ]
     },
     "metadata": {},
     "output_type": "display_data"
    },
    {
     "data": {
      "text/plain": [
       "<matplotlib.figure.Figure at 0x1a1cd27050>"
      ]
     },
     "metadata": {},
     "output_type": "display_data"
    },
    {
     "data": {
      "image/png": "[encoded data removed]",
      "text/plain": [
       "<matplotlib.figure.Figure at 0x1a36bcec90>"
      ]
     },
     "metadata": {},
     "output_type": "display_data"
    },
    {
     "data": {
      "text/plain": [
       "<matplotlib.figure.Figure at 0x1a36c27290>"
      ]
     },
     "metadata": {},
     "output_type": "display_data"
    },
    {
     "data": {
      "image/png": "[encoded data removed]",
      "text/plain": [
       "<matplotlib.figure.Figure at 0x1a17cbdb50>"
      ]
     },
     "metadata": {},
     "output_type": "display_data"
    }
   ],
   "source": [
    "from sklearn.ensemble import RandomForestRegressor\n",
    "from sklearn.ensemble import RandomForestClassifier\n",
    "\n",
    "# energy_grad = pd.read_csv('/Users/xiaotingzhong/Documents/Matlab/Grain Tracking/190408_features_energygrad.txt')\n",
    "X = energy_grad.iloc[:, 1:]\n",
    "# X = pd.concat([energy_grad.iloc[:, 1:], geo_topo.iloc[:,:5], other.iloc[:, 1:]], axis=1)\n",
    "y = move_left\n",
    "# y_onehot = pd.get_dummies(y)\n",
    "\n",
    "\n",
    "rf = RandomForestClassifier(n_estimators = 1000, max_features=5, random_state = 42)\n",
    "X_train, X_test, y_train, y_test = train_test_split(X, y, test_size=0.2, random_state=0)\n",
    "rf.fit(X_train, y_train);\n",
    "\n",
    "\n",
    "print 'training score =', rf.score(X_train, y_train), 'test_score =', rf.score(X_test, y_test)\n",
    "conf_mat =  confusion_matrix(y_test, rf.predict(X_test))\n",
    "plotConfusionMatrix(y_train, rf.predict(X_train), ['-1', '0', '1'], normalize=False, rotate_xlabel=False, title='RF_train_confmat')\n",
    "plt.figure()\n",
    "plotConfusionMatrix(y_test, rf.predict(X_test), ['-1', '0', '1'], normalize=False, rotate_xlabel=False, title='RF_test_confmat')\n",
    "plt.figure()\n",
    "plotFeatureImportance(rf.feature_importances_, X.columns, title='RF_feature_importance')\n",
    "\n",
    "np.savetxt('_coefs.txt', rf.feature_importances_, delimiter=',') \n",
    "np.savetxt('_feature_names.txt', X.columns, delimiter=',', fmt='%20s') \n",
    "\n",
    "cv_results = cross_validate(rf, X, y, cv=5, return_train_score=True)\n",
    "print sorted(cv_results.keys()) \n",
    "print cv_results['test_score']\n",
    "print cv_results['train_score']\n",
    "print cv_results['test_score'], cv_results['test_score'].mean()\n",
    "print cv_results['train_score'], cv_results['train_score'].mean()"
   ]
  },
  {
   "cell_type": "code",
   "execution_count": 186,
   "metadata": {},
   "outputs": [],
   "source": []
  },
  {
   "cell_type": "code",
   "execution_count": null,
   "metadata": {},
   "outputs": [],
   "source": []
  },
  {
   "cell_type": "markdown",
   "metadata": {},
   "source": [
    "# CCA \n",
    "- To checks:\n",
    "    - $R_c$ (canonical correlations) and $R_c^2$ (total variance explained by each canonical variate)\n",
    "    - Helio plot, for correlation between X, Y and each cannonical variate (??? pair ???)(Mandal Fig.9)\n",
    "        - https://andrewpwheeler.wordpress.com/2013/06/27/some-discussion-on-circular-helio-bar-charts-2/\n",
    "    - Canonical variate redundancy plot (Mandal Fig.8)\n",
    "    - Canonical variate pair plots, cv_x vs. cv_y. (Mandal Fig.7)"
   ]
  },
  {
   "cell_type": "code",
   "execution_count": 290,
   "metadata": {},
   "outputs": [
    {
     "name": "stdout",
     "output_type": "stream",
     "text": [
      "0.1134\n",
      "0.0839\n",
      "0.0702\n",
      "0.0601\n",
      "0.0456\n",
      "0.0312\n",
      "0.0268\n",
      "0.0153\n",
      "0.0102\n",
      "0.0017\n",
      "[[-1.14230620e+02  4.34652501e+00  3.36004720e-01 -2.87462001e+00\n",
      "  -1.68125547e+00 -1.54075192e+02 -4.08901514e+01  7.90808214e+00\n",
      "   2.27286098e+00  1.37468668e+00]\n",
      " [-1.46783510e+03 -2.55146785e+01  4.84587763e-02  6.07564481e+00\n",
      "   4.74962866e+00  3.35535104e+01 -1.40393922e+01  1.89849817e+01\n",
      "  -5.57524458e+00 -5.06167466e+00]\n",
      " [-2.57662937e+03 -5.15511482e+01 -2.52342939e-01 -1.07333569e+01\n",
      "  -5.53053316e+00  4.01192432e+02  8.12371533e+00  4.47600883e+00\n",
      "   7.47153939e+00  1.81621547e+00]\n",
      " [ 4.20756630e+03  1.26470563e+02 -1.13214782e-01  8.03931941e+00\n",
      "   5.06336136e+00 -6.62454377e+02 -4.41186540e+01 -2.31604852e+01\n",
      "  -4.45350904e+00 -1.29395329e+00]\n",
      " [-1.76386189e+02 -5.90413133e+01  5.52152100e-01  5.86754228e-01\n",
      "  -4.39589183e-01  5.02325108e+02  6.31160727e+01  5.27138591e+00\n",
      "  -2.68271412e+00 -1.43792566e+00]\n",
      " [ 3.22944503e+02 -9.80065799e+00 -8.07695763e-01 -8.77724648e-01\n",
      "  -8.60654098e-01  2.00590991e+01  1.56783203e+00  4.81652691e+00\n",
      "   1.61287680e+00  1.72434139e+00]\n",
      " [-5.47033642e+02 -1.57560943e+01 -5.59113269e-02 -3.89808589e-01\n",
      "  -7.77544169e-02 -1.80947098e+01 -1.72557460e+01  4.33326133e+00\n",
      "  -1.91684101e+00 -2.82174755e+00]\n",
      " [ 8.73841247e+02  1.64667852e+01 -2.62979013e-01  9.46851651e-01\n",
      "   1.29630351e+00 -3.07970616e+02  9.71718687e+00 -6.31215011e-01\n",
      "   1.47443068e+00  1.21722735e+00]\n",
      " [-3.99489599e+01 -2.97991652e+01  2.50107712e-01 -5.03801203e-02\n",
      "   8.32626524e-01  1.87850553e+02 -2.26090546e+01 -1.49478533e+01\n",
      "  -2.75776461e-01 -9.80573324e-01]\n",
      " [ 3.02553644e+02  1.53101544e+01  3.66959734e-02 -1.34056147e-01\n",
      "  -1.15997346e+00 -8.84347059e+00  9.08416815e+00  4.55182683e+00\n",
      "   1.12633101e+00  6.59646562e-01]]\n"
     ]
    }
   ],
   "source": [
    "from sklearn.cross_decomposition import CCA\n",
    "\n",
    "X = energy_grad\n",
    "Y = geo_topo\n",
    "\n",
    "\n",
    "cca = CCA(n_components=10)\n",
    "cca.fit(X, Y)\n",
    "\n",
    "U, V = cca.transform(X, Y)\n",
    "for i in range(10):\n",
    "    corr = np.corrcoef(U[:,i], V[:,i])[0,1]\n",
    "    print np.round(corr, 4)\n",
    "\n",
    "print cca.coef_"
   ]
  },
  {
   "cell_type": "code",
   "execution_count": null,
   "metadata": {},
   "outputs": [],
   "source": []
  },
  {
   "cell_type": "code",
   "execution_count": null,
   "metadata": {},
   "outputs": [],
   "source": []
  },
  {
   "cell_type": "code",
   "execution_count": 48,
   "metadata": {},
   "outputs": [
    {
     "data": {
      "text/plain": [
       "4522"
      ]
     },
     "execution_count": 48,
     "metadata": {},
     "output_type": "execute_result"
    }
   ],
   "source": [
    "mig = pd.read_csv('/Users/xiaotingzhong/Documents/Matlab/Grain Tracking/190408_features_energygrad.txt')\n",
    "mig_new = pd.read_csv('/Users/xiaotingzhong/Documents/Matlab/Grain Tracking/190408_features_energygrad_new.txt')\n",
    "\n",
    "np.sum(mig.iloc[:,0] == mig_new.iloc[:,0])"
   ]
  },
  {
   "cell_type": "code",
   "execution_count": 51,
   "metadata": {},
   "outputs": [
    {
     "data": {
      "text/plain": [
       "0.6456310679611651"
      ]
     },
     "execution_count": 51,
     "metadata": {},
     "output_type": "execute_result"
    }
   ],
   "source": [
    "float(4522) / mig.shape[0]"
   ]
  },
  {
   "cell_type": "code",
   "execution_count": null,
   "metadata": {},
   "outputs": [],
   "source": []
  },
  {
   "cell_type": "code",
   "execution_count": null,
   "metadata": {},
   "outputs": [],
   "source": []
  },
  {
   "cell_type": "code",
   "execution_count": null,
   "metadata": {},
   "outputs": [],
   "source": []
  },
  {
   "cell_type": "code",
   "execution_count": null,
   "metadata": {},
   "outputs": [],
   "source": []
  },
  {
   "cell_type": "code",
   "execution_count": null,
   "metadata": {},
   "outputs": [],
   "source": []
  },
  {
   "cell_type": "code",
   "execution_count": null,
   "metadata": {},
   "outputs": [],
   "source": []
  },
  {
   "cell_type": "code",
   "execution_count": null,
   "metadata": {},
   "outputs": [],
   "source": []
  },
  {
   "cell_type": "code",
   "execution_count": null,
   "metadata": {},
   "outputs": [],
   "source": []
  },
  {
   "cell_type": "code",
   "execution_count": null,
   "metadata": {},
   "outputs": [],
   "source": []
  },
  {
   "cell_type": "code",
   "execution_count": 46,
   "metadata": {},
   "outputs": [
    {
     "name": "stdout",
     "output_type": "stream",
     "text": [
      "{'max_depth': 2, 'min_child_weight': 6} 0.5526601520086862\n",
      "{'gamma': 0.1} 0.5532805956258725\n",
      "gsearch3:  {'subsample': 1.0, 'colsample_bytree': 0.3} 0.5568481464246936\n",
      "{'learning_rate': 0.05} 0.5568481464246936\n",
      "cross validation, train AUC =  0.5809\n",
      "cross validation, test AUC =  0.5558\n",
      " \n",
      "X =  ['fMs_abs_an4', 'E_diff', 'avg_FabsavgH_an4', 'grow_frac']\n",
      " \n",
      "190730_area_diff_sign_xgboost_Hsmooth_3\n",
      "multi:softmax\n",
      "{'learning_rate': 0.05}\n",
      "{'n_estimators': 200}\n",
      "{'max_depth': 2, 'min_child_weight': 6}\n",
      "{'gamma': 0.1}\n",
      "{'subsample': 1.0, 'colsample_bytree': 0.3}\n"
     ]
    },
    {
     "data": {
      "image/png": "[encoded data removed]",
      "text/plain": [
       "<matplotlib.figure.Figure at 0x1a18308c90>"
      ]
     },
     "metadata": {},
     "output_type": "display_data"
    },
    {
     "data": {
      "text/plain": [
       "<matplotlib.figure.Figure at 0x10459e850>"
      ]
     },
     "metadata": {},
     "output_type": "display_data"
    },
    {
     "data": {
      "image/png": "[encoded data removed]",
      "text/plain": [
       "<matplotlib.figure.Figure at 0x1a18941910>"
      ]
     },
     "metadata": {},
     "output_type": "display_data"
    },
    {
     "data": {
      "text/plain": [
       "<matplotlib.figure.Figure at 0x1a194173d0>"
      ]
     },
     "metadata": {},
     "output_type": "display_data"
    },
    {
     "data": {
      "image/png": "[encoded data removed]",
      "text/plain": [
       "<matplotlib.figure.Figure at 0x1a18d345d0>"
      ]
     },
     "metadata": {},
     "output_type": "display_data"
    }
   ],
   "source": [
    "objective = 'multi:softmax'\n",
    "# objective = 'reg:logistic'\n",
    "\n",
    "# ------------------- Data -------------------\n",
    "y = area_diff_sign\n",
    "# X = data.drop(['A_diff', 'fMs_abs_diff'], axis=1)\n",
    "X = data[['fMs_abs_an4', 'E_diff', 'avg_FabsavgH_an4', 'grow_frac']]\n",
    "figure_name = '190730_area_diff_sign_xgboost_Hsmooth_3'\n",
    "class_labels = ['shrink', 'stable', 'grow']\n",
    "\n",
    "X = X / X.max(axis=0) *10\n",
    "X_train, X_test, y_train, y_test = train_test_split(X, y, test_size=0.2, random_state=0)\n",
    "\n",
    "# ------------------- Data weight -------------------\n",
    "weights_train = calc_class_weights(y_train)\n",
    "weights_test = calc_class_weights(y_test)\n",
    "weights = calc_class_weights(y)\n",
    "\n",
    "\n",
    "\n",
    "xgb_best = XGBClassifier(\n",
    "                         eval_metric='auc',\n",
    "                         objective=objective,\n",
    "                         learning_rate=0.1,\n",
    "                        )\n",
    "\n",
    "# param_test =  {\n",
    "#  'n_estimators':[200, 500, 1000, 2000]\n",
    "# #     'n_estimators': range(800, 1700, 200)\n",
    "# }\n",
    "\n",
    "# gsearch = GridSearchCV(estimator = xgb_best, param_grid = param_test, cv=5, return_train_score=True)\n",
    "# gsearch.fit(X, y, sample_weight = weights)\n",
    "# print gsearch.best_params_, gsearch.best_score_\n",
    "# best_n_estimators = gsearch.best_params_['n_estimators']\n",
    "best_n_estimators = 500\n",
    "\n",
    "xgb_best = XGBClassifier(\n",
    "                         eval_metric='auc',\n",
    "                         objective=objective,\n",
    "                         learning_rate =0.1,\n",
    "                         n_estimators=best_n_estimators,\n",
    "                        )\n",
    "\n",
    "param_test_1 = {\n",
    " 'max_depth':range(2, 7, 1),\n",
    " 'min_child_weight':range(1, 7, 1)\n",
    "#  'max_depth':range(2, 4, 1),\n",
    "#  'min_child_weight':range(1, 4, 1)\n",
    "}\n",
    "\n",
    "gsearch1 = GridSearchCV(estimator = xgb_best, param_grid = param_test_1, cv=5, return_train_score=False)\n",
    "gsearch1.fit(X, y, sample_weight = weights)\n",
    "print gsearch1.best_params_, gsearch1.best_score_\n",
    "\n",
    "best_depth = gsearch1.best_params_['max_depth']\n",
    "best_min_child_weight = gsearch1.best_params_['min_child_weight']\n",
    "\n",
    "xgb_best = XGBClassifier(\n",
    "                         eval_metric='auc',\n",
    "                         objective=objective,\n",
    "                         learning_rate =0.1,\n",
    "                         n_estimators=best_n_estimators,\n",
    "                         max_depth=best_depth,\n",
    "                         min_child_weight=best_min_child_weight\n",
    "                         )\n",
    "\n",
    "param_test_2 =  {\n",
    "    'gamma':[0.0, 0.1, 1.0, 10.0, 100.0, 1000.0]\n",
    "#  'gamma':[i/1.0 for i in range(1, 10, 2)]\n",
    "#     'gamma':[10.0, 1000.0, 2e3, 3e3, 4e3]\n",
    "}\n",
    "\n",
    "gsearch2 = GridSearchCV(estimator = xgb_best, param_grid = param_test_2, cv=5, return_train_score=False)\n",
    "gsearch2.fit(X, y, sample_weight = weights)\n",
    "print gsearch2.best_params_, gsearch2.best_score_\n",
    "\n",
    "# -------------------------------- Regularization --------------------------------------\n",
    "best_gamma = gsearch2.best_params_['gamma']\n",
    "\n",
    "xgb_best = XGBClassifier(\n",
    "                         eval_metric='auc',\n",
    "                         objective=objective,\n",
    "                         learning_rate =0.1,\n",
    "                         n_estimators=best_n_estimators,\n",
    "                         max_depth=best_depth,\n",
    "                         min_child_weight=best_min_child_weight,\n",
    "                         gamma=best_gamma\n",
    "                         )\n",
    "\n",
    "param_test_3 =  {\n",
    " 'colsample_bytree':[i/100.0 for i in range(30, 101, 10)],\n",
    " 'subsample':[i/100.0 for i in range(50,101,10)]\n",
    "}\n",
    "gsearch3 = GridSearchCV(estimator = xgb_best, param_grid = param_test_3, cv=5, return_train_score=False)\n",
    "gsearch3.fit(X, y, sample_weight = weights)\n",
    "print 'gsearch3: ', gsearch3.best_params_, gsearch3.best_score_\n",
    "\n",
    "best_colsample_bytree = gsearch3.best_params_['colsample_bytree']\n",
    "best_subsample =  gsearch3.best_params_['subsample']\n",
    "\n",
    "# -------------------------------- Learning Rate --------------------------------------\n",
    "xgb_best = XGBClassifier(\n",
    "                         eval_metric='auc',\n",
    "                         objective=objective,\n",
    "                         n_estimators=best_n_estimators,\n",
    "                         max_depth=best_depth,\n",
    "                         min_child_weight=best_min_child_weight,\n",
    "                         gamma=best_gamma,\n",
    "                         colsample_bytree=best_colsample_bytree,\n",
    "                         subsample=best_subsample\n",
    "                         )\n",
    "\n",
    "param_test_4 =  {\n",
    " 'learning_rate':[0.02, 0.05, 0.1, 0.15, 0.2]\n",
    "}\n",
    "\n",
    "gsearch4 = GridSearchCV(estimator = xgb_best, param_grid = param_test_4, cv=5, return_train_score=False)\n",
    "gsearch4.fit(X, y, sample_weight = weights)\n",
    "print gsearch4.best_params_, gsearch4.best_score_\n",
    "\n",
    "best_learning_rate =  gsearch4.best_params_['learning_rate']\n",
    "\n",
    "# -------------------------------- Final Model --------------------------------------\n",
    "xgb_best = XGBClassifier(\n",
    "                         eval_metric='auc',\n",
    "                         objective=objective,\n",
    "                         learning_rate =best_learning_rate,\n",
    "                         n_estimators=best_n_estimators,\n",
    "                         max_depth=best_depth,\n",
    "                         min_child_weight=best_min_child_weight,\n",
    "                         gamma=best_gamma,\n",
    "                         colsample_bytree=best_colsample_bytree,\n",
    "                         subsample=best_subsample\n",
    "                         )\n",
    "\n",
    "cross_val_scores = cross_validate(xgb_best, X, y, cv=5, return_train_score=True)\n",
    "print 'cross validation, train AUC = ', np.round(sum(cross_val_scores['train_score']) / len(cross_val_scores['train_score']), 4)\n",
    "print 'cross validation, test AUC = ', np.round(sum(cross_val_scores['test_score']) / len(cross_val_scores['test_score']), 4)\n",
    "\n",
    "\n",
    "print ' '\n",
    "print 'X = ', list(X.columns)\n",
    "print ' '\n",
    "print figure_name\n",
    "\n",
    "\n",
    "print objective\n",
    "print gsearch4.best_params_\n",
    "print gsearch.best_params_\n",
    "print gsearch1.best_params_\n",
    "print gsearch2.best_params_\n",
    "print gsearch3.best_params_\n",
    "\n",
    "xgb_best.fit(X_train, y_train, sample_weight = weights_train)\n",
    "\n",
    "plot_confusion_matrix(y_train, xgb_best.predict(X_train), class_labels, normalize=False, rotate_xlabel=False, title=figure_name + '_train')\n",
    "plt.figure()\n",
    "plot_confusion_matrix(y_test, xgb_best.predict(X_test), class_labels, normalize=False, rotate_xlabel=False, title=figure_name + '_test')\n",
    "plt.figure()\n",
    "\n",
    "\n",
    "X_names = []\n",
    "for feature in X.columns:\n",
    "    X_names.append(name_dict[feature])\n",
    "plot_feature_importance(xgb_best.feature_importances_, X_names, figure_name)\n",
    "\n",
    "np.savetxt(figure_name + '_coefs.txt', xgb_best.feature_importances_, delimiter=',') \n",
    "np.savetxt(figure_name + '_names.txt', X_names, delimiter=',', fmt='%20s') \n",
    "\n",
    "\n",
    "\n",
    "\n"
   ]
  },
  {
   "cell_type": "code",
   "execution_count": null,
   "metadata": {},
   "outputs": [],
   "source": []
  },
  {
   "cell_type": "code",
   "execution_count": null,
   "metadata": {},
   "outputs": [],
   "source": []
  }
 ],
 "metadata": {
  "kernelspec": {
   "display_name": "Python 2",
   "language": "python",
   "name": "python2"
  },
  "language_info": {
   "codemirror_mode": {
    "name": "ipython",
    "version": 2
   },
   "file_extension": ".py",
   "mimetype": "text/x-python",
   "name": "python",
   "nbconvert_exporter": "python",
   "pygments_lexer": "ipython2",
   "version": "2.7.3"
  }
 },
 "nbformat": 4,
 "nbformat_minor": 2
}
