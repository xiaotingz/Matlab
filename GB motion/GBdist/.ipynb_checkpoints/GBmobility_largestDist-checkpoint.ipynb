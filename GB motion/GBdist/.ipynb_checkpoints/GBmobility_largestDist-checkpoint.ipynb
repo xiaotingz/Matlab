{
 "cells": [
  {
   "cell_type": "code",
   "execution_count": 16,
   "metadata": {},
   "outputs": [
    {
     "ename": "IndexError",
     "evalue": "index 370 is out of bounds for axis 0 with size 370",
     "output_type": "error",
     "traceback": [
      "\u001b[0;31m---------------------------------------------------------------------------\u001b[0m",
      "\u001b[0;31mIndexError\u001b[0m                                Traceback (most recent call last)",
      "\u001b[0;32m<ipython-input-16-7665cd5c33ba>\u001b[0m in \u001b[0;36m<module>\u001b[0;34m()\u001b[0m\n\u001b[1;32m     76\u001b[0m \u001b[0;34m\u001b[0m\u001b[0m\n\u001b[1;32m     77\u001b[0m \u001b[0;34m\u001b[0m\u001b[0m\n\u001b[0;32m---> 78\u001b[0;31m \u001b[0mmaxDist\u001b[0m \u001b[0;34m=\u001b[0m \u001b[0mmax_dis\u001b[0m\u001b[0;34m(\u001b[0m\u001b[0mdg_seed1_1\u001b[0m\u001b[0;34m,\u001b[0m \u001b[0mdg_seed1_2\u001b[0m\u001b[0;34m)\u001b[0m\u001b[0;34m\u001b[0m\u001b[0m\n\u001b[0m\u001b[1;32m     79\u001b[0m \u001b[0;32mprint\u001b[0m \u001b[0mmaxDist\u001b[0m\u001b[0;34m\u001b[0m\u001b[0m\n\u001b[1;32m     80\u001b[0m \u001b[0;31m# b1_all = get_b_all(dg_seed1_1, norm_all)\u001b[0m\u001b[0;34m\u001b[0m\u001b[0;34m\u001b[0m\u001b[0m\n",
      "\u001b[0;32m<ipython-input-16-7665cd5c33ba>\u001b[0m in \u001b[0;36mmax_dis\u001b[0;34m(dg1, dg2)\u001b[0m\n\u001b[1;32m     63\u001b[0m \u001b[0;34m\u001b[0m\u001b[0m\n\u001b[1;32m     64\u001b[0m \u001b[0;32mdef\u001b[0m \u001b[0mmax_dis\u001b[0m\u001b[0;34m(\u001b[0m\u001b[0mdg1\u001b[0m\u001b[0;34m,\u001b[0m \u001b[0mdg2\u001b[0m\u001b[0;34m)\u001b[0m\u001b[0;34m:\u001b[0m\u001b[0;34m\u001b[0m\u001b[0m\n\u001b[0;32m---> 65\u001b[0;31m     \u001b[0mb1_all\u001b[0m \u001b[0;34m=\u001b[0m \u001b[0mget_b_all\u001b[0m\u001b[0;34m(\u001b[0m\u001b[0mdg1\u001b[0m\u001b[0;34m,\u001b[0m \u001b[0mnorm_all\u001b[0m\u001b[0;34m)\u001b[0m\u001b[0;34m\u001b[0m\u001b[0m\n\u001b[0m\u001b[1;32m     66\u001b[0m     \u001b[0mb2_all\u001b[0m \u001b[0;34m=\u001b[0m \u001b[0mget_b_all\u001b[0m\u001b[0;34m(\u001b[0m\u001b[0mdg2\u001b[0m\u001b[0;34m,\u001b[0m \u001b[0mnorm_all\u001b[0m\u001b[0;34m)\u001b[0m\u001b[0;34m\u001b[0m\u001b[0m\n\u001b[1;32m     67\u001b[0m     \u001b[0mmaxDist\u001b[0m \u001b[0;34m=\u001b[0m \u001b[0;36m0.0\u001b[0m\u001b[0;34m\u001b[0m\u001b[0m\n",
      "\u001b[0;32m<ipython-input-16-7665cd5c33ba>\u001b[0m in \u001b[0;36mget_b_all\u001b[0;34m(dg, norm_all)\u001b[0m\n\u001b[1;32m     57\u001b[0m     \u001b[0;31m#         for loop can be avoided. Figure out how.\u001b[0m\u001b[0;34m\u001b[0m\u001b[0;34m\u001b[0m\u001b[0m\n\u001b[1;32m     58\u001b[0m     \u001b[0;32mfor\u001b[0m \u001b[0mi\u001b[0m \u001b[0;32min\u001b[0m \u001b[0mrange\u001b[0m\u001b[0;34m(\u001b[0m\u001b[0mresolution\u001b[0m\u001b[0;34m)\u001b[0m\u001b[0;34m:\u001b[0m\u001b[0;34m\u001b[0m\u001b[0m\n\u001b[0;32m---> 59\u001b[0;31m         \u001b[0mn\u001b[0m \u001b[0;34m=\u001b[0m \u001b[0mnorm_all\u001b[0m\u001b[0;34m[\u001b[0m\u001b[0mi\u001b[0m\u001b[0;34m]\u001b[0m\u001b[0;34m\u001b[0m\u001b[0m\n\u001b[0m\u001b[1;32m     60\u001b[0m         \u001b[0mb_all\u001b[0m\u001b[0;34m[\u001b[0m\u001b[0mi\u001b[0m\u001b[0;34m]\u001b[0m \u001b[0;34m=\u001b[0m \u001b[0mconvertB\u001b[0m\u001b[0;34m(\u001b[0m\u001b[0mdg\u001b[0m\u001b[0;34m,\u001b[0m\u001b[0mn\u001b[0m\u001b[0;34m)\u001b[0m\u001b[0;34m\u001b[0m\u001b[0m\n\u001b[1;32m     61\u001b[0m     \u001b[0;32mreturn\u001b[0m \u001b[0mb_all\u001b[0m\u001b[0;34m\u001b[0m\u001b[0m\n",
      "\u001b[0;31mIndexError\u001b[0m: index 370 is out of bounds for axis 0 with size 370"
     ]
    }
   ],
   "source": [
    "import numpy as np\n",
    "import RotRep\n",
    "from GBdist import spv4dist, convertB\n",
    "from functions import AAtoG, diffMisorientations, AnglestoV\n",
    "import sys\n",
    "\n",
    "# --------------------------------------------------------------\n",
    "# writing the symmetry operators for the 4*4 matrix\n",
    "O=RotRep.GetSymRotMat(symtype='Cubic')\n",
    "\n",
    "bsym=np.zeros((24,4,4))\n",
    "for i in range(24):\n",
    "    bsym[i][:3,:3]=O[i]\n",
    "    bsym[i][3,3]=1\n",
    "    \n",
    "# --------------------------------------------------------------\n",
    "# the GBs of interest\n",
    "seed1_angle = 22.9\n",
    "seed1_axis = [-4,16,-5]\n",
    "seed1 = AAtoG(seed1_angle, seed1_axis)\n",
    "seed2_angle = 38.3\n",
    "seed2_axis = [-7,6,1]\n",
    "seed2 = AAtoG(seed2_angle, seed2_axis)\n",
    "seed3_angle = 51.6\n",
    "seed3_axis = [-2,6,9]\n",
    "seed3 = AAtoG(seed3_angle, seed3_axis)\n",
    "\n",
    "dg_seed1_1 = AAtoG(28.6, [23,5,4])   #080617_2_5\n",
    "dg_seed1_2 = AAtoG(21.2, [4,-22,-11])   #110317_3\n",
    "dg_seed2_1 = AAtoG(38.3, [-7,6,1])   #102716_5\n",
    "dg_seed2_2 = AAtoG(38.7, [22,0,-21])   #081717_3\n",
    "dg_seed2_3 = AAtoG(40.2, [-24,1,-19])   #110917_1_2\n",
    "dg_seed3_1 = AAtoG(48.8, [-5,15,21])   #110917_2_1\n",
    "dg_seed3_2 = AAtoG(48.2, [-1,-3,4])   #110917_2_2\n",
    "\n",
    "# --------------------------------------------------------------\n",
    "# generate a list of all possible normal directions\n",
    "res_theta = 10\n",
    "res_psi = 10\n",
    "iter_theta = 360/res_theta + 1\n",
    "iter_psi = 90/res_psi + 1\n",
    "iter_total = iter_theta*iter_psi\n",
    "# resolution = 31*121\n",
    "norm_all = np.zeros((iter_total, 3))\n",
    "for i in range(iter_psi):\n",
    "    for j in range(iter_theta):\n",
    "#             norm_all[j + i*121] =[3.0*j, 3.0*i]\n",
    "        theta = np.float(res_theta*j)\n",
    "        psi = np.float(res_psi*i)\n",
    "        norm_all[j + i*res_theta] = AnglestoV(theta, psi)\n",
    "\n",
    "\n",
    "# --------------------------------------------------------------\n",
    "# get the max distance between two misorientations with plane normals being all possible values\n",
    "def get_b_all(dg, norm_all):\n",
    "    b_all = np.zeros((iter_total, 4, 4))\n",
    "    #         for loop can be avoided. Figure out how.\n",
    "    for i in range(iter_total):\n",
    "        n = norm_all[i]\n",
    "        b_all[i] = convertB(dg,n)\n",
    "    return b_all\n",
    "        \n",
    "\n",
    "def max_dis(dg1, dg2):\n",
    "    b1_all = get_b_all(dg1, norm_all)\n",
    "    b2_all = get_b_all(dg2, norm_all)\n",
    "    maxDist = 0.0\n",
    "    for i in range(iter_total):\n",
    "        sys.stdout.write('\\r'+'iteration i: {0} '.format(i))\n",
    "        for j in range(iter_total):\n",
    "            sys.stdout.write('\\r'+'iteration j: {0} '.format(j))\n",
    "            (v4dist,bb) = spv4dist(b1_all[i,:,:], b2_all[j,:,:], moreinfo=False)\n",
    "            if v4dist > maxDist:\n",
    "                maxDist = v4dist\n",
    "    return maxDist\n",
    "\n",
    "\n",
    "maxDist = max_dis(dg_seed1_1, dg_seed1_2)\n",
    "print maxDist\n",
    "# b1_all = get_b_all(dg_seed1_1, norm_all)"
   ]
  },
  {
   "cell_type": "code",
   "execution_count": 14,
   "metadata": {},
   "outputs": [
    {
     "name": "stdout",
     "output_type": "stream",
     "text": [
      "[[ 0.99122334 -0.05558331  0.11994495  0.        ]\n",
      " [ 0.10481825  0.8833346  -0.4568732   0.        ]\n",
      " [-0.080557    0.4654358   0.88140801  1.        ]\n",
      " [ 0.080557   -0.4654358  -0.88140801  0.        ]]\n",
      "[[ 0.99122334 -0.05558331  0.11994495  0.        ]\n",
      " [ 0.10481825  0.8833346  -0.4568732   0.        ]\n",
      " [-0.080557    0.4654358   0.88140801  1.        ]\n",
      " [ 0.080557   -0.4654358  -0.88140801  0.        ]]\n",
      "(4, 4)\n",
      "(3751, 4, 4)\n"
     ]
    }
   ],
   "source": [
    "b1_all = get_b_all(dg_seed1_1, norm_all)\n",
    "b2_all = get_b_all(dg_seed1_2, norm_all)\n",
    "print b1_all[0,:,:]\n",
    "print b1_all[0]\n",
    "print b1_all[0,:,:].shape\n",
    "print b1_all.shape"
   ]
  },
  {
   "cell_type": "markdown",
   "metadata": {},
   "source": [
    "# Validations\n",
    "- Moraweic's GBdist functions, the misorientations doesn't need to be in FZ first"
   ]
  },
  {
   "cell_type": "code",
   "execution_count": null,
   "metadata": {
    "collapsed": true
   },
   "outputs": [],
   "source": [
    "# --------------------------------------------------------------\n",
    "# Test for the two misorientations don't need to be in FZ\n",
    "dg1 = AAtoG(60, [1,1,1])\n",
    "dg2 = AAtoG(60, [1,1,1])\n",
    "print diffMisorientations(dg1, dg2)\n",
    "\n",
    "b1 = convertB(dg1, np.array([1,0,0]))\n",
    "b2 = convertB(dg2, np.array([1,0,0]))\n",
    "(v4dist,bb) = spv4dist(b1,b2,moreinfo=False)\n",
    "print v4dist"
   ]
  }
 ],
 "metadata": {
  "kernelspec": {
   "display_name": "Python 2",
   "language": "python",
   "name": "python2"
  },
  "language_info": {
   "codemirror_mode": {
    "name": "ipython",
    "version": 2
   },
   "file_extension": ".py",
   "mimetype": "text/x-python",
   "name": "python",
   "nbconvert_exporter": "python",
   "pygments_lexer": "ipython2",
   "version": "2.7.13"
  }
 },
 "nbformat": 4,
 "nbformat_minor": 2
}
