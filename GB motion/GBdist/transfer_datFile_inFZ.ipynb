{
 "cells": [
  {
   "cell_type": "markdown",
   "metadata": {},
   "source": [
    "# Notes\n",
    "- Problem in input data\n",
    "    - in many cases 2 out of the 3 grains sharing one Triple Junction would have the same orientation\n",
    "- MgO data, Runtime warning at TJ277, but the problem is the same as others: 2 grains having the same EA. \n",
    "    - Just happened to have a little numerical problem of trace slightly bigger than 1\n"
   ]
  },
  {
   "cell_type": "code",
   "execution_count": 225,
   "metadata": {
    "collapsed": false
   },
   "outputs": [],
   "source": [
    "import numpy as np\n",
    "\n",
    "\n",
    "#####################################\n",
    "# Import data\n",
    "#####################################\n",
    "numTJ=40188\n",
    "datFile = '../calcGBED/AdamM_files-17Jan08/triples.dat'\n",
    "\n",
    "# O, the symmetry operations\n",
    "from scipy import io\n",
    "O_tmp = io.loadmat('cubicSym.mat')\n",
    "O = np.swapaxes(np.swapaxes(O_tmp['O'], 1,2), 0,1)\n",
    "\n",
    "\n",
    "def read_dat(datFile, numTJ):\n",
    "    \"\"\"\n",
    "    Input: triples.dat, wrote from the fortran program Torq_trn\n",
    "                size=[numTJ*16,]\n",
    "                In each group, the data is [TJ directon, EA1, GB1, EA2, GB2, EA3, GB3]\n",
    "    Output: TJs, direction of the triple junctions\n",
    "                size = [numTJ, 3]\n",
    "            EAs, the EA angles of the 3 grains at a TJ\n",
    "                size = [numTJ, 3, 3]\n",
    "            norms, normal direction of the 3 GB at a TJ\n",
    "                size = [numTJ, 3, 3]\n",
    "    \"\"\"\n",
    "    with open(datFile) as f:\n",
    "        tmp = f.readlines()\n",
    "    tmp = [x.strip().split() for x in tmp] \n",
    "    tmp = np.array(tmp)\n",
    "    TJs = np.zeros((numTJ, 3))\n",
    "    EAs = np.zeros((numTJ, 3, 3))\n",
    "    norms = np.zeros((numTJ, 3, 3))\n",
    "    for i in range(numTJ):\n",
    "#-----------------------------------------------------\n",
    "#     Experiment data\n",
    "        TJs[i,:] = np.array(tmp[i*16 + 2]).astype(float)\n",
    "        EAs[i, 0, :] = np.array(tmp[i*16 + 4]).astype(float)\n",
    "        norms[i, 0, :] = np.array(tmp[i*16 + 6]).astype(float)\n",
    "        EAs[i, 1, :] = np.array(tmp[i*16 + 8]).astype(float)\n",
    "        norms[i, 1, :] = np.array(tmp[i*16 + 10]).astype(float)\n",
    "        EAs[i, 2, :] = np.array(tmp[i*16 + 12]).astype(float)\n",
    "        norms[i, 2, :] = np.array(tmp[i*16 + 14]).astype(float)\n",
    "#-----------------------------------------------------\n",
    "#       Simulation data\n",
    "#         TJs[i,:] = np.array(tmp[i*8 + 1]).astype(float)\n",
    "#         EAs[i*3, :] = np.array(tmp[i*8 + 2]).astype(float)\n",
    "#         norms[i*3, :] = np.array(tmp[i*8 + 3]).astype(float)\n",
    "#         EAs[i*3 + 1, :] = np.array(tmp[i*8 + 4]).astype(float)\n",
    "#         norms[i*3 + 1, :] = np.array(tmp[i*8 + 5]).astype(float)\n",
    "#         EAs[i*3 + 2, :] = np.array(tmp[i*8 + 6]).astype(float)\n",
    "#         norms[i*3 + 2, :] = np.array(tmp[i*8 + 7]).astype(float)\n",
    "    return (TJs, EAs, norms)\n",
    "\n",
    "(TJs, EAs, norms) = read_dat(datFile, numTJ)\n",
    "\n",
    "\n",
    "#####################################\n",
    "# Functions\n",
    "#####################################\n",
    "def EAtoG(EA):\n",
    "    \"\"\"\n",
    "    Input: a set of Euler Angle\n",
    "                size=[3,]\n",
    "    Output: the corresponding orientation matrix g\n",
    "                size = [3, 3]\n",
    "    \"\"\"\n",
    "    g = np.zeros((3,3))\n",
    "    EA = np.radians(EA)\n",
    "    \n",
    "    g[0,0]=np.cos(EA[0])*np.cos(EA[2])-np.sin(EA[0])*np.sin(EA[2])*np.cos(EA[1])\n",
    "    g[0,1]=np.sin(EA[0])*np.cos(EA[2])+np.cos(EA[0])*np.sin(EA[2])*np.cos(EA[1])\n",
    "    g[0,2]=np.sin(EA[2])*np.sin(EA[1])\n",
    "    g[1,0]=-np.cos(EA[0])*np.sin(EA[2])-np.sin(EA[0])*np.cos(EA[2])*np.cos(EA[1])\n",
    "    g[1,1]=-np.sin(EA[0])*np.sin(EA[2])+np.cos(EA[0])*np.cos(EA[2])*np.cos(EA[1])\n",
    "    g[1,2]=np.cos(EA[2])*np.sin(EA[1])\n",
    "    g[2,0]=np.sin(EA[0])*np.sin(EA[1])\n",
    "    g[2,1]=-np.cos(EA[0])*np.sin(EA[1])\n",
    "    g[2,2]=np.cos(EA[1])\n",
    "    return g\n",
    "\n",
    "\n",
    "def dgInFZ(g1, g2, i):\n",
    "    \"\"\"\n",
    "    Input: g1, g2, orientation matrixes\n",
    "                size = [3, 3]\n",
    "           i, i+1 = the ID for current triple junction, pass in for error check\n",
    "    Output: RFvex, the variant of the misorientation, as Rodrigues vector, that lies in the Fundamental Zone\n",
    "                size = [3,]\n",
    "            g_FZ, the variant of the misorientation, as orientation matrix, that lies in the Fundamental Zone\n",
    "                size = [3, 3]\n",
    "    \"\"\"\n",
    "    for j in range(24):\n",
    "        for k in range(24):\n",
    "            gg1 = np.dot(O[j,:,:], g1)\n",
    "            gg2 = np.dot(O[k,:,:], g2)\n",
    "            \n",
    "            dg = np.dot(gg1, gg2.T)\n",
    "            misA = np.arccos(0.5*(np.trace(dg)-1))\n",
    "# # misA error check-----------------------------------------------------------------\n",
    "#             if ((0.5*(np.trace(dg)-1) <= 1) & (0.5*(np.trace(dg)-1) >= -1)):\n",
    "#                 misA = np.arccos(0.5*(np.trace(dg)-1))\n",
    "#             else:\n",
    "#                 print 0.5*(np.trace(dg)-1\n",
    "#                 print 'misA problem at i =', i\n",
    "#                 return \n",
    "# # misA error check-----------------------------------------------------------------\n",
    "            \n",
    "            RFvec = [dg[1,2]-dg[2,1], dg[2,0]-dg[0,2], dg[0,1]-dg[1,0]] /(2*np.sin(misA)) * np.tan(misA/2)\n",
    "            inFZ = ((all(RFvec >= 0)) & (RFvec[0] <= (np.sqrt(2) - 1)) & \\\n",
    "                    (RFvec[0] >= RFvec[1]) & (RFvec[1] >= RFvec[2]) & (sum(RFvec) <= 1))\n",
    "            if (inFZ == True):\n",
    "                return (RFvec, dg)\n",
    "                \n",
    "            dg = np.dot(gg2, gg1.T)\n",
    "            misA = np.arccos(0.5*(np.trace(dg)-1))\n",
    "# # misA error check-----------------------------------------------------------------\n",
    "#             if ((0.5*(np.trace(dg)-1) <= 1) & (0.5*(np.trace(dg)-1) >= -1)):\n",
    "#                 misA = np.arccos(0.5*(np.trace(dg)-1))\n",
    "#             else:\n",
    "#                 print 0.5*(np.trace(dg)-1\n",
    "#                 print 'misA problem at i =', i\n",
    "#                 return\n",
    "# # misA error check-----------------------------------------------------------------                \n",
    "            \n",
    "            RFvec = [dg[1,2]-dg[2,1], dg[2,0]-dg[0,2], dg[0,1]-dg[1,0]] /(2*np.sin(misA)) * np.tan(misA/2)\n",
    "            inFZ = ((all(RFvec >= 0)) & (RFvec[0] <= (np.sqrt(2) - 1)) & \\\n",
    "                    (RFvec[0] >= RFvec[1]) & (RFvec[1] >= RFvec[2]) & (sum(RFvec) <= 1))\n",
    "            if (inFZ == True):\n",
    "                return (RFvec, dg)\n",
    "            \n",
    "    print 'error: no copy in FZ. TJ_id =', i+1 \n",
    "    return ([0, 0, 0], np.zeros((3,3)))\n",
    "\n",
    "\n",
    "def convertInFZ(EAs, numTJ):\n",
    "    \"\"\"\n",
    "    Input: EAs, the Euler Angles of the 3 grains at a TJ\n",
    "                size = [numTJ, 3, 3]\n",
    "                In each group, the data is [TJ directon, EA1, GB1, EA2, GB2, EA3, GB3]\n",
    "    Output: RFvecs, the equivalent misorientation in Fundamental Zone as rodrigues vector for the 3 GBs at a TJ\n",
    "                size = [numTJ, 3, 3]\n",
    "            gs_FZ,  the equivalent misorientation in Fundamental Zone as orientation matrix for the 3 GBs at a TJ\n",
    "                size = [numTJ, 3, 3, 3]\n",
    "    Parameters: gs, the misorientation from EA, not \n",
    "    \"\"\"\n",
    "    RFvecs = np.zeros((numTJ, 3, 3))\n",
    "    dgs_FZ = np.zeros((numTJ, 3, 3, 3))\n",
    "    for i in range(numTJ):\n",
    "        g1 = EAtoG(EAs[i, 0, :])\n",
    "        g2 = EAtoG(EAs[i, 1, :])\n",
    "        g3 = EAtoG(EAs[i, 2, :])\n",
    "        (RFvec1, dg1_FZ) = dgInFZ(g1, g2, i)\n",
    "        (RFvec2, dg2_FZ) = dgInFZ(g2, g3, i)\n",
    "        (RFvec3, dg3_FZ) = dgInFZ(g3, g1, i)\n",
    "        RFvecs[i, 0, :] = RFvec1\n",
    "        RFvecs[i, 1, :] = RFvec2\n",
    "        RFvecs[i, 2, :] = RFvec3\n",
    "        dgs_FZ[i, 0, :, :] = dg1_FZ\n",
    "        dgs_FZ[i, 1, :, :] = dg2_FZ\n",
    "        dgs_FZ[i, 2, :, :] = dg3_FZ\n",
    "    return (RFvecs, dgs_FZ)\n",
    "    \n",
    "    \n",
    "\n",
    "# (RFvecs, dgs_FZ) = convertInFZ(EAs, numTJ)\n",
    "\n",
    "\n",
    "def diffMisorientations(dg1, dg2):\n",
    "    \"\"\"\n",
    "    Input: dg1 & dg2, the misorientation of the first grain boundary \n",
    "                size = [3, 3]\n",
    "    Output: ddg, the misorientation between the two misorientations\n",
    "                size = [3, 3]\n",
    "    Parameters: disA, the minimum misorientation anlge\n",
    "                \n",
    "    !!NOTICE!! dg1 and dg2 needs to be in the Fundamental Zone.\n",
    "    \"\"\"\n",
    "    disA = 1000\n",
    "    for i in range(24):\n",
    "        ddg = np.dot(np.dot(O[i,:,:], dg1), dg2.T)\n",
    "        misA = np.arccos(0.5*(np.trace(ddg)-1))\n",
    "        misA = np.degrees(misA)\n",
    "        if misA < disA:\n",
    "            disA = misA\n",
    "        ddg = np.dot(np.dot(O[i,:,:], dg2), dg1.T)\n",
    "        misA = np.arccos(0.5*(np.trace(ddg)-1))\n",
    "        misA = np.degrees(misA)\n",
    "        if misA < disA:\n",
    "            disA = misA\n",
    "    return disA\n",
    "    \n",
    "\n",
    "\n"
   ]
  },
  {
   "cell_type": "markdown",
   "metadata": {},
   "source": [
    "# Validation"
   ]
  },
  {
   "cell_type": "code",
   "execution_count": 216,
   "metadata": {
    "collapsed": true
   },
   "outputs": [],
   "source": [
    "def AAtoG(phi, n):\n",
    "    \"\"\"\n",
    "    Input: (phi, n), the orientation as axis-angle pair \n",
    "                phis is scalar, in degrees\n",
    "                n.size = [3,]\n",
    "    Output: dg, the orientation as matrix\n",
    "                \n",
    "    !!NOTICE!! phi is in degrees\n",
    "    \"\"\"\n",
    "    phi = np.radians(phi)\n",
    "    n = n/np.sqrt(n[0]**2 + n[1]**2 + n[2]**2)\n",
    "    dg = np.zeros((3,3))\n",
    "    dg[0,0] = np.cos(phi)+(1.0-np.cos(phi))*(n[0]**2)\n",
    "    dg[0,1] = n[0]*n[1]*(1.0-np.cos(phi))-n[2]*np.sin(phi)\n",
    "    dg[0,2] = n[0]*n[2]*(1.0-np.cos(phi))+n[1]*np.sin(phi)\n",
    "    dg[1,0] = n[0]*n[1]*(1.0-np.cos(phi))+n[2]*np.sin(phi)\n",
    "    dg[1,1] = np.cos(phi)+(1.0-np.cos(phi))*(n[1]**2)\n",
    "    dg[1,2] = n[2]*n[1]*(1.0-np.cos(phi))-n[0]*np.sin(phi)\n",
    "    dg[2,0] = n[0]*n[2]*(1.0-np.cos(phi))-n[1]*np.sin(phi)\n",
    "    dg[2,1] = n[1]*n[2]*(1.0-np.cos(phi))+n[0]*np.sin(phi)\n",
    "    dg[2,2] = np.cos(phi)+(1.0-np.cos(phi))*(n[2]**2)\n",
    "    return dg"
   ]
  },
  {
   "cell_type": "markdown",
   "metadata": {},
   "source": [
    "# MgO data, check the 277 TJ which raise Runtime warning"
   ]
  },
  {
   "cell_type": "code",
   "execution_count": 215,
   "metadata": {
    "collapsed": false
   },
   "outputs": [],
   "source": [
    "def dgInFZ(g1, g2, i):\n",
    "    \"\"\"\n",
    "    Input: g1, g2, orientation matrixes\n",
    "                size = [3, 3]\n",
    "    Output: RFvex, the variant of the misorientation, as Rodrigues vector, that lies in the Fundamental Zone\n",
    "                size = [3,]\n",
    "            g_FZ, the variant of the misorientation, as orientation matrix, that lies in the Fundamental Zone\n",
    "                size = [3, 3]\n",
    "    \"\"\"\n",
    "    for j in range(24):\n",
    "        for k in range(24):\n",
    "            gg1 = np.dot(O[j,:,:], g1)\n",
    "            gg2 = np.dot(O[k,:,:], g2)\n",
    "            \n",
    "            dg = np.dot(gg1, gg2.T)\n",
    "#             misA = np.arccos(0.5*(np.trace(dg)-1))\n",
    "# misA error check-----------------------------------------------------------------\n",
    "            if ((0.5*(np.trace(dg)-1) <= 1.0) & (0.5*(np.trace(dg)-1) >= -1.0)):\n",
    "                misA = np.arccos(0.5*(np.trace(dg)-1))\n",
    "            else:\n",
    "                print dg\n",
    "                print 'misA problem at i =', i, 'acos=', np.arccos(0.5*(np.trace(dg)-1)), 'acos(-1) =', np.arccos(-1.0)\n",
    "                return dg\n",
    "# misA error check-----------------------------------------------------------------\n",
    "            \n",
    "            RFvec = [dg[1,2]-dg[2,1], dg[2,0]-dg[0,2], dg[0,1]-dg[1,0]] /(2*np.sin(misA)) * np.tan(misA/2)\n",
    "            inFZ = ((all(RFvec >= 0)) & (RFvec[0] <= (np.sqrt(2) - 1)) & \\\n",
    "                    (RFvec[0] >= RFvec[1]) & (RFvec[1] >= RFvec[2]) & (sum(RFvec) <= 1))\n",
    "            if (inFZ == True):\n",
    "                return (RFvec, dg)\n",
    "                \n",
    "            dg = np.dot(gg2, gg1.T)\n",
    "#             misA = np.arccos(0.5*(np.trace(dg)-1))\n",
    "# misA error check-----------------------------------------------------------------\n",
    "            if ((0.5*(np.trace(dg)-1) <= 1.0) & (0.5*(np.trace(dg)-1) >= -1.0)):\n",
    "                misA = np.arccos(0.5*(np.trace(dg)-1))\n",
    "            else:\n",
    "                print 'trace =', np.trace(dg)\n",
    "                print 'misA problem at i =', i, 'acos=', np.arccos(0.5*(np.trace(dg)-1)), 'acos(-1) =', np.arccos(-1.0)\n",
    "                return ('point 2')\n",
    "# misA error check-----------------------------------------------------------------                \n",
    "            \n",
    "            RFvec = [dg[1,2]-dg[2,1], dg[2,0]-dg[0,2], dg[0,1]-dg[1,0]] /(2*np.sin(misA)) * np.tan(misA/2)\n",
    "            inFZ = ((all(RFvec >= 0)) & (RFvec[0] <= (np.sqrt(2) - 1)) & \\\n",
    "                    (RFvec[0] >= RFvec[1]) & (RFvec[1] >= RFvec[2]) & (sum(RFvec) <= 1))\n",
    "            if (inFZ == True):\n",
    "                return (RFvec, dg)\n",
    "            \n",
    "    print 'error: no copy in FZ. TJ_id =', i+1 \n",
    "    return ([0, 0, 0], np.zeros((3,3)))\n",
    "\n",
    "                           \n",
    "g1 = EAtoG(EAs[277, 0, :])\n",
    "g2 = EAtoG(EAs[277, 1, :])\n",
    "g3 = EAtoG(EAs[277, 2, :])\n",
    "print 'TJ277 EAs = ', EAs[277, 0, :], EAs[277, 1, :], EAs[277, 2, :]\n",
    "tmp_dg = dgInFZ(g2, g3, 277)\n",
    "print trace(tmp_dg)"
   ]
  },
  {
   "cell_type": "code",
   "execution_count": null,
   "metadata": {
    "collapsed": false
   },
   "outputs": [],
   "source": []
  },
  {
   "cell_type": "markdown",
   "metadata": {},
   "source": [
    "# Verifications"
   ]
  },
  {
   "cell_type": "code",
   "execution_count": null,
   "metadata": {
    "collapsed": false
   },
   "outputs": [],
   "source": [
    "# Verify calculation of conversion of euler angles to orientation matrix \n",
    "g = EAtoG(EAs[0, 0, :])\n",
    "print 'EA ='\n",
    "print EAs[0, 0, :]\n",
    "print 'g ='\n",
    "print g\n",
    "# Verify convertion into Fundamental Zone\n",
    "(RFvec, g_FZ)= GintoFZ(g)\n",
    "print 'RFvec =' \n",
    "print RFvec\n",
    "print 'g_FZ =' \n",
    "print g_FZ"
   ]
  },
  {
   "cell_type": "code",
   "execution_count": 156,
   "metadata": {
    "collapsed": false
   },
   "outputs": [
    {
     "data": {
      "text/plain": [
       "1.4142135623730951"
      ]
     },
     "execution_count": 156,
     "metadata": {},
     "output_type": "execute_result"
    }
   ],
   "source": [
    "np.sqrt(2)"
   ]
  },
  {
   "cell_type": "code",
   "execution_count": 100,
   "metadata": {
    "collapsed": false
   },
   "outputs": [
    {
     "data": {
      "text/plain": [
       "array([[ 0.1633416 , -0.91451867,  0.37010151],\n",
       "       [ 0.84326488,  0.32413492,  0.42876672],\n",
       "       [-0.51207799,  0.24205816,  0.82412619]])"
      ]
     },
     "execution_count": 100,
     "metadata": {},
     "output_type": "execute_result"
    }
   ],
   "source": [
    "g"
   ]
  },
  {
   "cell_type": "code",
   "execution_count": 175,
   "metadata": {
    "collapsed": false
   },
   "outputs": [
    {
     "name": "stderr",
     "output_type": "stream",
     "text": [
      "/Users/xiaotingzhong/anaconda2/lib/python2.7/site-packages/ipykernel/__main__.py:6: RuntimeWarning: invalid value encountered in arccos\n"
     ]
    },
    {
     "data": {
      "text/plain": [
       "nan"
      ]
     },
     "execution_count": 175,
     "metadata": {},
     "output_type": "execute_result"
    }
   ],
   "source": [
    "import sys\n",
    "\n",
    "def acos(x):\n",
    "    try:\n",
    "        x > 1 & x < -1\n",
    "    except ValueError:\n",
    "        print 'x value error'\n",
    "    except RuntimeError:\n",
    "        print 'run time error'\n",
    "    except RuntimeWarning:\n",
    "        print 'run time warning'   \n",
    "        \n",
    "    y = np.degrees(np.arccos(x))\n",
    "    return y\n",
    "  \n",
    "acos(-1.1)"
   ]
  },
  {
   "cell_type": "code",
   "execution_count": null,
   "metadata": {
    "collapsed": false
   },
   "outputs": [],
   "source": [
    "while True:\n",
    "    try:\n",
    "         x = int(input(\"Please enter a number: \"))\n",
    "         break\n",
    "    except ValueError:\n",
    "         print(\"Oops!  That was no valid number.  Try again...\")\n",
    "    except NameError:\n",
    "         print(\"Name not define...\")"
   ]
  },
  {
   "cell_type": "code",
   "execution_count": null,
   "metadata": {
    "collapsed": true
   },
   "outputs": [],
   "source": []
  }
 ],
 "metadata": {
  "kernelspec": {
   "display_name": "Python 2",
   "language": "python",
   "name": "python2"
  },
  "language_info": {
   "codemirror_mode": {
    "name": "ipython",
    "version": 2
   },
   "file_extension": ".py",
   "mimetype": "text/x-python",
   "name": "python",
   "nbconvert_exporter": "python",
   "pygments_lexer": "ipython2",
   "version": "2.7.13"
  }
 },
 "nbformat": 4,
 "nbformat_minor": 2
}
