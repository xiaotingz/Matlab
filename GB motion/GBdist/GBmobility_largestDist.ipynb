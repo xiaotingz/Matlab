{
 "cells": [
  {
   "cell_type": "code",
   "execution_count": 23,
   "metadata": {
    "collapsed": false
   },
   "outputs": [],
   "source": [
    "import numpy as np\n",
    "import RotRep\n",
    "from GBdist import spv4dist, convertB\n",
    "from functions import AAtoG, diffMisorientations\n",
    "\n",
    "# --------------------------------------------------------------\n",
    "# writing the symmetry operators for the 4*4 matrix\n",
    "O=RotRep.GetSymRotMat(symtype='Cubic')\n",
    "\n",
    "bsym=np.zeros((24,4,4))\n",
    "for i in range(24):\n",
    "    bsym[i][:3,:3]=O[i]\n",
    "    bsym[i][3,3]=1\n",
    "    \n",
    "# --------------------------------------------------------------\n",
    "# the GBs of interest\n",
    "seed1_angle = 22.9\n",
    "seed1_axis = [-4,16,-5]\n",
    "seed1 = AAtoG(seed1_angle, seed1_axis)\n",
    "seed2_angle = 38.3\n",
    "seed2_axis = [-7,6,1]\n",
    "seed2 = AAtoG(seed2_angle, seed2_axis)\n",
    "seed3_angle = 51.6\n",
    "seed3_axis = [-2,6,9]\n",
    "seed3 = AAtoG(seed3_angle, seed3_axis)\n",
    "\n",
    "\n",
    "# --------------------------------------------------------------\n",
    "# generate a list of all possible normal directions\n",
    "resolution = 31*121\n",
    "norm_all = np.zeros((resolution, 2))\n",
    "for i in range(31):\n",
    "    for j in range(121):\n",
    "        norm_all[j + i*121] =[3.0*j, 3.0*i]\n",
    "\n",
    "\n",
    "\n",
    "# --------------------------------------------------------------\n",
    "# get the max distance between two misorientations with plane normals being all possible values\n",
    "def get_b_all(dg, norm_all):\n",
    "    b_all = np.zeros((resolution, 4, 4))\n",
    "    #         how to get n as [x,y,z]\n",
    "    #         for loop can be avoided. Figure out how.\n",
    "    for i in range(len(all)):\n",
    "        n = \n",
    "        b_all[i] = convertB(dg,n)\n",
    "    return b_all\n",
    "        \n",
    "\n",
    "def max_dis(b1, b2):\n",
    "    b1_all = (dg1, norm_all)\n",
    "    b2_all = (dg2, norm_all)\n",
    "    maxDist = 0.0\n",
    "    for i in range resolution:\n",
    "        for j in range resolution:\n",
    "            dist = spv4dist(b1_all[i], b2_all[j], moreinfo=False)\n",
    "            if dist > max_dis:\n",
    "                max_dis = dist\n",
    "    return max_dis"
   ]
  },
  {
   "cell_type": "code",
   "execution_count": 25,
   "metadata": {
    "collapsed": false
   },
   "outputs": [
    {
     "data": {
      "text/plain": [
       "array([[   0.,    0.],\n",
       "       [   3.,    0.],\n",
       "       [   6.,    0.],\n",
       "       ..., \n",
       "       [ 354.,   90.],\n",
       "       [ 357.,   90.],\n",
       "       [ 360.,   90.]])"
      ]
     },
     "execution_count": 25,
     "metadata": {},
     "output_type": "execute_result"
    }
   ],
   "source": []
  },
  {
   "cell_type": "markdown",
   "metadata": {},
   "source": [
    "# Validations\n",
    "- Moraweic's GBdist functions, the misorientations doesn't need to be in FZ first"
   ]
  },
  {
   "cell_type": "code",
   "execution_count": null,
   "metadata": {
    "collapsed": true
   },
   "outputs": [],
   "source": [
    "# --------------------------------------------------------------\n",
    "# Test for the two misorientations don't need to be in FZ\n",
    "dg1 = AAtoG(60, [1,1,1])\n",
    "dg2 = AAtoG(60, [1,1,1])\n",
    "print diffMisorientations(dg1, dg2)\n",
    "\n",
    "b1 = convertB(dg1, np.array([1,0,0]))\n",
    "b2 = convertB(dg2, np.array([1,0,0]))\n",
    "(v4dist,bb) = spv4dist(b1,b2,moreinfo=False)\n",
    "print v4dist"
   ]
  }
 ],
 "metadata": {
  "kernelspec": {
   "display_name": "Python 2",
   "language": "python",
   "name": "python2"
  },
  "language_info": {
   "codemirror_mode": {
    "name": "ipython",
    "version": 2
   },
   "file_extension": ".py",
   "mimetype": "text/x-python",
   "name": "python",
   "nbconvert_exporter": "python",
   "pygments_lexer": "ipython2",
   "version": "2.7.13"
  }
 },
 "nbformat": 4,
 "nbformat_minor": 2
}
