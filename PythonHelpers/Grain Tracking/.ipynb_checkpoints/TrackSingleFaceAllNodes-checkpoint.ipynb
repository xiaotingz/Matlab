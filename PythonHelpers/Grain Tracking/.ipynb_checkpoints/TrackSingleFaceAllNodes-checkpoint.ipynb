{
 "cells": [
  {
   "cell_type": "code",
   "execution_count": 12,
   "metadata": {},
   "outputs": [
    {
     "name": "stdout",
     "output_type": "stream",
     "text": [
      "`gtol` termination condition is satisfied.\n",
      "Number of iterations: 11, function evaluations: 234, CG iterations: 20, optimality: 2.83e-05, constraint violation: 3.58e-13, execution time: 0.088 s.\n"
     ]
    }
   ],
   "source": [
    "import numpy as np\n",
    "import scipy.io as sio\n",
    "from numpy.linalg import norm\n",
    "from scipy.optimize import minimize\n",
    "from scipy.optimize import Bounds\n",
    "from scipy.optimize import LinearConstraint\n",
    "from scipy.optimize import BFGS\n",
    "\n",
    "# NID_An4 = sio.loadmat('180508_coordsFace1.mat')['thisFaceNodes_An4']\n",
    "# NC_An4 = sio.loadmat('180508_coordsFace1.mat')['triNodeCoords_An4'][:50]\n",
    "# NID_An5 = sio.loadmat('180508_coordsFace1.mat')['thisFaceNodes_An5']\n",
    "# NC_An5 = sio.loadmat('180508_coordsFace1.mat')['triNodeCoords_An5'][:50]\n",
    "\n",
    "NC_An4 = np.array([[0,0,0], [0,1,0], [1,0,0], [1,1,0], [2,2,0]]);\n",
    "NC_An5 = np.array([[0,0,1], [0,1,1], [1,0,1], [1,1,1],[2,2,1]]);\n",
    "\n",
    "m = NC_An4.shape[0];\n",
    "n = NC_An5.shape[0];\n",
    "\n",
    "x = np.repeat(NC_An4.reshape(m,1,3), n, axis=1);\n",
    "y = np.repeat(NC_An5.reshape(n,1,3).swapaxes(0,1), m, axis=0);\n",
    "if np.sum(x[:,0,:] == NC_An4) != m*3:\n",
    "    print 'x shape wrong!'\n",
    "elif np.sum(y[0,:,:] == NC_An5) != n*3:\n",
    "    print 'y shape wrong!'\n",
    "coeff = norm(x-y, axis=2)\n",
    "coeff = np.reshape(coeff, m*n, )\n",
    "\n",
    "bounds = Bounds(np.zeros((m*n, )), np.ones((m*n, ))*np.inf)\n",
    "\n",
    "constraints = np.zeros((m*n, m+n))\n",
    "for i in range(m):\n",
    "    constraints[i*n : i*n+n, i] = 1\n",
    "for i in range(n):\n",
    "    constraints[np.arange(i, m*n, n), m+i] = 1\n",
    "# print constrains[:, m+n-1].reshape(m,n)\n",
    "lims = np.hstack((np.ones((m,)), np.ones((n,))*m/n))\n",
    "\n",
    "linear_constraint = LinearConstraint(constraints.T, lims, lims)\n",
    "\n",
    "weights_init = (np.ones((m,n))*1/n).reshape(m*n,)\n",
    "\n",
    "obj = lambda weights: weights.T.dot(coeff)\n",
    "\n",
    "res = minimize(obj, weights_init, constraints=[linear_constraint], bounds=bounds, \n",
    "               method='trust-constr', jac=\"2-point\", hess=BFGS(), options={'gtol': 1e-4, 'disp': True}) "
   ]
  },
  {
   "cell_type": "code",
   "execution_count": null,
   "metadata": {
    "collapsed": true
   },
   "outputs": [],
   "source": [
    "weigths_init = np.ones((m,n))*1/n\n",
    "print np.sum(weigths_init, axis=1).shape\n",
    "\n",
    "print lims[0:459]"
   ]
  },
  {
   "cell_type": "code",
   "execution_count": 13,
   "metadata": {},
   "outputs": [
    {
     "data": {
      "text/plain": [
       "array([0.97316898, 0.0090253 , 0.01129102, 0.00490642, 0.00160827,\n",
       "       0.00801504, 0.97305831, 0.00557539, 0.01006118, 0.00329009,\n",
       "       0.01060447, 0.0067056 , 0.96992422, 0.00946881, 0.0032969 ,\n",
       "       0.0062515 , 0.00899383, 0.01098311, 0.96985998, 0.00391157,\n",
       "       0.00196001, 0.00221696, 0.00222626, 0.00570361, 0.98789316])"
      ]
     },
     "execution_count": 13,
     "metadata": {},
     "output_type": "execute_result"
    }
   ],
   "source": [
    "res.x"
   ]
  },
  {
   "cell_type": "code",
   "execution_count": 11,
   "metadata": {},
   "outputs": [
    {
     "name": "stdout",
     "output_type": "stream",
     "text": [
      "[[[ 0  1  2]\n",
      "  [ 3  4  5]\n",
      "  [ 6  7  8]\n",
      "  [ 9 10 11]\n",
      "  [12 13 14]]\n",
      "\n",
      " [[15 16 17]\n",
      "  [18 19 20]\n",
      "  [21 22 23]\n",
      "  [24 25 26]\n",
      "  [27 28 29]]\n",
      "\n",
      " [[30 31 32]\n",
      "  [33 34 35]\n",
      "  [36 37 38]\n",
      "  [39 40 41]\n",
      "  [42 43 44]]\n",
      "\n",
      " [[45 46 47]\n",
      "  [48 49 50]\n",
      "  [51 52 53]\n",
      "  [54 55 56]\n",
      "  [57 58 59]]\n",
      "\n",
      " [[60 61 62]\n",
      "  [63 64 65]\n",
      "  [66 67 68]\n",
      "  [69 70 71]\n",
      "  [72 73 74]]]\n"
     ]
    },
    {
     "ename": "ValueError",
     "evalue": "operands could not be broadcast together with shapes (5,5,3) (5,5) ",
     "output_type": "error",
     "traceback": [
      "\u001b[0;31m---------------------------------------------------------------------------\u001b[0m",
      "\u001b[0;31mValueError\u001b[0m                                Traceback (most recent call last)",
      "\u001b[0;32m<ipython-input-11-2ac3ac606d80>\u001b[0m in \u001b[0;36m<module>\u001b[0;34m()\u001b[0m\n\u001b[1;32m      1\u001b[0m \u001b[0;32mprint\u001b[0m \u001b[0mnp\u001b[0m\u001b[0;34m.\u001b[0m\u001b[0marange\u001b[0m\u001b[0;34m(\u001b[0m\u001b[0;36m75\u001b[0m\u001b[0;34m)\u001b[0m\u001b[0;34m.\u001b[0m\u001b[0mreshape\u001b[0m\u001b[0;34m(\u001b[0m\u001b[0;34m(\u001b[0m\u001b[0;36m5\u001b[0m\u001b[0;34m,\u001b[0m\u001b[0;36m5\u001b[0m\u001b[0;34m,\u001b[0m\u001b[0;36m3\u001b[0m\u001b[0;34m)\u001b[0m\u001b[0;34m)\u001b[0m\u001b[0;34m\u001b[0m\u001b[0m\n\u001b[1;32m      2\u001b[0m \u001b[0;34m\u001b[0m\u001b[0m\n\u001b[0;32m----> 3\u001b[0;31m \u001b[0;32mprint\u001b[0m \u001b[0mnp\u001b[0m\u001b[0;34m.\u001b[0m\u001b[0mmultiply\u001b[0m\u001b[0;34m(\u001b[0m\u001b[0mnp\u001b[0m\u001b[0;34m.\u001b[0m\u001b[0marange\u001b[0m\u001b[0;34m(\u001b[0m\u001b[0;36m75\u001b[0m\u001b[0;34m)\u001b[0m\u001b[0;34m.\u001b[0m\u001b[0mreshape\u001b[0m\u001b[0;34m(\u001b[0m\u001b[0;34m(\u001b[0m\u001b[0;36m5\u001b[0m\u001b[0;34m,\u001b[0m\u001b[0;36m5\u001b[0m\u001b[0;34m,\u001b[0m\u001b[0;36m3\u001b[0m\u001b[0;34m)\u001b[0m\u001b[0;34m)\u001b[0m\u001b[0;34m,\u001b[0m \u001b[0mnp\u001b[0m\u001b[0;34m.\u001b[0m\u001b[0marange\u001b[0m\u001b[0;34m(\u001b[0m\u001b[0;36m25\u001b[0m\u001b[0;34m)\u001b[0m\u001b[0;34m.\u001b[0m\u001b[0mreshape\u001b[0m\u001b[0;34m(\u001b[0m\u001b[0;34m(\u001b[0m\u001b[0;36m5\u001b[0m\u001b[0;34m,\u001b[0m\u001b[0;36m5\u001b[0m\u001b[0;34m)\u001b[0m\u001b[0;34m)\u001b[0m\u001b[0;34m)\u001b[0m\u001b[0;34m\u001b[0m\u001b[0m\n\u001b[0m",
      "\u001b[0;31mValueError\u001b[0m: operands could not be broadcast together with shapes (5,5,3) (5,5) "
     ]
    }
   ],
   "source": [
    "print np.arange(75).reshape((5,5,3))\n",
    "\n",
    "print np.multiply(np.arange(75).reshape((5,5,3)), np.arange(25).reshape((5,5)))"
   ]
  },
  {
   "cell_type": "code",
   "execution_count": 110,
   "metadata": {},
   "outputs": [
    {
     "data": {
      "text/plain": [
       "(456, 558)"
      ]
     },
     "execution_count": 110,
     "metadata": {},
     "output_type": "execute_result"
    }
   ],
   "source": [
    "m,n"
   ]
  },
  {
   "cell_type": "code",
   "execution_count": null,
   "metadata": {
    "collapsed": true
   },
   "outputs": [],
   "source": [
    "\n",
    "# coeff = (x - y).reshape(m*n*3,)\n",
    "# obj = lambda weights: np.multiply(np.tile(weights, (1,3)),coeff).squeeze().T.dot(np.multiply(np.tile(weights, (1,3)),coeff).squeeze())"
   ]
  }
 ],
 "metadata": {
  "kernelspec": {
   "display_name": "Python 2",
   "language": "python",
   "name": "python2"
  },
  "language_info": {
   "codemirror_mode": {
    "name": "ipython",
    "version": 2
   },
   "file_extension": ".py",
   "mimetype": "text/x-python",
   "name": "python",
   "nbconvert_exporter": "python",
   "pygments_lexer": "ipython2",
   "version": "2.7.13"
  }
 },
 "nbformat": 4,
 "nbformat_minor": 2
}
