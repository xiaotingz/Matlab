{
 "cells": [
  {
   "cell_type": "markdown",
   "metadata": {},
   "source": [
    "# Sid's xA^TA\n",
    "To run this script, write a .mat file from matlab which contain all the node coordinates of the two faces "
   ]
  },
  {
   "cell_type": "code",
   "execution_count": 28,
   "metadata": {},
   "outputs": [
    {
     "name": "stdout",
     "output_type": "stream",
     "text": [
      "`gtol` termination condition is satisfied.\n",
      "Number of iterations: 10, function evaluations: 9, CG iterations: 31, optimality: 3.03e-04, constraint violation: 2.44e-15, execution time: 0.058 s.\n"
     ]
    }
   ],
   "source": [
    "\n",
    "\n",
    "\n",
    "import numpy as np\n",
    "import scipy.io as sio\n",
    "from numpy.linalg import norm\n",
    "from scipy.optimize import minimize\n",
    "from scipy.optimize import Bounds\n",
    "from scipy.optimize import LinearConstraint\n",
    "from scipy.optimize import BFGS\n",
    "\n",
    "# # NID_An4 = sio.loadmat('180508_coordsFace1.mat')['thisFaceNodes_An4']\n",
    "# NC_An4 = sio.loadmat('face100.mat')['face_node_coord_an4']\n",
    "# # NID_An5 = sio.loadmat('180508_coordsFace1.mat')['thisFaceNodes_An5']\n",
    "# NC_An5 = sio.loadmat('face100.mat')['face_node_coord_an5']\n",
    "\n",
    "NC_An4 = np.array([[0,0,0], [0,1,0], [1,0,0], [1,1,0], [2,2,0]]);\n",
    "NC_An5 = np.array([[0,0,1], [0,1,1], [1,0,1], [1,1,1],[2,2,1]]);\n",
    "\n",
    "m = NC_An4.shape[0];\n",
    "n = NC_An5.shape[0];\n",
    "\n",
    "x = np.repeat(NC_An4.reshape(m,1,3), n, axis=1);\n",
    "y = np.repeat(NC_An5.reshape(n,1,3).swapaxes(0,1), m, axis=0);\n",
    "if np.sum(x[:,0,:] == NC_An4) != m*3:\n",
    "    print 'x shape wrong!'\n",
    "elif np.sum(y[0,:,:] == NC_An5) != n*3:\n",
    "    print 'y shape wrong!'\n",
    "# coeff = norm(x-y, axis=2)\n",
    "coeff = norm(x-y, axis=2)**2\n",
    "coeff = np.reshape(coeff, m*n, )\n",
    "\n",
    "bounds = Bounds(np.zeros((m*n, )), np.ones((m*n, ))*np.inf)\n",
    "\n",
    "constraints = np.zeros((m*n, m+n))\n",
    "for i in range(m):\n",
    "    constraints[i*n : i*n+n, i] = 1\n",
    "for i in range(n):\n",
    "    constraints[np.arange(i, m*n, n), m+i] = 1\n",
    "# print constrains[:, m+n-1].reshape(m,n)\n",
    "lims = np.hstack((np.ones((m,)), np.ones((n,))*m/n))\n",
    "\n",
    "linear_constraint = LinearConstraint(constraints.T, lims, lims)\n",
    "\n",
    "weights_init = (np.ones((m,n))*1/n).reshape(m*n,)\n",
    "\n",
    "obj = lambda weights: weights.T.dot(coeff)\n",
    "\n",
    "# res = minimize(obj, weights_init, constraints=[linear_constraint], bounds=bounds, \n",
    "#                method='trust-constr', jac=\"2-point\", hess=BFGS(), options={'gtol': 1e-4, 'disp': True})\n",
    "\n",
    "def makeJac(x):\n",
    "    return coeff\n",
    "def makeHess(x):\n",
    "    return np.zeros((coeff.shape[0], coeff.shape[0]))\n",
    "\n",
    "res = minimize(obj, weights_init, constraints=[linear_constraint], bounds=bounds, \n",
    "               method='trust-constr', jac=makeJac, hess=makeHess, options={'gtol': 1e-3, 'disp': True})\n",
    "\n"
   ]
  },
  {
   "cell_type": "code",
   "execution_count": 30,
   "metadata": {},
   "outputs": [
    {
     "data": {
      "text/plain": [
       "array([[1., 0., 0., 0., 0., 1., 0., 0., 0., 0.],\n",
       "       [1., 0., 0., 0., 0., 0., 1., 0., 0., 0.],\n",
       "       [1., 0., 0., 0., 0., 0., 0., 1., 0., 0.],\n",
       "       [1., 0., 0., 0., 0., 0., 0., 0., 1., 0.],\n",
       "       [1., 0., 0., 0., 0., 0., 0., 0., 0., 1.],\n",
       "       [0., 1., 0., 0., 0., 1., 0., 0., 0., 0.],\n",
       "       [0., 1., 0., 0., 0., 0., 1., 0., 0., 0.],\n",
       "       [0., 1., 0., 0., 0., 0., 0., 1., 0., 0.],\n",
       "       [0., 1., 0., 0., 0., 0., 0., 0., 1., 0.],\n",
       "       [0., 1., 0., 0., 0., 0., 0., 0., 0., 1.],\n",
       "       [0., 0., 1., 0., 0., 1., 0., 0., 0., 0.],\n",
       "       [0., 0., 1., 0., 0., 0., 1., 0., 0., 0.],\n",
       "       [0., 0., 1., 0., 0., 0., 0., 1., 0., 0.],\n",
       "       [0., 0., 1., 0., 0., 0., 0., 0., 1., 0.],\n",
       "       [0., 0., 1., 0., 0., 0., 0., 0., 0., 1.],\n",
       "       [0., 0., 0., 1., 0., 1., 0., 0., 0., 0.],\n",
       "       [0., 0., 0., 1., 0., 0., 1., 0., 0., 0.],\n",
       "       [0., 0., 0., 1., 0., 0., 0., 1., 0., 0.],\n",
       "       [0., 0., 0., 1., 0., 0., 0., 0., 1., 0.],\n",
       "       [0., 0., 0., 1., 0., 0., 0., 0., 0., 1.],\n",
       "       [0., 0., 0., 0., 1., 1., 0., 0., 0., 0.],\n",
       "       [0., 0., 0., 0., 1., 0., 1., 0., 0., 0.],\n",
       "       [0., 0., 0., 0., 1., 0., 0., 1., 0., 0.],\n",
       "       [0., 0., 0., 0., 1., 0., 0., 0., 1., 0.],\n",
       "       [0., 0., 0., 0., 1., 0., 0., 0., 0., 1.]])"
      ]
     },
     "execution_count": 30,
     "metadata": {},
     "output_type": "execute_result"
    }
   ],
   "source": [
    "constraints"
   ]
  },
  {
   "cell_type": "code",
   "execution_count": null,
   "metadata": {},
   "outputs": [],
   "source": []
  },
  {
   "cell_type": "code",
   "execution_count": 12,
   "metadata": {},
   "outputs": [
    {
     "data": {
      "text/plain": [
       "array([1., 1., 1., 1., 1., 1., 1., 1., 1., 1.])"
      ]
     },
     "execution_count": 12,
     "metadata": {},
     "output_type": "execute_result"
    }
   ],
   "source": [
    "np.sum(res.x.reshape(m,n), axis=0)"
   ]
  },
  {
   "cell_type": "code",
   "execution_count": null,
   "metadata": {
    "collapsed": true
   },
   "outputs": [],
   "source": []
  }
 ],
 "metadata": {
  "kernelspec": {
   "display_name": "Python 2",
   "language": "python",
   "name": "python2"
  },
  "language_info": {
   "codemirror_mode": {
    "name": "ipython",
    "version": 2
   },
   "file_extension": ".py",
   "mimetype": "text/x-python",
   "name": "python",
   "nbconvert_exporter": "python",
   "pygments_lexer": "ipython2",
   "version": "2.7.13"
  }
 },
 "nbformat": 4,
 "nbformat_minor": 2
}
